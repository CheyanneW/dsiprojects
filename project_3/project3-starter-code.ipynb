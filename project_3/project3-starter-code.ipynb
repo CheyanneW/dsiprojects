{
 "cells": [
  {
   "cell_type": "markdown",
   "metadata": {},
   "source": [
    "# Project 3"
   ]
  },
  {
   "cell_type": "markdown",
   "metadata": {},
   "source": [
    "## Problem Statement\n",
    "\n",
    "We are a non-profit organisation that provides support to women who are trying to conceive. To some people, it is a difficult journey to take and can be a very stressful period. We routinely share useful articles about women's health, type of diet that prepares the body, and also recommend products that they need. We also have a panel of professionals doctors and counsellors whom they can consult and also host sharing sessions between women to give support to one another. Another group of women that we would like to focus on will be mummies who have experienced a miscarriage. The experience can be traumatizing and some of them maybe overwhelmed by grief. We aim to provide them with proper care physically and mentally and have a smooth transition to join the group who is trying to conceive again. We wish to build a model that enables us to identify this group of women through their messages on various social media platform and reach out to them via advertisements."
   ]
  },
  {
   "cell_type": "markdown",
   "metadata": {},
   "source": [
    "## Executive Summary\n",
    "\n",
    "We first obtain our data from two subreddits, r/TryingToConceive and r/Miscarriage by extracting the json text. In total, we started off with 1754 posts distributed evenly between the two groups. After cleaning the text, the number of posts reduced to 1703 posts with 48.6% belonging to the group r/Miscarriage. We look at some of the text and do a quick analyse of the text before building our model. We tested with using two different transformers (count vectorizer and TFIDF vectorizer) and apply them on four different classifier model to compare with model gave us the best predictions.  The following table shows the results from the various models.\n",
    "\n",
    "|MODEL|CV R2|Train R2|Test R2|\n",
    "|---|---|---|---|\n",
    "|Pipeline Model 1 (Count vectorizer + Logistic Regression)|\t0.89292|\t0.99835|\t0.90403|\n",
    "|Pipeline Model 1b (TFIDF vectorizer + Logistic Regression)|\t0.89950|\t0.96128|\t0.92706|\n",
    "|GridSearchCV (Count vectorizer + Logistic Regression)|\t0.90115|\t0.99835|\t0.91171|\n",
    "|Pipeline Model 2 (Count vectorizer + KNN)|\t0.71254|\t0.86079|\t0.74664|\n",
    "|Pipeline Model 2b (TFIDF vectorizer + KNN)|\t0.83607|\t0.90362|\t0.85988|\n",
    "|Pipeline Model 3 (Count vectorizer + SVM)|\t0.87974|\t0.95057|\t0.90211|\n",
    "|Pipeline Model 3b (TFIDF vectorizer + SVM)|\t0.90197|\t0.99671|\t0.92898|\n",
    "|GridSearchCV (Count vectorizer + SVM)|\t0.88716|\t0.95387|\t0.91938|\n",
    "|Pipeline Model 4 (Count vectorizer + Naive Bayes)|\t0.89455|\t0.94975|\t0.91746|\n",
    "|Pipeline Model 4b (TFIDF vectorizer + Naive Bayes)|\t0.87807|\t0.93657|\t0.90403|\n",
    "|GridSearchCV (Count vectorizer + Naive Bayes)|\t0.90361|\t0.93657|\t0.92898|\n",
    "\n",
    "\n",
    "We shortlisted down to two models, which is the Count Vectorizer + SVM and also Count Vectorizer + Naive Bayes, and did evaluation based on them. Indeed, the one with Naive Bayes model gave a higher accuracy in predicting whether women are trying to conceive or experienced a miscarriage. With this model, we are able to identify correctly 91.6% of the posts and target the right advertisements to this group to join our community."
   ]
  },
  {
   "cell_type": "markdown",
   "metadata": {},
   "source": [
    "### Contents:\n",
    "- [1. Gather Data](#1.-Gather-Data)\n",
    "- [2. Cleaning the Data](#2.-Cleaning-the-Data)\n",
    "- [3. EDA](#3.-EDA)\n",
    "- [4. Modelling](#4.-Modelling)\n",
    "- [5. Model Evalution](#5.-Model-Evalution)\n",
    "- [6. Key Obervations and Conclusion](#6.-Key-Obervations-and-Conclusion)\n",
    "\n",
    "### Data Dictionary\n",
    "|Feature|Datatype|Description|\n",
    "|:------|:-------|:-----|\n",
    "|subreddit|object|The subreddit that posts originally belongs to|\n",
    "|selftext|object|Original text posted by users|\n",
    "|name|object|unique user name|\n",
    "|cleantext|object|Cleaned text used for modelling|\n",
    "|text_len|int|Length of each post|\n",
    "|label|int|1 for TryingForABay, 0 for Miscarriage|"
   ]
  },
  {
   "cell_type": "code",
   "execution_count": 1,
   "metadata": {},
   "outputs": [],
   "source": [
    "# Import all relevant libraries\n",
    "\n",
    "import requests\n",
    "import time\n",
    "import pandas as pd\n",
    "import numpy as np\n",
    "\n",
    "import matplotlib.pyplot as plt\n",
    "import seaborn as sns\n",
    "from wordcloud import WordCloud\n",
    "\n",
    "import nltk\n",
    "from nltk.stem import WordNetLemmatizer\n",
    "from nltk.stem.porter import PorterStemmer\n",
    "from nltk.corpus import stopwords\n",
    "\n",
    "import regex as re\n",
    "from bs4 import BeautifulSoup  \n",
    "\n",
    "from sklearn.model_selection import cross_val_score, train_test_split, GridSearchCV\n",
    "from sklearn.feature_extraction.text import CountVectorizer, TfidfVectorizer\n",
    "from sklearn.pipeline import Pipeline\n",
    "from sklearn.linear_model import LogisticRegression\n",
    "from sklearn.neighbors import KNeighborsClassifier\n",
    "from sklearn.svm import SVC\n",
    "from sklearn.naive_bayes import MultinomialNB\n",
    "from sklearn.metrics import confusion_matrix, plot_confusion_matrix\n"
   ]
  },
  {
   "cell_type": "markdown",
   "metadata": {},
   "source": [
    "## 1. Gather Data"
   ]
  },
  {
   "cell_type": "code",
   "execution_count": 2,
   "metadata": {},
   "outputs": [],
   "source": [
    "headers = {'User-agent': 'Bingle Bangle'}"
   ]
  },
  {
   "cell_type": "code",
   "execution_count": 3,
   "metadata": {},
   "outputs": [
    {
     "name": "stdout",
     "output_type": "stream",
     "text": [
      "0\n",
      "5\n",
      "10\n",
      "15\n",
      "20\n",
      "25\n",
      "30\n",
      "Done\n"
     ]
    }
   ],
   "source": [
    "# Extracting json text from subreddit r/TryingForABaby\n",
    "\n",
    "posts = []\n",
    "after = None\n",
    "for i in range(35):\n",
    "    if after == None:\n",
    "        params = {}\n",
    "    else:\n",
    "        params = {'after': after}\n",
    "        \n",
    "    url = 'https://www.reddit.com/r/TryingForABaby/.json'\n",
    "    res = requests.get(url, params=params, headers=headers)\n",
    "    if res.status_code == 200:\n",
    "        json_1 = res.json()\n",
    "        posts.extend(json_1['data']['children'])\n",
    "        after = json_1['data']['after']\n",
    "    else:\n",
    "        print (res.status_code)\n",
    "        break\n",
    "    if i%5==0:\n",
    "        print (i)    \n",
    "    time.sleep(1)\n",
    "print ('Done')"
   ]
  },
  {
   "cell_type": "code",
   "execution_count": 4,
   "metadata": {},
   "outputs": [
    {
     "data": {
      "text/plain": [
       "877"
      ]
     },
     "execution_count": 4,
     "metadata": {},
     "output_type": "execute_result"
    }
   ],
   "source": [
    "# Check number of posts obtained\n",
    "len(set([p['data']['name'] for p in posts]))"
   ]
  },
  {
   "cell_type": "code",
   "execution_count": 5,
   "metadata": {},
   "outputs": [
    {
     "data": {
      "text/plain": [
       "{'kind': 't3',\n",
       " 'data': {'approved_at_utc': None,\n",
       "  'subreddit': 'TryingForABaby',\n",
       "  'selftext': 'I legitimately don’t understand how people can NTNP. It just feels very black and white to me. You are either trying or avoiding. There is no in between.\\n\\nI’m only 3 cycles into TTC and I have zero chill. I’m 32 years old and probably a certifiable crazy person. \\n\\nI’ve got 6 years of cycle data in my Clue app. FAM has been my primary birth control for around 9 years. Since I’ve been acutely aware of my cycle periods for so long I cannot conceive of just not knowing when I was fertile. \\n\\nI’ve been charting ovulation with OPKs for a year because my cycle got a little messed up after major weight loss. Those little sticks just made me greedy to gather even more data. Plus, i bought the giant box from Amazon so I figured i might as well use them. I broke down and bought a Tempdrop when we officially started trying because I wasn’t fully confident in my manual BBT skills. I’m a neurotic mess who overprepares for everything so I’m not sure why I thought trying to have a baby would be different. \\n\\nI’m trying to imagine a world where I was chill enough to NTNP. I’m trying to imagine a world where I wasn’t hyper aware of my cycle so that I could just “let it happen” I feel like these people are on another level of existence. Damn, I wish I could be one of them.',\n",
       "  'author_fullname': 't2_81l5h4dn',\n",
       "  'saved': False,\n",
       "  'mod_reason_title': None,\n",
       "  'gilded': 0,\n",
       "  'clicked': False,\n",
       "  'title': 'I can’t wrap my head around NTNP',\n",
       "  'link_flair_richtext': [],\n",
       "  'subreddit_name_prefixed': 'r/TryingForABaby',\n",
       "  'hidden': False,\n",
       "  'pwls': 6,\n",
       "  'link_flair_css_class': 'orange',\n",
       "  'downs': 0,\n",
       "  'thumbnail_height': None,\n",
       "  'top_awarded_type': None,\n",
       "  'hide_score': False,\n",
       "  'name': 't3_iq98qu',\n",
       "  'quarantine': False,\n",
       "  'link_flair_text_color': 'dark',\n",
       "  'upvote_ratio': 0.84,\n",
       "  'author_flair_background_color': None,\n",
       "  'subreddit_type': 'public',\n",
       "  'ups': 40,\n",
       "  'total_awards_received': 0,\n",
       "  'media_embed': {},\n",
       "  'thumbnail_width': None,\n",
       "  'author_flair_template_id': '97d4baca-4748-11e1-91cf-12313d096aae',\n",
       "  'is_original_content': False,\n",
       "  'user_reports': [],\n",
       "  'secure_media': None,\n",
       "  'is_reddit_media_domain': False,\n",
       "  'is_meta': False,\n",
       "  'category': None,\n",
       "  'secure_media_embed': {},\n",
       "  'link_flair_text': 'INTRO',\n",
       "  'can_mod_post': False,\n",
       "  'score': 40,\n",
       "  'approved_by': None,\n",
       "  'author_premium': False,\n",
       "  'thumbnail': 'self',\n",
       "  'edited': False,\n",
       "  'author_flair_css_class': None,\n",
       "  'author_flair_richtext': [],\n",
       "  'gildings': {},\n",
       "  'content_categories': None,\n",
       "  'is_self': True,\n",
       "  'mod_note': None,\n",
       "  'created': 1599791596.0,\n",
       "  'link_flair_type': 'text',\n",
       "  'wls': 6,\n",
       "  'removed_by_category': None,\n",
       "  'banned_by': None,\n",
       "  'author_flair_type': 'text',\n",
       "  'domain': 'self.TryingForABaby',\n",
       "  'allow_live_comments': True,\n",
       "  'selftext_html': '&lt;!-- SC_OFF --&gt;&lt;div class=\"md\"&gt;&lt;p&gt;I legitimately don’t understand how people can NTNP. It just feels very black and white to me. You are either trying or avoiding. There is no in between.&lt;/p&gt;\\n\\n&lt;p&gt;I’m only 3 cycles into TTC and I have zero chill. I’m 32 years old and probably a certifiable crazy person. &lt;/p&gt;\\n\\n&lt;p&gt;I’ve got 6 years of cycle data in my Clue app. FAM has been my primary birth control for around 9 years. Since I’ve been acutely aware of my cycle periods for so long I cannot conceive of just not knowing when I was fertile. &lt;/p&gt;\\n\\n&lt;p&gt;I’ve been charting ovulation with OPKs for a year because my cycle got a little messed up after major weight loss. Those little sticks just made me greedy to gather even more data. Plus, i bought the giant box from Amazon so I figured i might as well use them. I broke down and bought a Tempdrop when we officially started trying because I wasn’t fully confident in my manual BBT skills. I’m a neurotic mess who overprepares for everything so I’m not sure why I thought trying to have a baby would be different. &lt;/p&gt;\\n\\n&lt;p&gt;I’m trying to imagine a world where I was chill enough to NTNP. I’m trying to imagine a world where I wasn’t hyper aware of my cycle so that I could just “let it happen” I feel like these people are on another level of existence. Damn, I wish I could be one of them.&lt;/p&gt;\\n&lt;/div&gt;&lt;!-- SC_ON --&gt;',\n",
       "  'likes': None,\n",
       "  'suggested_sort': None,\n",
       "  'banned_at_utc': None,\n",
       "  'view_count': None,\n",
       "  'archived': False,\n",
       "  'no_follow': False,\n",
       "  'is_crosspostable': False,\n",
       "  'pinned': False,\n",
       "  'over_18': False,\n",
       "  'all_awardings': [],\n",
       "  'awarders': [],\n",
       "  'media_only': False,\n",
       "  'link_flair_template_id': 'b918be88-5273-11e3-88fe-12313b0111fc',\n",
       "  'can_gild': False,\n",
       "  'spoiler': False,\n",
       "  'locked': False,\n",
       "  'author_flair_text': '32 | TTC# 1 | Cycle #3',\n",
       "  'treatment_tags': [],\n",
       "  'visited': False,\n",
       "  'removed_by': None,\n",
       "  'num_reports': None,\n",
       "  'distinguished': None,\n",
       "  'subreddit_id': 't5_2sil5',\n",
       "  'mod_reason_by': None,\n",
       "  'removal_reason': None,\n",
       "  'link_flair_background_color': '',\n",
       "  'id': 'iq98qu',\n",
       "  'is_robot_indexable': True,\n",
       "  'report_reasons': None,\n",
       "  'author': 'horriblegoose_',\n",
       "  'discussion_type': None,\n",
       "  'num_comments': 53,\n",
       "  'send_replies': True,\n",
       "  'whitelist_status': 'all_ads',\n",
       "  'contest_mode': False,\n",
       "  'mod_reports': [],\n",
       "  'author_patreon_flair': False,\n",
       "  'author_flair_text_color': 'dark',\n",
       "  'permalink': '/r/TryingForABaby/comments/iq98qu/i_cant_wrap_my_head_around_ntnp/',\n",
       "  'parent_whitelist_status': 'all_ads',\n",
       "  'stickied': False,\n",
       "  'url': 'https://www.reddit.com/r/TryingForABaby/comments/iq98qu/i_cant_wrap_my_head_around_ntnp/',\n",
       "  'subreddit_subscribers': 59404,\n",
       "  'created_utc': 1599762796.0,\n",
       "  'num_crossposts': 0,\n",
       "  'media': None,\n",
       "  'is_video': False}}"
      ]
     },
     "execution_count": 5,
     "metadata": {},
     "output_type": "execute_result"
    }
   ],
   "source": [
    "posts[2]"
   ]
  },
  {
   "cell_type": "code",
   "execution_count": 6,
   "metadata": {},
   "outputs": [
    {
     "name": "stdout",
     "output_type": "stream",
     "text": [
      "0\n",
      "5\n",
      "10\n",
      "15\n",
      "20\n",
      "25\n",
      "30\n",
      "Done\n"
     ]
    }
   ],
   "source": [
    "# Extracting json from subreddit r/Miscarriage\n",
    "\n",
    "after = None\n",
    "for i in range(35):\n",
    "    if after == None:\n",
    "        params = {}\n",
    "    else:\n",
    "        params = {'after': after}\n",
    "        \n",
    "    url = 'https://www.reddit.com/r/Miscarriage/.json'\n",
    "    res = requests.get(url, params=params, headers=headers)\n",
    "    if res.status_code == 200:\n",
    "        json_1 = res.json()\n",
    "        posts.extend(json_1['data']['children'])\n",
    "        after = json_1['data']['after']\n",
    "    else:\n",
    "        print (res.status_code)\n",
    "        break\n",
    "    if i%5==0:\n",
    "        print (i)    \n",
    "    time.sleep(1)\n",
    "print ('Done')"
   ]
  },
  {
   "cell_type": "code",
   "execution_count": 7,
   "metadata": {},
   "outputs": [
    {
     "data": {
      "text/plain": [
       "1754"
      ]
     },
     "execution_count": 7,
     "metadata": {},
     "output_type": "execute_result"
    }
   ],
   "source": [
    "# Check total number of posts obtained\n",
    "len(set([p['data']['name'] for p in posts]))"
   ]
  },
  {
   "cell_type": "code",
   "execution_count": 8,
   "metadata": {
    "scrolled": false
   },
   "outputs": [
    {
     "data": {
      "text/plain": [
       "{'kind': 't3',\n",
       " 'data': {'approved_at_utc': None,\n",
       "  'subreddit': 'Miscarriage',\n",
       "  'selftext': 'How are you and your partner handling your miscarriage? I love my husband but it’s very difficult for him to understand what I’m going through. He can’t understand the pain, both physical and emotional. The fact that I had something growing inside of me and now it’s dying inside of me. I try to explain it to him but it’s difficult. \\n\\nI’ll admit I get frustrated and snappy at times. I’ve found myself sitting in my bedroom alone because I just want to be alone. I get angry because he just doesn’t get it. I don’t want to feel or act this way but I do. Anyone else? Hoping I’m not just a bitch haha',\n",
       "  'author_fullname': 't2_48hxkuf0',\n",
       "  'saved': False,\n",
       "  'mod_reason_title': None,\n",
       "  'gilded': 0,\n",
       "  'clicked': False,\n",
       "  'title': 'How is your relationship during this time',\n",
       "  'link_flair_richtext': [],\n",
       "  'subreddit_name_prefixed': 'r/Miscarriage',\n",
       "  'hidden': False,\n",
       "  'pwls': 0,\n",
       "  'link_flair_css_class': '',\n",
       "  'downs': 0,\n",
       "  'top_awarded_type': None,\n",
       "  'hide_score': False,\n",
       "  'name': 't3_hn8oyu',\n",
       "  'quarantine': False,\n",
       "  'link_flair_text_color': 'dark',\n",
       "  'upvote_ratio': 1.0,\n",
       "  'author_flair_background_color': None,\n",
       "  'subreddit_type': 'public',\n",
       "  'ups': 9,\n",
       "  'total_awards_received': 0,\n",
       "  'media_embed': {},\n",
       "  'author_flair_template_id': None,\n",
       "  'is_original_content': False,\n",
       "  'user_reports': [],\n",
       "  'secure_media': None,\n",
       "  'is_reddit_media_domain': False,\n",
       "  'is_meta': False,\n",
       "  'category': None,\n",
       "  'secure_media_embed': {},\n",
       "  'link_flair_text': 'question/need help',\n",
       "  'can_mod_post': False,\n",
       "  'score': 9,\n",
       "  'approved_by': None,\n",
       "  'author_premium': False,\n",
       "  'thumbnail': '',\n",
       "  'edited': False,\n",
       "  'author_flair_css_class': None,\n",
       "  'author_flair_richtext': [],\n",
       "  'gildings': {},\n",
       "  'content_categories': None,\n",
       "  'is_self': True,\n",
       "  'mod_note': None,\n",
       "  'created': 1594204264.0,\n",
       "  'link_flair_type': 'text',\n",
       "  'wls': 0,\n",
       "  'removed_by_category': None,\n",
       "  'banned_by': None,\n",
       "  'author_flair_type': 'text',\n",
       "  'domain': 'self.Miscarriage',\n",
       "  'allow_live_comments': False,\n",
       "  'selftext_html': '&lt;!-- SC_OFF --&gt;&lt;div class=\"md\"&gt;&lt;p&gt;How are you and your partner handling your miscarriage? I love my husband but it’s very difficult for him to understand what I’m going through. He can’t understand the pain, both physical and emotional. The fact that I had something growing inside of me and now it’s dying inside of me. I try to explain it to him but it’s difficult. &lt;/p&gt;\\n\\n&lt;p&gt;I’ll admit I get frustrated and snappy at times. I’ve found myself sitting in my bedroom alone because I just want to be alone. I get angry because he just doesn’t get it. I don’t want to feel or act this way but I do. Anyone else? Hoping I’m not just a bitch haha&lt;/p&gt;\\n&lt;/div&gt;&lt;!-- SC_ON --&gt;',\n",
       "  'likes': None,\n",
       "  'suggested_sort': None,\n",
       "  'banned_at_utc': None,\n",
       "  'view_count': None,\n",
       "  'archived': False,\n",
       "  'no_follow': False,\n",
       "  'is_crosspostable': False,\n",
       "  'pinned': False,\n",
       "  'over_18': False,\n",
       "  'all_awardings': [],\n",
       "  'awarders': [],\n",
       "  'media_only': False,\n",
       "  'link_flair_template_id': '295b4e52-6f75-11ea-89f9-0ecbfa1d42bb',\n",
       "  'can_gild': False,\n",
       "  'spoiler': False,\n",
       "  'locked': False,\n",
       "  'author_flair_text': None,\n",
       "  'treatment_tags': [],\n",
       "  'visited': False,\n",
       "  'removed_by': None,\n",
       "  'num_reports': None,\n",
       "  'distinguished': None,\n",
       "  'subreddit_id': 't5_2svyr',\n",
       "  'mod_reason_by': None,\n",
       "  'removal_reason': None,\n",
       "  'link_flair_background_color': '#24a0ed',\n",
       "  'id': 'hn8oyu',\n",
       "  'is_robot_indexable': True,\n",
       "  'report_reasons': None,\n",
       "  'author': 'winevodka94',\n",
       "  'discussion_type': None,\n",
       "  'num_comments': 5,\n",
       "  'send_replies': True,\n",
       "  'whitelist_status': 'no_ads',\n",
       "  'contest_mode': False,\n",
       "  'mod_reports': [],\n",
       "  'author_patreon_flair': False,\n",
       "  'author_flair_text_color': None,\n",
       "  'permalink': '/r/Miscarriage/comments/hn8oyu/how_is_your_relationship_during_this_time/',\n",
       "  'parent_whitelist_status': 'no_ads',\n",
       "  'stickied': False,\n",
       "  'url': 'https://www.reddit.com/r/Miscarriage/comments/hn8oyu/how_is_your_relationship_during_this_time/',\n",
       "  'subreddit_subscribers': 7639,\n",
       "  'created_utc': 1594175464.0,\n",
       "  'num_crossposts': 0,\n",
       "  'media': None,\n",
       "  'is_video': False}}"
      ]
     },
     "execution_count": 8,
     "metadata": {},
     "output_type": "execute_result"
    }
   ],
   "source": [
    "posts[-2]"
   ]
  },
  {
   "cell_type": "code",
   "execution_count": 9,
   "metadata": {},
   "outputs": [],
   "source": [
    "# keeping the data portion of json text\n",
    "posts_data = []\n",
    "for i in range(len(posts)):\n",
    "    posts_data.append(posts[i]['data'])"
   ]
  },
  {
   "cell_type": "code",
   "execution_count": 10,
   "metadata": {},
   "outputs": [
    {
     "data": {
      "text/plain": [
       "1754"
      ]
     },
     "execution_count": 10,
     "metadata": {},
     "output_type": "execute_result"
    }
   ],
   "source": [
    "len(posts_data)"
   ]
  },
  {
   "cell_type": "code",
   "execution_count": 11,
   "metadata": {},
   "outputs": [
    {
     "data": {
      "text/html": [
       "<div>\n",
       "<style scoped>\n",
       "    .dataframe tbody tr th:only-of-type {\n",
       "        vertical-align: middle;\n",
       "    }\n",
       "\n",
       "    .dataframe tbody tr th {\n",
       "        vertical-align: top;\n",
       "    }\n",
       "\n",
       "    .dataframe thead th {\n",
       "        text-align: right;\n",
       "    }\n",
       "</style>\n",
       "<table border=\"1\" class=\"dataframe\">\n",
       "  <thead>\n",
       "    <tr style=\"text-align: right;\">\n",
       "      <th></th>\n",
       "      <th>approved_at_utc</th>\n",
       "      <th>subreddit</th>\n",
       "      <th>selftext</th>\n",
       "      <th>author_fullname</th>\n",
       "      <th>saved</th>\n",
       "      <th>mod_reason_title</th>\n",
       "      <th>gilded</th>\n",
       "      <th>clicked</th>\n",
       "      <th>title</th>\n",
       "      <th>link_flair_richtext</th>\n",
       "      <th>...</th>\n",
       "      <th>subreddit_subscribers</th>\n",
       "      <th>created_utc</th>\n",
       "      <th>num_crossposts</th>\n",
       "      <th>media</th>\n",
       "      <th>is_video</th>\n",
       "      <th>link_flair_template_id</th>\n",
       "      <th>author_cakeday</th>\n",
       "      <th>url_overridden_by_dest</th>\n",
       "      <th>crosspost_parent_list</th>\n",
       "      <th>crosspost_parent</th>\n",
       "    </tr>\n",
       "  </thead>\n",
       "  <tbody>\n",
       "    <tr>\n",
       "      <th>0</th>\n",
       "      <td>None</td>\n",
       "      <td>TryingForABaby</td>\n",
       "      <td>#Welcome to the Weekly Intro Thread!\\n\\nHello!...</td>\n",
       "      <td>t2_6l4z3</td>\n",
       "      <td>False</td>\n",
       "      <td>None</td>\n",
       "      <td>0</td>\n",
       "      <td>False</td>\n",
       "      <td>READ ME FIRST! Weekly Intro + Rules Thread Sep...</td>\n",
       "      <td>[]</td>\n",
       "      <td>...</td>\n",
       "      <td>59404</td>\n",
       "      <td>1.599391e+09</td>\n",
       "      <td>0</td>\n",
       "      <td>None</td>\n",
       "      <td>False</td>\n",
       "      <td>NaN</td>\n",
       "      <td>NaN</td>\n",
       "      <td>NaN</td>\n",
       "      <td>NaN</td>\n",
       "      <td>NaN</td>\n",
       "    </tr>\n",
       "    <tr>\n",
       "      <th>1</th>\n",
       "      <td>None</td>\n",
       "      <td>TryingForABaby</td>\n",
       "      <td>Congratulations on starting a new journey post...</td>\n",
       "      <td>t2_6l4z3</td>\n",
       "      <td>False</td>\n",
       "      <td>None</td>\n",
       "      <td>0</td>\n",
       "      <td>False</td>\n",
       "      <td>TFAB's Weekly BFP Post - September 06, 2020. G...</td>\n",
       "      <td>[]</td>\n",
       "      <td>...</td>\n",
       "      <td>59404</td>\n",
       "      <td>1.599390e+09</td>\n",
       "      <td>0</td>\n",
       "      <td>None</td>\n",
       "      <td>False</td>\n",
       "      <td>NaN</td>\n",
       "      <td>NaN</td>\n",
       "      <td>NaN</td>\n",
       "      <td>NaN</td>\n",
       "      <td>NaN</td>\n",
       "    </tr>\n",
       "    <tr>\n",
       "      <th>2</th>\n",
       "      <td>None</td>\n",
       "      <td>TryingForABaby</td>\n",
       "      <td>I legitimately don’t understand how people can...</td>\n",
       "      <td>t2_81l5h4dn</td>\n",
       "      <td>False</td>\n",
       "      <td>None</td>\n",
       "      <td>0</td>\n",
       "      <td>False</td>\n",
       "      <td>I can’t wrap my head around NTNP</td>\n",
       "      <td>[]</td>\n",
       "      <td>...</td>\n",
       "      <td>59404</td>\n",
       "      <td>1.599763e+09</td>\n",
       "      <td>0</td>\n",
       "      <td>None</td>\n",
       "      <td>False</td>\n",
       "      <td>b918be88-5273-11e3-88fe-12313b0111fc</td>\n",
       "      <td>NaN</td>\n",
       "      <td>NaN</td>\n",
       "      <td>NaN</td>\n",
       "      <td>NaN</td>\n",
       "    </tr>\n",
       "    <tr>\n",
       "      <th>3</th>\n",
       "      <td>None</td>\n",
       "      <td>TryingForABaby</td>\n",
       "      <td>I know that depo didn't like you, so you went ...</td>\n",
       "      <td>t2_4ex3mduc</td>\n",
       "      <td>False</td>\n",
       "      <td>None</td>\n",
       "      <td>0</td>\n",
       "      <td>False</td>\n",
       "      <td>Listen Aunt Flo</td>\n",
       "      <td>[]</td>\n",
       "      <td>...</td>\n",
       "      <td>59404</td>\n",
       "      <td>1.599734e+09</td>\n",
       "      <td>0</td>\n",
       "      <td>None</td>\n",
       "      <td>False</td>\n",
       "      <td>1cd437fe-5274-11e3-819b-12313b0111fc</td>\n",
       "      <td>NaN</td>\n",
       "      <td>NaN</td>\n",
       "      <td>NaN</td>\n",
       "      <td>NaN</td>\n",
       "    </tr>\n",
       "    <tr>\n",
       "      <th>4</th>\n",
       "      <td>None</td>\n",
       "      <td>TryingForABaby</td>\n",
       "      <td>Just a quick lament.. why, just why, does it s...</td>\n",
       "      <td>t2_5eeysmzk</td>\n",
       "      <td>False</td>\n",
       "      <td>None</td>\n",
       "      <td>0</td>\n",
       "      <td>False</td>\n",
       "      <td>F* facebook</td>\n",
       "      <td>[]</td>\n",
       "      <td>...</td>\n",
       "      <td>59404</td>\n",
       "      <td>1.599768e+09</td>\n",
       "      <td>0</td>\n",
       "      <td>None</td>\n",
       "      <td>False</td>\n",
       "      <td>b688dbb2-5273-11e3-ad66-12313b079641</td>\n",
       "      <td>NaN</td>\n",
       "      <td>NaN</td>\n",
       "      <td>NaN</td>\n",
       "      <td>NaN</td>\n",
       "    </tr>\n",
       "  </tbody>\n",
       "</table>\n",
       "<p>5 rows × 111 columns</p>\n",
       "</div>"
      ],
      "text/plain": [
       "  approved_at_utc       subreddit  \\\n",
       "0            None  TryingForABaby   \n",
       "1            None  TryingForABaby   \n",
       "2            None  TryingForABaby   \n",
       "3            None  TryingForABaby   \n",
       "4            None  TryingForABaby   \n",
       "\n",
       "                                            selftext author_fullname  saved  \\\n",
       "0  #Welcome to the Weekly Intro Thread!\\n\\nHello!...        t2_6l4z3  False   \n",
       "1  Congratulations on starting a new journey post...        t2_6l4z3  False   \n",
       "2  I legitimately don’t understand how people can...     t2_81l5h4dn  False   \n",
       "3  I know that depo didn't like you, so you went ...     t2_4ex3mduc  False   \n",
       "4  Just a quick lament.. why, just why, does it s...     t2_5eeysmzk  False   \n",
       "\n",
       "  mod_reason_title  gilded  clicked  \\\n",
       "0             None       0    False   \n",
       "1             None       0    False   \n",
       "2             None       0    False   \n",
       "3             None       0    False   \n",
       "4             None       0    False   \n",
       "\n",
       "                                               title link_flair_richtext  ...  \\\n",
       "0  READ ME FIRST! Weekly Intro + Rules Thread Sep...                  []  ...   \n",
       "1  TFAB's Weekly BFP Post - September 06, 2020. G...                  []  ...   \n",
       "2                   I can’t wrap my head around NTNP                  []  ...   \n",
       "3                                    Listen Aunt Flo                  []  ...   \n",
       "4                                        F* facebook                  []  ...   \n",
       "\n",
       "  subreddit_subscribers   created_utc  num_crossposts media  is_video  \\\n",
       "0                 59404  1.599391e+09               0  None     False   \n",
       "1                 59404  1.599390e+09               0  None     False   \n",
       "2                 59404  1.599763e+09               0  None     False   \n",
       "3                 59404  1.599734e+09               0  None     False   \n",
       "4                 59404  1.599768e+09               0  None     False   \n",
       "\n",
       "                 link_flair_template_id author_cakeday  \\\n",
       "0                                   NaN            NaN   \n",
       "1                                   NaN            NaN   \n",
       "2  b918be88-5273-11e3-88fe-12313b0111fc            NaN   \n",
       "3  1cd437fe-5274-11e3-819b-12313b0111fc            NaN   \n",
       "4  b688dbb2-5273-11e3-ad66-12313b079641            NaN   \n",
       "\n",
       "   url_overridden_by_dest crosspost_parent_list  crosspost_parent  \n",
       "0                     NaN                   NaN               NaN  \n",
       "1                     NaN                   NaN               NaN  \n",
       "2                     NaN                   NaN               NaN  \n",
       "3                     NaN                   NaN               NaN  \n",
       "4                     NaN                   NaN               NaN  \n",
       "\n",
       "[5 rows x 111 columns]"
      ]
     },
     "execution_count": 11,
     "metadata": {},
     "output_type": "execute_result"
    }
   ],
   "source": [
    "# Creating a dataframe to visualize the information\n",
    "df = pd.DataFrame(posts_data)\n",
    "df.head()"
   ]
  },
  {
   "cell_type": "code",
   "execution_count": 12,
   "metadata": {},
   "outputs": [],
   "source": [
    "# identifying the columns that we want to keep\n",
    "wanted = ['subreddit','selftext','name']"
   ]
  },
  {
   "cell_type": "code",
   "execution_count": 13,
   "metadata": {},
   "outputs": [
    {
     "data": {
      "text/html": [
       "<div>\n",
       "<style scoped>\n",
       "    .dataframe tbody tr th:only-of-type {\n",
       "        vertical-align: middle;\n",
       "    }\n",
       "\n",
       "    .dataframe tbody tr th {\n",
       "        vertical-align: top;\n",
       "    }\n",
       "\n",
       "    .dataframe thead th {\n",
       "        text-align: right;\n",
       "    }\n",
       "</style>\n",
       "<table border=\"1\" class=\"dataframe\">\n",
       "  <thead>\n",
       "    <tr style=\"text-align: right;\">\n",
       "      <th></th>\n",
       "      <th>subreddit</th>\n",
       "      <th>selftext</th>\n",
       "      <th>name</th>\n",
       "    </tr>\n",
       "  </thead>\n",
       "  <tbody>\n",
       "    <tr>\n",
       "      <th>0</th>\n",
       "      <td>TryingForABaby</td>\n",
       "      <td>#Welcome to the Weekly Intro Thread!\\n\\nHello!...</td>\n",
       "      <td>t3_ink9tj</td>\n",
       "    </tr>\n",
       "    <tr>\n",
       "      <th>1</th>\n",
       "      <td>TryingForABaby</td>\n",
       "      <td>Congratulations on starting a new journey post...</td>\n",
       "      <td>t3_ink9rd</td>\n",
       "    </tr>\n",
       "    <tr>\n",
       "      <th>2</th>\n",
       "      <td>TryingForABaby</td>\n",
       "      <td>I legitimately don’t understand how people can...</td>\n",
       "      <td>t3_iq98qu</td>\n",
       "    </tr>\n",
       "    <tr>\n",
       "      <th>3</th>\n",
       "      <td>TryingForABaby</td>\n",
       "      <td>I know that depo didn't like you, so you went ...</td>\n",
       "      <td>t3_iq0qw4</td>\n",
       "    </tr>\n",
       "    <tr>\n",
       "      <th>4</th>\n",
       "      <td>TryingForABaby</td>\n",
       "      <td>Just a quick lament.. why, just why, does it s...</td>\n",
       "      <td>t3_iqb0sg</td>\n",
       "    </tr>\n",
       "  </tbody>\n",
       "</table>\n",
       "</div>"
      ],
      "text/plain": [
       "        subreddit                                           selftext  \\\n",
       "0  TryingForABaby  #Welcome to the Weekly Intro Thread!\\n\\nHello!...   \n",
       "1  TryingForABaby  Congratulations on starting a new journey post...   \n",
       "2  TryingForABaby  I legitimately don’t understand how people can...   \n",
       "3  TryingForABaby  I know that depo didn't like you, so you went ...   \n",
       "4  TryingForABaby  Just a quick lament.. why, just why, does it s...   \n",
       "\n",
       "        name  \n",
       "0  t3_ink9tj  \n",
       "1  t3_ink9rd  \n",
       "2  t3_iq98qu  \n",
       "3  t3_iq0qw4  \n",
       "4  t3_iqb0sg  "
      ]
     },
     "execution_count": 13,
     "metadata": {},
     "output_type": "execute_result"
    }
   ],
   "source": [
    "train = df[wanted]\n",
    "train.head()"
   ]
  },
  {
   "cell_type": "code",
   "execution_count": 14,
   "metadata": {},
   "outputs": [
    {
     "data": {
      "text/html": [
       "<div>\n",
       "<style scoped>\n",
       "    .dataframe tbody tr th:only-of-type {\n",
       "        vertical-align: middle;\n",
       "    }\n",
       "\n",
       "    .dataframe tbody tr th {\n",
       "        vertical-align: top;\n",
       "    }\n",
       "\n",
       "    .dataframe thead th {\n",
       "        text-align: right;\n",
       "    }\n",
       "</style>\n",
       "<table border=\"1\" class=\"dataframe\">\n",
       "  <thead>\n",
       "    <tr style=\"text-align: right;\">\n",
       "      <th></th>\n",
       "      <th>subreddit</th>\n",
       "      <th>selftext</th>\n",
       "      <th>name</th>\n",
       "    </tr>\n",
       "  </thead>\n",
       "  <tbody>\n",
       "    <tr>\n",
       "      <th>1749</th>\n",
       "      <td>Miscarriage</td>\n",
       "      <td>I had my first miscarriage (first pregnancy) a...</td>\n",
       "      <td>t3_hn5vm7</td>\n",
       "    </tr>\n",
       "    <tr>\n",
       "      <th>1750</th>\n",
       "      <td>Miscarriage</td>\n",
       "      <td>Hi everyone, I took Misoprostol (3 x 200mcg ta...</td>\n",
       "      <td>t3_hngtny</td>\n",
       "    </tr>\n",
       "    <tr>\n",
       "      <th>1751</th>\n",
       "      <td>Miscarriage</td>\n",
       "      <td>I just want to say thank you to anyone who can...</td>\n",
       "      <td>t3_hncokw</td>\n",
       "    </tr>\n",
       "    <tr>\n",
       "      <th>1752</th>\n",
       "      <td>Miscarriage</td>\n",
       "      <td>How are you and your partner handling your mis...</td>\n",
       "      <td>t3_hn8oyu</td>\n",
       "    </tr>\n",
       "    <tr>\n",
       "      <th>1753</th>\n",
       "      <td>Miscarriage</td>\n",
       "      <td>I found out I was pregnant last Sunday. Honest...</td>\n",
       "      <td>t3_hnbstr</td>\n",
       "    </tr>\n",
       "  </tbody>\n",
       "</table>\n",
       "</div>"
      ],
      "text/plain": [
       "        subreddit                                           selftext  \\\n",
       "1749  Miscarriage  I had my first miscarriage (first pregnancy) a...   \n",
       "1750  Miscarriage  Hi everyone, I took Misoprostol (3 x 200mcg ta...   \n",
       "1751  Miscarriage  I just want to say thank you to anyone who can...   \n",
       "1752  Miscarriage  How are you and your partner handling your mis...   \n",
       "1753  Miscarriage  I found out I was pregnant last Sunday. Honest...   \n",
       "\n",
       "           name  \n",
       "1749  t3_hn5vm7  \n",
       "1750  t3_hngtny  \n",
       "1751  t3_hncokw  \n",
       "1752  t3_hn8oyu  \n",
       "1753  t3_hnbstr  "
      ]
     },
     "execution_count": 14,
     "metadata": {},
     "output_type": "execute_result"
    }
   ],
   "source": [
    "train.tail()"
   ]
  },
  {
   "cell_type": "code",
   "execution_count": 15,
   "metadata": {},
   "outputs": [
    {
     "data": {
      "text/plain": [
       "False"
      ]
     },
     "execution_count": 15,
     "metadata": {},
     "output_type": "execute_result"
    }
   ],
   "source": [
    "# Checking for duplicates\n",
    "dup = train.duplicated()\n",
    "dup.any()"
   ]
  },
  {
   "cell_type": "code",
   "execution_count": 16,
   "metadata": {},
   "outputs": [
    {
     "data": {
      "text/plain": [
       "1754"
      ]
     },
     "execution_count": 16,
     "metadata": {},
     "output_type": "execute_result"
    }
   ],
   "source": [
    "# all post are posted by unique users\n",
    "train['name'].nunique()"
   ]
  },
  {
   "cell_type": "code",
   "execution_count": 17,
   "metadata": {},
   "outputs": [],
   "source": [
    "# Dropping the first 2 rows as they are welcome messages and rules\n",
    "train = train.drop([0, 1])"
   ]
  },
  {
   "cell_type": "code",
   "execution_count": 18,
   "metadata": {},
   "outputs": [
    {
     "data": {
      "text/plain": [
       "(1752, 3)"
      ]
     },
     "execution_count": 18,
     "metadata": {},
     "output_type": "execute_result"
    }
   ],
   "source": [
    "train.shape"
   ]
  },
  {
   "cell_type": "code",
   "execution_count": 19,
   "metadata": {},
   "outputs": [
    {
     "data": {
      "text/html": [
       "<div>\n",
       "<style scoped>\n",
       "    .dataframe tbody tr th:only-of-type {\n",
       "        vertical-align: middle;\n",
       "    }\n",
       "\n",
       "    .dataframe tbody tr th {\n",
       "        vertical-align: top;\n",
       "    }\n",
       "\n",
       "    .dataframe thead th {\n",
       "        text-align: right;\n",
       "    }\n",
       "</style>\n",
       "<table border=\"1\" class=\"dataframe\">\n",
       "  <thead>\n",
       "    <tr style=\"text-align: right;\">\n",
       "      <th></th>\n",
       "      <th>subreddit</th>\n",
       "      <th>selftext</th>\n",
       "      <th>name</th>\n",
       "    </tr>\n",
       "  </thead>\n",
       "  <tbody>\n",
       "    <tr>\n",
       "      <th>877</th>\n",
       "      <td>Miscarriage</td>\n",
       "      <td>Please use this thread to talk about how you a...</td>\n",
       "      <td>t3_ijic8w</td>\n",
       "    </tr>\n",
       "    <tr>\n",
       "      <th>878</th>\n",
       "      <td>Miscarriage</td>\n",
       "      <td>Please use this thread to discuss how you are ...</td>\n",
       "      <td>t3_iodpz1</td>\n",
       "    </tr>\n",
       "    <tr>\n",
       "      <th>879</th>\n",
       "      <td>Miscarriage</td>\n",
       "      <td>My beloved best friend and husband told me and...</td>\n",
       "      <td>t3_iqbjmx</td>\n",
       "    </tr>\n",
       "  </tbody>\n",
       "</table>\n",
       "</div>"
      ],
      "text/plain": [
       "       subreddit                                           selftext       name\n",
       "877  Miscarriage  Please use this thread to talk about how you a...  t3_ijic8w\n",
       "878  Miscarriage  Please use this thread to discuss how you are ...  t3_iodpz1\n",
       "879  Miscarriage  My beloved best friend and husband told me and...  t3_iqbjmx"
      ]
     },
     "execution_count": 19,
     "metadata": {},
     "output_type": "execute_result"
    }
   ],
   "source": [
    "# Identifying the welcome message\n",
    "train.iloc[875:878,:]"
   ]
  },
  {
   "cell_type": "code",
   "execution_count": 20,
   "metadata": {},
   "outputs": [],
   "source": [
    "# Dropping the 2 rows of welcome message for r/Miscarriage\n",
    "train = train.drop([877, 878])"
   ]
  },
  {
   "cell_type": "code",
   "execution_count": 21,
   "metadata": {},
   "outputs": [
    {
     "data": {
      "text/plain": [
       "(1750, 3)"
      ]
     },
     "execution_count": 21,
     "metadata": {},
     "output_type": "execute_result"
    }
   ],
   "source": [
    "train.shape"
   ]
  },
  {
   "cell_type": "markdown",
   "metadata": {},
   "source": [
    "## 2. Cleaning the Data"
   ]
  },
  {
   "cell_type": "code",
   "execution_count": 22,
   "metadata": {},
   "outputs": [],
   "source": [
    "# Define a function to clean the selftext\n",
    "\n",
    "def review_words(raw_text):\n",
    "    # Function to convert a raw review to a string of words\n",
    "    # The input is a single string (a raw movie review), and \n",
    "    # the output is a single string (a preprocessed movie review)\n",
    "    \n",
    "    # 1. Remove HTML.\n",
    "    review_text = BeautifulSoup(raw_text).get_text()\n",
    "    \n",
    "    # 2. Remove non-letters.\n",
    "    letters_only = re.sub(\"[^a-zA-Z]\", \" \", review_text)\n",
    "    \n",
    "    # 3. Convert to lower case, split into individual words.\n",
    "    words = letters_only.lower().split()\n",
    "    \n",
    "    # 4. In Python, searching a set is much faster than searching\n",
    "    # a list, so convert the stopwords to a set.\n",
    "    stops = set(stopwords.words('english'))\n",
    "    \n",
    "    # 5. Remove stopwords.\n",
    "    meaningful_words = [w for w in words if w not in stops]\n",
    "    \n",
    "    # 5.5 stemming\n",
    "    p_stemmer = PorterStemmer()\n",
    "    meaningful_words_stemmed = [p_stemmer.stem(w) for w in meaningful_words]\n",
    "    \n",
    "    # 6. Join the words back into one string separated by space, \n",
    "    # and return the result.\n",
    "    return(\" \".join(meaningful_words_stemmed))"
   ]
  },
  {
   "cell_type": "code",
   "execution_count": 23,
   "metadata": {},
   "outputs": [
    {
     "name": "stdout",
     "output_type": "stream",
     "text": [
      "Cleaning and parsing subreddit text...\n",
      "Reviewed 100 text...\n",
      "Reviewed 200 text...\n",
      "Reviewed 300 text...\n",
      "Reviewed 400 text...\n",
      "Reviewed 500 text...\n",
      "Reviewed 600 text...\n",
      "Reviewed 700 text...\n",
      "Reviewed 800 text...\n",
      "Reviewed 900 text...\n",
      "Reviewed 1000 text...\n",
      "Reviewed 1100 text...\n",
      "Reviewed 1200 text...\n",
      "Reviewed 1300 text...\n",
      "Reviewed 1400 text...\n",
      "Reviewed 1500 text...\n",
      "Reviewed 1600 text...\n",
      "Reviewed 1700 text...\n",
      "Done.\n"
     ]
    }
   ],
   "source": [
    "# Initialize an empty list to hold the clean reviews.\n",
    "clean_text = []\n",
    "text_len = []\n",
    "\n",
    "print(\"Cleaning and parsing subreddit text...\")\n",
    "\n",
    "# Instantiate counter.\n",
    "j = 0\n",
    "\n",
    "# For every selftext in our data set...\n",
    "for train_text in train['selftext']:\n",
    "    \n",
    "    # Convert review to words, then append to clean_text.\n",
    "    clean = review_words(train_text)\n",
    "    clean_text.append(clean)\n",
    "    # Count no of words in clean text and append to text_len\n",
    "    str_len = len(re.findall(r'\\w+', clean))\n",
    "    text_len.append(str_len)\n",
    "    \n",
    "    # If the index is divisible by 100, print a message.\n",
    "    if (j + 1) % 100 == 0:\n",
    "        print(f'Reviewed {j + 1} text...')\n",
    "    \n",
    "    j += 1\n",
    "print ('Done.')"
   ]
  },
  {
   "cell_type": "code",
   "execution_count": 24,
   "metadata": {},
   "outputs": [
    {
     "data": {
      "text/plain": [
       "'quick lament seem like contact facebook babi know patient stress ugh sting see everyon babi'"
      ]
     },
     "execution_count": 24,
     "metadata": {},
     "output_type": "execute_result"
    }
   ],
   "source": [
    "clean_text[2]"
   ]
  },
  {
   "cell_type": "code",
   "execution_count": 25,
   "metadata": {},
   "outputs": [
    {
     "data": {
      "text/plain": [
       "'Just a quick lament.. why, just why, does it seem like all my contacts on Facebook have babies? I know I have to be patient and not stress but, ugh! Such a sting when I see everyone and their baby.'"
      ]
     },
     "execution_count": 25,
     "metadata": {},
     "output_type": "execute_result"
    }
   ],
   "source": [
    "train['selftext'][4]"
   ]
  },
  {
   "cell_type": "code",
   "execution_count": 26,
   "metadata": {},
   "outputs": [
    {
     "data": {
      "text/plain": [
       "[115, 31, 15, 110, 126, 148, 26, 12, 19, 57]"
      ]
     },
     "execution_count": 26,
     "metadata": {},
     "output_type": "execute_result"
    }
   ],
   "source": [
    "text_len[:10]"
   ]
  },
  {
   "cell_type": "code",
   "execution_count": 27,
   "metadata": {},
   "outputs": [],
   "source": [
    "# adding two additional columns to dataframe to store the clean text and also length of text\n",
    "train['cleantext'] = clean_text\n",
    "train['text_len'] = text_len"
   ]
  },
  {
   "cell_type": "code",
   "execution_count": 28,
   "metadata": {},
   "outputs": [
    {
     "data": {
      "text/html": [
       "<div>\n",
       "<style scoped>\n",
       "    .dataframe tbody tr th:only-of-type {\n",
       "        vertical-align: middle;\n",
       "    }\n",
       "\n",
       "    .dataframe tbody tr th {\n",
       "        vertical-align: top;\n",
       "    }\n",
       "\n",
       "    .dataframe thead th {\n",
       "        text-align: right;\n",
       "    }\n",
       "</style>\n",
       "<table border=\"1\" class=\"dataframe\">\n",
       "  <thead>\n",
       "    <tr style=\"text-align: right;\">\n",
       "      <th></th>\n",
       "      <th>subreddit</th>\n",
       "      <th>selftext</th>\n",
       "      <th>name</th>\n",
       "      <th>cleantext</th>\n",
       "      <th>text_len</th>\n",
       "    </tr>\n",
       "  </thead>\n",
       "  <tbody>\n",
       "    <tr>\n",
       "      <th>2</th>\n",
       "      <td>TryingForABaby</td>\n",
       "      <td>I legitimately don’t understand how people can...</td>\n",
       "      <td>t3_iq98qu</td>\n",
       "      <td>legitim understand peopl ntnp feel black white...</td>\n",
       "      <td>115</td>\n",
       "    </tr>\n",
       "    <tr>\n",
       "      <th>3</th>\n",
       "      <td>TryingForABaby</td>\n",
       "      <td>I know that depo didn't like you, so you went ...</td>\n",
       "      <td>t3_iq0qw4</td>\n",
       "      <td>know depo like went away whilst around know he...</td>\n",
       "      <td>31</td>\n",
       "    </tr>\n",
       "    <tr>\n",
       "      <th>4</th>\n",
       "      <td>TryingForABaby</td>\n",
       "      <td>Just a quick lament.. why, just why, does it s...</td>\n",
       "      <td>t3_iqb0sg</td>\n",
       "      <td>quick lament seem like contact facebook babi k...</td>\n",
       "      <td>15</td>\n",
       "    </tr>\n",
       "    <tr>\n",
       "      <th>5</th>\n",
       "      <td>TryingForABaby</td>\n",
       "      <td>When we started our journey in January I hoped...</td>\n",
       "      <td>t3_iqe51j</td>\n",
       "      <td>start journey januari hope get lucki septemb b...</td>\n",
       "      <td>110</td>\n",
       "    </tr>\n",
       "    <tr>\n",
       "      <th>6</th>\n",
       "      <td>TryingForABaby</td>\n",
       "      <td>I’ve posted once before about the confusing in...</td>\n",
       "      <td>t3_iq6bcj</td>\n",
       "      <td>post confus inform receiv fertil clinic amh le...</td>\n",
       "      <td>126</td>\n",
       "    </tr>\n",
       "  </tbody>\n",
       "</table>\n",
       "</div>"
      ],
      "text/plain": [
       "        subreddit                                           selftext  \\\n",
       "2  TryingForABaby  I legitimately don’t understand how people can...   \n",
       "3  TryingForABaby  I know that depo didn't like you, so you went ...   \n",
       "4  TryingForABaby  Just a quick lament.. why, just why, does it s...   \n",
       "5  TryingForABaby  When we started our journey in January I hoped...   \n",
       "6  TryingForABaby  I’ve posted once before about the confusing in...   \n",
       "\n",
       "        name                                          cleantext  text_len  \n",
       "2  t3_iq98qu  legitim understand peopl ntnp feel black white...       115  \n",
       "3  t3_iq0qw4  know depo like went away whilst around know he...        31  \n",
       "4  t3_iqb0sg  quick lament seem like contact facebook babi k...        15  \n",
       "5  t3_iqe51j  start journey januari hope get lucki septemb b...       110  \n",
       "6  t3_iq6bcj  post confus inform receiv fertil clinic amh le...       126  "
      ]
     },
     "execution_count": 28,
     "metadata": {},
     "output_type": "execute_result"
    }
   ],
   "source": [
    "train.head()"
   ]
  },
  {
   "cell_type": "code",
   "execution_count": 29,
   "metadata": {
    "scrolled": true
   },
   "outputs": [
    {
     "data": {
      "text/html": [
       "<div>\n",
       "<style scoped>\n",
       "    .dataframe tbody tr th:only-of-type {\n",
       "        vertical-align: middle;\n",
       "    }\n",
       "\n",
       "    .dataframe tbody tr th {\n",
       "        vertical-align: top;\n",
       "    }\n",
       "\n",
       "    .dataframe thead th {\n",
       "        text-align: right;\n",
       "    }\n",
       "</style>\n",
       "<table border=\"1\" class=\"dataframe\">\n",
       "  <thead>\n",
       "    <tr style=\"text-align: right;\">\n",
       "      <th></th>\n",
       "      <th>subreddit</th>\n",
       "      <th>selftext</th>\n",
       "      <th>name</th>\n",
       "      <th>cleantext</th>\n",
       "      <th>text_len</th>\n",
       "    </tr>\n",
       "  </thead>\n",
       "  <tbody>\n",
       "    <tr>\n",
       "      <th>933</th>\n",
       "      <td>Miscarriage</td>\n",
       "      <td></td>\n",
       "      <td>t3_ioapbs</td>\n",
       "      <td></td>\n",
       "      <td>0</td>\n",
       "    </tr>\n",
       "    <tr>\n",
       "      <th>1088</th>\n",
       "      <td>Miscarriage</td>\n",
       "      <td></td>\n",
       "      <td>t3_ihladc</td>\n",
       "      <td></td>\n",
       "      <td>0</td>\n",
       "    </tr>\n",
       "    <tr>\n",
       "      <th>1105</th>\n",
       "      <td>Miscarriage</td>\n",
       "      <td></td>\n",
       "      <td>t3_ih2pnn</td>\n",
       "      <td></td>\n",
       "      <td>0</td>\n",
       "    </tr>\n",
       "    <tr>\n",
       "      <th>1144</th>\n",
       "      <td>Miscarriage</td>\n",
       "      <td></td>\n",
       "      <td>t3_ifg5nc</td>\n",
       "      <td></td>\n",
       "      <td>0</td>\n",
       "    </tr>\n",
       "    <tr>\n",
       "      <th>1262</th>\n",
       "      <td>Miscarriage</td>\n",
       "      <td></td>\n",
       "      <td>t3_iar1j4</td>\n",
       "      <td></td>\n",
       "      <td>0</td>\n",
       "    </tr>\n",
       "    <tr>\n",
       "      <th>1296</th>\n",
       "      <td>Miscarriage</td>\n",
       "      <td></td>\n",
       "      <td>t3_i8ugks</td>\n",
       "      <td></td>\n",
       "      <td>0</td>\n",
       "    </tr>\n",
       "    <tr>\n",
       "      <th>1435</th>\n",
       "      <td>Miscarriage</td>\n",
       "      <td></td>\n",
       "      <td>t3_i1984o</td>\n",
       "      <td></td>\n",
       "      <td>0</td>\n",
       "    </tr>\n",
       "    <tr>\n",
       "      <th>1463</th>\n",
       "      <td>Miscarriage</td>\n",
       "      <td></td>\n",
       "      <td>t3_i0i9aq</td>\n",
       "      <td></td>\n",
       "      <td>0</td>\n",
       "    </tr>\n",
       "    <tr>\n",
       "      <th>1491</th>\n",
       "      <td>Miscarriage</td>\n",
       "      <td>I</td>\n",
       "      <td>t3_hzmr14</td>\n",
       "      <td></td>\n",
       "      <td>0</td>\n",
       "    </tr>\n",
       "    <tr>\n",
       "      <th>1528</th>\n",
       "      <td>Miscarriage</td>\n",
       "      <td>I</td>\n",
       "      <td>t3_hxsea4</td>\n",
       "      <td></td>\n",
       "      <td>0</td>\n",
       "    </tr>\n",
       "    <tr>\n",
       "      <th>1570</th>\n",
       "      <td>Miscarriage</td>\n",
       "      <td></td>\n",
       "      <td>t3_huyzoy</td>\n",
       "      <td></td>\n",
       "      <td>0</td>\n",
       "    </tr>\n",
       "    <tr>\n",
       "      <th>1624</th>\n",
       "      <td>Miscarriage</td>\n",
       "      <td></td>\n",
       "      <td>t3_ht544p</td>\n",
       "      <td></td>\n",
       "      <td>0</td>\n",
       "    </tr>\n",
       "    <tr>\n",
       "      <th>1625</th>\n",
       "      <td>Miscarriage</td>\n",
       "      <td></td>\n",
       "      <td>t3_ht4l7r</td>\n",
       "      <td></td>\n",
       "      <td>0</td>\n",
       "    </tr>\n",
       "    <tr>\n",
       "      <th>1691</th>\n",
       "      <td>Miscarriage</td>\n",
       "      <td></td>\n",
       "      <td>t3_hpeir5</td>\n",
       "      <td></td>\n",
       "      <td>0</td>\n",
       "    </tr>\n",
       "    <tr>\n",
       "      <th>1735</th>\n",
       "      <td>Miscarriage</td>\n",
       "      <td></td>\n",
       "      <td>t3_ho9nvg</td>\n",
       "      <td></td>\n",
       "      <td>0</td>\n",
       "    </tr>\n",
       "  </tbody>\n",
       "</table>\n",
       "</div>"
      ],
      "text/plain": [
       "        subreddit selftext       name cleantext  text_len\n",
       "933   Miscarriage           t3_ioapbs                   0\n",
       "1088  Miscarriage           t3_ihladc                   0\n",
       "1105  Miscarriage           t3_ih2pnn                   0\n",
       "1144  Miscarriage           t3_ifg5nc                   0\n",
       "1262  Miscarriage           t3_iar1j4                   0\n",
       "1296  Miscarriage           t3_i8ugks                   0\n",
       "1435  Miscarriage           t3_i1984o                   0\n",
       "1463  Miscarriage           t3_i0i9aq                   0\n",
       "1491  Miscarriage        I  t3_hzmr14                   0\n",
       "1528  Miscarriage        I  t3_hxsea4                   0\n",
       "1570  Miscarriage           t3_huyzoy                   0\n",
       "1624  Miscarriage           t3_ht544p                   0\n",
       "1625  Miscarriage           t3_ht4l7r                   0\n",
       "1691  Miscarriage           t3_hpeir5                   0\n",
       "1735  Miscarriage           t3_ho9nvg                   0"
      ]
     },
     "execution_count": 29,
     "metadata": {},
     "output_type": "execute_result"
    }
   ],
   "source": [
    "train[train['text_len']==0]"
   ]
  },
  {
   "cell_type": "code",
   "execution_count": 30,
   "metadata": {},
   "outputs": [],
   "source": [
    "# Dropping all rows with no text\n",
    "train.drop(train[train['text_len'] == 0].index, inplace=True)"
   ]
  },
  {
   "cell_type": "code",
   "execution_count": 31,
   "metadata": {},
   "outputs": [
    {
     "data": {
      "text/plain": [
       "(1735, 5)"
      ]
     },
     "execution_count": 31,
     "metadata": {},
     "output_type": "execute_result"
    }
   ],
   "source": [
    "train.shape"
   ]
  },
  {
   "cell_type": "code",
   "execution_count": 32,
   "metadata": {},
   "outputs": [
    {
     "data": {
      "text/html": [
       "<div>\n",
       "<style scoped>\n",
       "    .dataframe tbody tr th:only-of-type {\n",
       "        vertical-align: middle;\n",
       "    }\n",
       "\n",
       "    .dataframe tbody tr th {\n",
       "        vertical-align: top;\n",
       "    }\n",
       "\n",
       "    .dataframe thead th {\n",
       "        text-align: right;\n",
       "    }\n",
       "</style>\n",
       "<table border=\"1\" class=\"dataframe\">\n",
       "  <thead>\n",
       "    <tr style=\"text-align: right;\">\n",
       "      <th></th>\n",
       "      <th>subreddit</th>\n",
       "      <th>selftext</th>\n",
       "      <th>name</th>\n",
       "      <th>cleantext</th>\n",
       "      <th>text_len</th>\n",
       "    </tr>\n",
       "  </thead>\n",
       "  <tbody>\n",
       "    <tr>\n",
       "      <th>19</th>\n",
       "      <td>TryingForABaby</td>\n",
       "      <td>Wondering if it’s worth the money</td>\n",
       "      <td>t3_iqbahn</td>\n",
       "      <td>wonder worth money</td>\n",
       "      <td>3</td>\n",
       "    </tr>\n",
       "    <tr>\n",
       "      <th>65</th>\n",
       "      <td>TryingForABaby</td>\n",
       "      <td>Are you in the dreaded two-week wait? What hav...</td>\n",
       "      <td>t3_iphnb8</td>\n",
       "      <td>dread two week wait done eas stress</td>\n",
       "      <td>7</td>\n",
       "    </tr>\n",
       "    <tr>\n",
       "      <th>99</th>\n",
       "      <td>TryingForABaby</td>\n",
       "      <td>Any supplement recommendations to help conceive?</td>\n",
       "      <td>t3_iph7vd</td>\n",
       "      <td>supplement recommend help conceiv</td>\n",
       "      <td>4</td>\n",
       "    </tr>\n",
       "    <tr>\n",
       "      <th>189</th>\n",
       "      <td>TryingForABaby</td>\n",
       "      <td>Why? What would cause this?</td>\n",
       "      <td>t3_iock7f</td>\n",
       "      <td>would caus</td>\n",
       "      <td>2</td>\n",
       "    </tr>\n",
       "    <tr>\n",
       "      <th>212</th>\n",
       "      <td>TryingForABaby</td>\n",
       "      <td>Basically the title. How many DPO would you st...</td>\n",
       "      <td>t3_inuom7</td>\n",
       "      <td>basic titl mani dpo would start test</td>\n",
       "      <td>7</td>\n",
       "    </tr>\n",
       "    <tr>\n",
       "      <th>224</th>\n",
       "      <td>TryingForABaby</td>\n",
       "      <td>I need someone to celebrate with, my IUD is ou...</td>\n",
       "      <td>t3_ing8fk</td>\n",
       "      <td>need someon celebr iud</td>\n",
       "      <td>4</td>\n",
       "    </tr>\n",
       "    <tr>\n",
       "      <th>266</th>\n",
       "      <td>TryingForABaby</td>\n",
       "      <td>Any kinds that you prefer?</td>\n",
       "      <td>t3_inbnuy</td>\n",
       "      <td>kind prefer</td>\n",
       "      <td>2</td>\n",
       "    </tr>\n",
       "    <tr>\n",
       "      <th>365</th>\n",
       "      <td>TryingForABaby</td>\n",
       "      <td>It both burns and probably ruined O day 🤣🤦🏻‍♀️</td>\n",
       "      <td>t3_ilbhk3</td>\n",
       "      <td>burn probabl ruin day</td>\n",
       "      <td>4</td>\n",
       "    </tr>\n",
       "    <tr>\n",
       "      <th>384</th>\n",
       "      <td>TryingForABaby</td>\n",
       "      <td>Are you in the dreaded two-week wait? What hav...</td>\n",
       "      <td>t3_il8iut</td>\n",
       "      <td>dread two week wait done eas stress</td>\n",
       "      <td>7</td>\n",
       "    </tr>\n",
       "    <tr>\n",
       "      <th>393</th>\n",
       "      <td>TryingForABaby</td>\n",
       "      <td>If so, how soon after ovulation would it typic...</td>\n",
       "      <td>t3_ilaf8v</td>\n",
       "      <td>soon ovul would typic happen long test</td>\n",
       "      <td>7</td>\n",
       "    </tr>\n",
       "    <tr>\n",
       "      <th>395</th>\n",
       "      <td>TryingForABaby</td>\n",
       "      <td>What’s the earliest you guys have tested? I’m ...</td>\n",
       "      <td>t3_il6bbd</td>\n",
       "      <td>earliest guy test dpo realli want test</td>\n",
       "      <td>7</td>\n",
       "    </tr>\n",
       "    <tr>\n",
       "      <th>427</th>\n",
       "      <td>TryingForABaby</td>\n",
       "      <td>thanks in advance :)</td>\n",
       "      <td>t3_il4sre</td>\n",
       "      <td>thank advanc</td>\n",
       "      <td>2</td>\n",
       "    </tr>\n",
       "    <tr>\n",
       "      <th>555</th>\n",
       "      <td>TryingForABaby</td>\n",
       "      <td>What tests strips do you use and why do you li...</td>\n",
       "      <td>t3_ijdcph</td>\n",
       "      <td>test strip use like</td>\n",
       "      <td>4</td>\n",
       "    </tr>\n",
       "    <tr>\n",
       "      <th>672</th>\n",
       "      <td>TryingForABaby</td>\n",
       "      <td>Are you in the dreaded two-week wait? What hav...</td>\n",
       "      <td>t3_ih0jbw</td>\n",
       "      <td>dread two week wait done eas stress</td>\n",
       "      <td>7</td>\n",
       "    </tr>\n",
       "    <tr>\n",
       "      <th>901</th>\n",
       "      <td>Miscarriage</td>\n",
       "      <td>Confirmed this morning and at the hospital now...</td>\n",
       "      <td>t3_iphp1a</td>\n",
       "      <td>confirm morn hospit first c tire</td>\n",
       "      <td>6</td>\n",
       "    </tr>\n",
       "    <tr>\n",
       "      <th>907</th>\n",
       "      <td>Miscarriage</td>\n",
       "      <td>This is a place to discuss anything related OR...</td>\n",
       "      <td>t3_ipmowt</td>\n",
       "      <td>place discuss anyth relat relat miscarriag</td>\n",
       "      <td>6</td>\n",
       "    </tr>\n",
       "    <tr>\n",
       "      <th>941</th>\n",
       "      <td>Miscarriage</td>\n",
       "      <td>This is a place to discuss anything related OR...</td>\n",
       "      <td>t3_iodq3k</td>\n",
       "      <td>place discuss anyth relat relat miscarriag</td>\n",
       "      <td>6</td>\n",
       "    </tr>\n",
       "    <tr>\n",
       "      <th>968</th>\n",
       "      <td>Miscarriage</td>\n",
       "      <td>This is a place to discuss anything related OR...</td>\n",
       "      <td>t3_in6tlm</td>\n",
       "      <td>place discuss anyth relat relat miscarriag</td>\n",
       "      <td>6</td>\n",
       "    </tr>\n",
       "    <tr>\n",
       "      <th>1004</th>\n",
       "      <td>Miscarriage</td>\n",
       "      <td>This is a place to discuss anything related OR...</td>\n",
       "      <td>t3_ilztz5</td>\n",
       "      <td>place discuss anyth relat relat miscarriag</td>\n",
       "      <td>6</td>\n",
       "    </tr>\n",
       "    <tr>\n",
       "      <th>1029</th>\n",
       "      <td>Miscarriage</td>\n",
       "      <td>This is a place to discuss anything related OR...</td>\n",
       "      <td>t3_ikqkbw</td>\n",
       "      <td>place discuss anyth relat relat miscarriag</td>\n",
       "      <td>6</td>\n",
       "    </tr>\n",
       "    <tr>\n",
       "      <th>1049</th>\n",
       "      <td>Miscarriage</td>\n",
       "      <td>This is a place to discuss anything related OR...</td>\n",
       "      <td>t3_ijiccl</td>\n",
       "      <td>place discuss anyth relat relat miscarriag</td>\n",
       "      <td>6</td>\n",
       "    </tr>\n",
       "    <tr>\n",
       "      <th>1056</th>\n",
       "      <td>Miscarriage</td>\n",
       "      <td>Can anyone recommend any pills/ vitamins/ mine...</td>\n",
       "      <td>t3_iiykgs</td>\n",
       "      <td>anyon recommend pill vitamin miner tip mc</td>\n",
       "      <td>7</td>\n",
       "    </tr>\n",
       "    <tr>\n",
       "      <th>1078</th>\n",
       "      <td>Miscarriage</td>\n",
       "      <td>This is a place to discuss anything related OR...</td>\n",
       "      <td>t3_iid95n</td>\n",
       "      <td>place discuss anyth relat relat miscarriag</td>\n",
       "      <td>6</td>\n",
       "    </tr>\n",
       "    <tr>\n",
       "      <th>1091</th>\n",
       "      <td>Miscarriage</td>\n",
       "      <td>Are D&amp;amp;C or pills always given after miscar...</td>\n",
       "      <td>t3_ii3dfk</td>\n",
       "      <td>c pill alway given miscarriag case case</td>\n",
       "      <td>7</td>\n",
       "    </tr>\n",
       "    <tr>\n",
       "      <th>1093</th>\n",
       "      <td>Miscarriage</td>\n",
       "      <td>The bleeding started today and I feel so tired...</td>\n",
       "      <td>t3_ihxqj7</td>\n",
       "      <td>bleed start today feel tire sudden normal</td>\n",
       "      <td>7</td>\n",
       "    </tr>\n",
       "    <tr>\n",
       "      <th>1107</th>\n",
       "      <td>Miscarriage</td>\n",
       "      <td>This is a place to discuss anything related OR...</td>\n",
       "      <td>t3_ih53m9</td>\n",
       "      <td>place discuss anyth relat relat miscarriag</td>\n",
       "      <td>6</td>\n",
       "    </tr>\n",
       "    <tr>\n",
       "      <th>1115</th>\n",
       "      <td>Miscarriage</td>\n",
       "      <td>Ugh</td>\n",
       "      <td>t3_igst3z</td>\n",
       "      <td>ugh</td>\n",
       "      <td>1</td>\n",
       "    </tr>\n",
       "    <tr>\n",
       "      <th>1142</th>\n",
       "      <td>Miscarriage</td>\n",
       "      <td>This is a place to discuss anything related OR...</td>\n",
       "      <td>t3_ifvfaj</td>\n",
       "      <td>place discuss anyth relat relat miscarriag</td>\n",
       "      <td>6</td>\n",
       "    </tr>\n",
       "    <tr>\n",
       "      <th>1170</th>\n",
       "      <td>Miscarriage</td>\n",
       "      <td>This is a place to discuss anything related OR...</td>\n",
       "      <td>t3_ieob7t</td>\n",
       "      <td>place discuss anyth relat relat miscarriag</td>\n",
       "      <td>6</td>\n",
       "    </tr>\n",
       "    <tr>\n",
       "      <th>1195</th>\n",
       "      <td>Miscarriage</td>\n",
       "      <td>This is a place to discuss anything related OR...</td>\n",
       "      <td>t3_idgk1p</td>\n",
       "      <td>place discuss anyth relat relat miscarriag</td>\n",
       "      <td>6</td>\n",
       "    </tr>\n",
       "    <tr>\n",
       "      <th>1224</th>\n",
       "      <td>Miscarriage</td>\n",
       "      <td>This is a place to discuss anything related OR...</td>\n",
       "      <td>t3_ic7de8</td>\n",
       "      <td>place discuss anyth relat relat miscarriag</td>\n",
       "      <td>6</td>\n",
       "    </tr>\n",
       "    <tr>\n",
       "      <th>1253</th>\n",
       "      <td>Miscarriage</td>\n",
       "      <td>This is a place to discuss anything related OR...</td>\n",
       "      <td>t3_iay861</td>\n",
       "      <td>place discuss anyth relat relat miscarriag</td>\n",
       "      <td>6</td>\n",
       "    </tr>\n",
       "    <tr>\n",
       "      <th>1277</th>\n",
       "      <td>Miscarriage</td>\n",
       "      <td>This is a place to discuss anything related OR...</td>\n",
       "      <td>t3_i9s2vj</td>\n",
       "      <td>place discuss anyth relat relat miscarriag</td>\n",
       "      <td>6</td>\n",
       "    </tr>\n",
       "    <tr>\n",
       "      <th>1305</th>\n",
       "      <td>Miscarriage</td>\n",
       "      <td>This is a place to discuss anything related OR...</td>\n",
       "      <td>t3_i8jvzd</td>\n",
       "      <td>place discuss anyth relat relat miscarriag</td>\n",
       "      <td>6</td>\n",
       "    </tr>\n",
       "    <tr>\n",
       "      <th>1313</th>\n",
       "      <td>Miscarriage</td>\n",
       "      <td>Can anyone help me determine what I passed ? I...</td>\n",
       "      <td>t3_i7xukp</td>\n",
       "      <td>anyon help determin pass photo pretti</td>\n",
       "      <td>6</td>\n",
       "    </tr>\n",
       "    <tr>\n",
       "      <th>1314</th>\n",
       "      <td>Miscarriage</td>\n",
       "      <td>A week and a half since D&amp;amp;C, is this norma...</td>\n",
       "      <td>t3_i834sg</td>\n",
       "      <td>week half sinc c normal</td>\n",
       "      <td>5</td>\n",
       "    </tr>\n",
       "    <tr>\n",
       "      <th>1329</th>\n",
       "      <td>Miscarriage</td>\n",
       "      <td>This is a place to discuss anything related OR...</td>\n",
       "      <td>t3_i7b6yr</td>\n",
       "      <td>place discuss anyth relat relat miscarriag</td>\n",
       "      <td>6</td>\n",
       "    </tr>\n",
       "    <tr>\n",
       "      <th>1349</th>\n",
       "      <td>Miscarriage</td>\n",
       "      <td>This is a place to discuss anything related OR...</td>\n",
       "      <td>t3_i64qop</td>\n",
       "      <td>place discuss anyth relat relat miscarriag</td>\n",
       "      <td>6</td>\n",
       "    </tr>\n",
       "    <tr>\n",
       "      <th>1374</th>\n",
       "      <td>Miscarriage</td>\n",
       "      <td>This is a place to discuss anything related OR...</td>\n",
       "      <td>t3_i4xxnl</td>\n",
       "      <td>place discuss anyth relat relat miscarriag</td>\n",
       "      <td>6</td>\n",
       "    </tr>\n",
       "    <tr>\n",
       "      <th>1402</th>\n",
       "      <td>Miscarriage</td>\n",
       "      <td>This is a place to discuss anything related OR...</td>\n",
       "      <td>t3_i3pgpc</td>\n",
       "      <td>place discuss anyth relat relat miscarriag</td>\n",
       "      <td>6</td>\n",
       "    </tr>\n",
       "    <tr>\n",
       "      <th>1423</th>\n",
       "      <td>Miscarriage</td>\n",
       "      <td>This is a place to discuss anything related OR...</td>\n",
       "      <td>t3_i2hm97</td>\n",
       "      <td>place discuss anyth relat relat miscarriag</td>\n",
       "      <td>6</td>\n",
       "    </tr>\n",
       "    <tr>\n",
       "      <th>1445</th>\n",
       "      <td>Miscarriage</td>\n",
       "      <td>This is a place to discuss anything related OR...</td>\n",
       "      <td>t3_i1df3g</td>\n",
       "      <td>place discuss anyth relat relat miscarriag</td>\n",
       "      <td>6</td>\n",
       "    </tr>\n",
       "    <tr>\n",
       "      <th>1474</th>\n",
       "      <td>Miscarriage</td>\n",
       "      <td>This is a place to discuss anything related OR...</td>\n",
       "      <td>t3_i06h3b</td>\n",
       "      <td>place discuss anyth relat relat miscarriag</td>\n",
       "      <td>6</td>\n",
       "    </tr>\n",
       "    <tr>\n",
       "      <th>1488</th>\n",
       "      <td>Miscarriage</td>\n",
       "      <td>Just curious if anyone knows, in relation to r...</td>\n",
       "      <td>t3_hzq4k2</td>\n",
       "      <td>curiou anyon know relat risk scar</td>\n",
       "      <td>6</td>\n",
       "    </tr>\n",
       "    <tr>\n",
       "      <th>1508</th>\n",
       "      <td>Miscarriage</td>\n",
       "      <td>This is a place to discuss anything related OR...</td>\n",
       "      <td>t3_hyyk06</td>\n",
       "      <td>place discuss anyth relat relat miscarriag</td>\n",
       "      <td>6</td>\n",
       "    </tr>\n",
       "    <tr>\n",
       "      <th>1529</th>\n",
       "      <td>Miscarriage</td>\n",
       "      <td>This is a place to discuss anything related OR...</td>\n",
       "      <td>t3_hxs73n</td>\n",
       "      <td>place discuss anyth relat relat miscarriag</td>\n",
       "      <td>6</td>\n",
       "    </tr>\n",
       "    <tr>\n",
       "      <th>1545</th>\n",
       "      <td>Miscarriage</td>\n",
       "      <td>This is a place to discuss anything related OR...</td>\n",
       "      <td>t3_hwlsms</td>\n",
       "      <td>place discuss anyth relat relat miscarriag</td>\n",
       "      <td>6</td>\n",
       "    </tr>\n",
       "    <tr>\n",
       "      <th>1572</th>\n",
       "      <td>Miscarriage</td>\n",
       "      <td>This is a place to discuss anything related OR...</td>\n",
       "      <td>t3_hvdjet</td>\n",
       "      <td>place discuss anyth relat relat miscarriag</td>\n",
       "      <td>6</td>\n",
       "    </tr>\n",
       "    <tr>\n",
       "      <th>1598</th>\n",
       "      <td>Miscarriage</td>\n",
       "      <td>This is a place to discuss anything related OR...</td>\n",
       "      <td>t3_hu60cf</td>\n",
       "      <td>place discuss anyth relat relat miscarriag</td>\n",
       "      <td>6</td>\n",
       "    </tr>\n",
       "    <tr>\n",
       "      <th>1626</th>\n",
       "      <td>Miscarriage</td>\n",
       "      <td>This is a place to discuss anything related OR...</td>\n",
       "      <td>t3_ht1ou9</td>\n",
       "      <td>place discuss anyth relat relat miscarriag</td>\n",
       "      <td>6</td>\n",
       "    </tr>\n",
       "    <tr>\n",
       "      <th>1633</th>\n",
       "      <td>Miscarriage</td>\n",
       "      <td>I just had a chemical pregnancy the other day,...</td>\n",
       "      <td>t3_hsfktn</td>\n",
       "      <td>chemic pregnanc day right griev</td>\n",
       "      <td>5</td>\n",
       "    </tr>\n",
       "    <tr>\n",
       "      <th>1652</th>\n",
       "      <td>Miscarriage</td>\n",
       "      <td>This is a place to discuss anything related OR...</td>\n",
       "      <td>t3_hrtque</td>\n",
       "      <td>place discuss anyth relat relat miscarriag</td>\n",
       "      <td>6</td>\n",
       "    </tr>\n",
       "    <tr>\n",
       "      <th>1677</th>\n",
       "      <td>Miscarriage</td>\n",
       "      <td>This is a place to discuss anything related OR...</td>\n",
       "      <td>t3_hqlidt</td>\n",
       "      <td>place discuss anyth relat relat miscarriag</td>\n",
       "      <td>6</td>\n",
       "    </tr>\n",
       "    <tr>\n",
       "      <th>1702</th>\n",
       "      <td>Miscarriage</td>\n",
       "      <td>This is a place to discuss anything related OR...</td>\n",
       "      <td>t3_hpfm7p</td>\n",
       "      <td>place discuss anyth relat relat miscarriag</td>\n",
       "      <td>6</td>\n",
       "    </tr>\n",
       "    <tr>\n",
       "      <th>1739</th>\n",
       "      <td>Miscarriage</td>\n",
       "      <td>This is a place to discuss anything related OR...</td>\n",
       "      <td>t3_ho93bd</td>\n",
       "      <td>place discuss anyth relat relat miscarriag</td>\n",
       "      <td>6</td>\n",
       "    </tr>\n",
       "  </tbody>\n",
       "</table>\n",
       "</div>"
      ],
      "text/plain": [
       "           subreddit                                           selftext  \\\n",
       "19    TryingForABaby                  Wondering if it’s worth the money   \n",
       "65    TryingForABaby  Are you in the dreaded two-week wait? What hav...   \n",
       "99    TryingForABaby   Any supplement recommendations to help conceive?   \n",
       "189   TryingForABaby                        Why? What would cause this?   \n",
       "212   TryingForABaby  Basically the title. How many DPO would you st...   \n",
       "224   TryingForABaby  I need someone to celebrate with, my IUD is ou...   \n",
       "266   TryingForABaby                         Any kinds that you prefer?   \n",
       "365   TryingForABaby     It both burns and probably ruined O day 🤣🤦🏻‍♀️   \n",
       "384   TryingForABaby  Are you in the dreaded two-week wait? What hav...   \n",
       "393   TryingForABaby  If so, how soon after ovulation would it typic...   \n",
       "395   TryingForABaby  What’s the earliest you guys have tested? I’m ...   \n",
       "427   TryingForABaby                               thanks in advance :)   \n",
       "555   TryingForABaby  What tests strips do you use and why do you li...   \n",
       "672   TryingForABaby  Are you in the dreaded two-week wait? What hav...   \n",
       "901      Miscarriage  Confirmed this morning and at the hospital now...   \n",
       "907      Miscarriage  This is a place to discuss anything related OR...   \n",
       "941      Miscarriage  This is a place to discuss anything related OR...   \n",
       "968      Miscarriage  This is a place to discuss anything related OR...   \n",
       "1004     Miscarriage  This is a place to discuss anything related OR...   \n",
       "1029     Miscarriage  This is a place to discuss anything related OR...   \n",
       "1049     Miscarriage  This is a place to discuss anything related OR...   \n",
       "1056     Miscarriage  Can anyone recommend any pills/ vitamins/ mine...   \n",
       "1078     Miscarriage  This is a place to discuss anything related OR...   \n",
       "1091     Miscarriage  Are D&amp;C or pills always given after miscar...   \n",
       "1093     Miscarriage  The bleeding started today and I feel so tired...   \n",
       "1107     Miscarriage  This is a place to discuss anything related OR...   \n",
       "1115     Miscarriage                                                Ugh   \n",
       "1142     Miscarriage  This is a place to discuss anything related OR...   \n",
       "1170     Miscarriage  This is a place to discuss anything related OR...   \n",
       "1195     Miscarriage  This is a place to discuss anything related OR...   \n",
       "1224     Miscarriage  This is a place to discuss anything related OR...   \n",
       "1253     Miscarriage  This is a place to discuss anything related OR...   \n",
       "1277     Miscarriage  This is a place to discuss anything related OR...   \n",
       "1305     Miscarriage  This is a place to discuss anything related OR...   \n",
       "1313     Miscarriage  Can anyone help me determine what I passed ? I...   \n",
       "1314     Miscarriage  A week and a half since D&amp;C, is this norma...   \n",
       "1329     Miscarriage  This is a place to discuss anything related OR...   \n",
       "1349     Miscarriage  This is a place to discuss anything related OR...   \n",
       "1374     Miscarriage  This is a place to discuss anything related OR...   \n",
       "1402     Miscarriage  This is a place to discuss anything related OR...   \n",
       "1423     Miscarriage  This is a place to discuss anything related OR...   \n",
       "1445     Miscarriage  This is a place to discuss anything related OR...   \n",
       "1474     Miscarriage  This is a place to discuss anything related OR...   \n",
       "1488     Miscarriage  Just curious if anyone knows, in relation to r...   \n",
       "1508     Miscarriage  This is a place to discuss anything related OR...   \n",
       "1529     Miscarriage  This is a place to discuss anything related OR...   \n",
       "1545     Miscarriage  This is a place to discuss anything related OR...   \n",
       "1572     Miscarriage  This is a place to discuss anything related OR...   \n",
       "1598     Miscarriage  This is a place to discuss anything related OR...   \n",
       "1626     Miscarriage  This is a place to discuss anything related OR...   \n",
       "1633     Miscarriage  I just had a chemical pregnancy the other day,...   \n",
       "1652     Miscarriage  This is a place to discuss anything related OR...   \n",
       "1677     Miscarriage  This is a place to discuss anything related OR...   \n",
       "1702     Miscarriage  This is a place to discuss anything related OR...   \n",
       "1739     Miscarriage  This is a place to discuss anything related OR...   \n",
       "\n",
       "           name                                   cleantext  text_len  \n",
       "19    t3_iqbahn                          wonder worth money         3  \n",
       "65    t3_iphnb8         dread two week wait done eas stress         7  \n",
       "99    t3_iph7vd           supplement recommend help conceiv         4  \n",
       "189   t3_iock7f                                  would caus         2  \n",
       "212   t3_inuom7        basic titl mani dpo would start test         7  \n",
       "224   t3_ing8fk                      need someon celebr iud         4  \n",
       "266   t3_inbnuy                                 kind prefer         2  \n",
       "365   t3_ilbhk3                       burn probabl ruin day         4  \n",
       "384   t3_il8iut         dread two week wait done eas stress         7  \n",
       "393   t3_ilaf8v      soon ovul would typic happen long test         7  \n",
       "395   t3_il6bbd      earliest guy test dpo realli want test         7  \n",
       "427   t3_il4sre                                thank advanc         2  \n",
       "555   t3_ijdcph                         test strip use like         4  \n",
       "672   t3_ih0jbw         dread two week wait done eas stress         7  \n",
       "901   t3_iphp1a            confirm morn hospit first c tire         6  \n",
       "907   t3_ipmowt  place discuss anyth relat relat miscarriag         6  \n",
       "941   t3_iodq3k  place discuss anyth relat relat miscarriag         6  \n",
       "968   t3_in6tlm  place discuss anyth relat relat miscarriag         6  \n",
       "1004  t3_ilztz5  place discuss anyth relat relat miscarriag         6  \n",
       "1029  t3_ikqkbw  place discuss anyth relat relat miscarriag         6  \n",
       "1049  t3_ijiccl  place discuss anyth relat relat miscarriag         6  \n",
       "1056  t3_iiykgs   anyon recommend pill vitamin miner tip mc         7  \n",
       "1078  t3_iid95n  place discuss anyth relat relat miscarriag         6  \n",
       "1091  t3_ii3dfk     c pill alway given miscarriag case case         7  \n",
       "1093  t3_ihxqj7   bleed start today feel tire sudden normal         7  \n",
       "1107  t3_ih53m9  place discuss anyth relat relat miscarriag         6  \n",
       "1115  t3_igst3z                                         ugh         1  \n",
       "1142  t3_ifvfaj  place discuss anyth relat relat miscarriag         6  \n",
       "1170  t3_ieob7t  place discuss anyth relat relat miscarriag         6  \n",
       "1195  t3_idgk1p  place discuss anyth relat relat miscarriag         6  \n",
       "1224  t3_ic7de8  place discuss anyth relat relat miscarriag         6  \n",
       "1253  t3_iay861  place discuss anyth relat relat miscarriag         6  \n",
       "1277  t3_i9s2vj  place discuss anyth relat relat miscarriag         6  \n",
       "1305  t3_i8jvzd  place discuss anyth relat relat miscarriag         6  \n",
       "1313  t3_i7xukp       anyon help determin pass photo pretti         6  \n",
       "1314  t3_i834sg                     week half sinc c normal         5  \n",
       "1329  t3_i7b6yr  place discuss anyth relat relat miscarriag         6  \n",
       "1349  t3_i64qop  place discuss anyth relat relat miscarriag         6  \n",
       "1374  t3_i4xxnl  place discuss anyth relat relat miscarriag         6  \n",
       "1402  t3_i3pgpc  place discuss anyth relat relat miscarriag         6  \n",
       "1423  t3_i2hm97  place discuss anyth relat relat miscarriag         6  \n",
       "1445  t3_i1df3g  place discuss anyth relat relat miscarriag         6  \n",
       "1474  t3_i06h3b  place discuss anyth relat relat miscarriag         6  \n",
       "1488  t3_hzq4k2           curiou anyon know relat risk scar         6  \n",
       "1508  t3_hyyk06  place discuss anyth relat relat miscarriag         6  \n",
       "1529  t3_hxs73n  place discuss anyth relat relat miscarriag         6  \n",
       "1545  t3_hwlsms  place discuss anyth relat relat miscarriag         6  \n",
       "1572  t3_hvdjet  place discuss anyth relat relat miscarriag         6  \n",
       "1598  t3_hu60cf  place discuss anyth relat relat miscarriag         6  \n",
       "1626  t3_ht1ou9  place discuss anyth relat relat miscarriag         6  \n",
       "1633  t3_hsfktn             chemic pregnanc day right griev         5  \n",
       "1652  t3_hrtque  place discuss anyth relat relat miscarriag         6  \n",
       "1677  t3_hqlidt  place discuss anyth relat relat miscarriag         6  \n",
       "1702  t3_hpfm7p  place discuss anyth relat relat miscarriag         6  \n",
       "1739  t3_ho93bd  place discuss anyth relat relat miscarriag         6  "
      ]
     },
     "execution_count": 32,
     "metadata": {},
     "output_type": "execute_result"
    }
   ],
   "source": [
    "# Looking for other rows with duplicated text\n",
    "train[train['text_len']<8]"
   ]
  },
  {
   "cell_type": "code",
   "execution_count": 33,
   "metadata": {},
   "outputs": [],
   "source": [
    "# Dropping all rows with generic and meaningless text\n",
    "train.drop(train[train['cleantext'] == 'place discuss anyth relat relat miscarriag'].index, inplace=True)\n",
    "train.drop(train[train['cleantext'] == 'dread two week wait done eas stres'].index, inplace=True)"
   ]
  },
  {
   "cell_type": "code",
   "execution_count": 34,
   "metadata": {},
   "outputs": [
    {
     "data": {
      "text/html": [
       "<div>\n",
       "<style scoped>\n",
       "    .dataframe tbody tr th:only-of-type {\n",
       "        vertical-align: middle;\n",
       "    }\n",
       "\n",
       "    .dataframe tbody tr th {\n",
       "        vertical-align: top;\n",
       "    }\n",
       "\n",
       "    .dataframe thead th {\n",
       "        text-align: right;\n",
       "    }\n",
       "</style>\n",
       "<table border=\"1\" class=\"dataframe\">\n",
       "  <thead>\n",
       "    <tr style=\"text-align: right;\">\n",
       "      <th></th>\n",
       "      <th>subreddit</th>\n",
       "      <th>selftext</th>\n",
       "      <th>name</th>\n",
       "      <th>cleantext</th>\n",
       "      <th>text_len</th>\n",
       "    </tr>\n",
       "  </thead>\n",
       "  <tbody>\n",
       "    <tr>\n",
       "      <th>19</th>\n",
       "      <td>TryingForABaby</td>\n",
       "      <td>Wondering if it’s worth the money</td>\n",
       "      <td>t3_iqbahn</td>\n",
       "      <td>wonder worth money</td>\n",
       "      <td>3</td>\n",
       "    </tr>\n",
       "    <tr>\n",
       "      <th>65</th>\n",
       "      <td>TryingForABaby</td>\n",
       "      <td>Are you in the dreaded two-week wait? What hav...</td>\n",
       "      <td>t3_iphnb8</td>\n",
       "      <td>dread two week wait done eas stress</td>\n",
       "      <td>7</td>\n",
       "    </tr>\n",
       "    <tr>\n",
       "      <th>99</th>\n",
       "      <td>TryingForABaby</td>\n",
       "      <td>Any supplement recommendations to help conceive?</td>\n",
       "      <td>t3_iph7vd</td>\n",
       "      <td>supplement recommend help conceiv</td>\n",
       "      <td>4</td>\n",
       "    </tr>\n",
       "    <tr>\n",
       "      <th>189</th>\n",
       "      <td>TryingForABaby</td>\n",
       "      <td>Why? What would cause this?</td>\n",
       "      <td>t3_iock7f</td>\n",
       "      <td>would caus</td>\n",
       "      <td>2</td>\n",
       "    </tr>\n",
       "    <tr>\n",
       "      <th>212</th>\n",
       "      <td>TryingForABaby</td>\n",
       "      <td>Basically the title. How many DPO would you st...</td>\n",
       "      <td>t3_inuom7</td>\n",
       "      <td>basic titl mani dpo would start test</td>\n",
       "      <td>7</td>\n",
       "    </tr>\n",
       "    <tr>\n",
       "      <th>224</th>\n",
       "      <td>TryingForABaby</td>\n",
       "      <td>I need someone to celebrate with, my IUD is ou...</td>\n",
       "      <td>t3_ing8fk</td>\n",
       "      <td>need someon celebr iud</td>\n",
       "      <td>4</td>\n",
       "    </tr>\n",
       "    <tr>\n",
       "      <th>266</th>\n",
       "      <td>TryingForABaby</td>\n",
       "      <td>Any kinds that you prefer?</td>\n",
       "      <td>t3_inbnuy</td>\n",
       "      <td>kind prefer</td>\n",
       "      <td>2</td>\n",
       "    </tr>\n",
       "    <tr>\n",
       "      <th>365</th>\n",
       "      <td>TryingForABaby</td>\n",
       "      <td>It both burns and probably ruined O day 🤣🤦🏻‍♀️</td>\n",
       "      <td>t3_ilbhk3</td>\n",
       "      <td>burn probabl ruin day</td>\n",
       "      <td>4</td>\n",
       "    </tr>\n",
       "    <tr>\n",
       "      <th>384</th>\n",
       "      <td>TryingForABaby</td>\n",
       "      <td>Are you in the dreaded two-week wait? What hav...</td>\n",
       "      <td>t3_il8iut</td>\n",
       "      <td>dread two week wait done eas stress</td>\n",
       "      <td>7</td>\n",
       "    </tr>\n",
       "    <tr>\n",
       "      <th>393</th>\n",
       "      <td>TryingForABaby</td>\n",
       "      <td>If so, how soon after ovulation would it typic...</td>\n",
       "      <td>t3_ilaf8v</td>\n",
       "      <td>soon ovul would typic happen long test</td>\n",
       "      <td>7</td>\n",
       "    </tr>\n",
       "    <tr>\n",
       "      <th>395</th>\n",
       "      <td>TryingForABaby</td>\n",
       "      <td>What’s the earliest you guys have tested? I’m ...</td>\n",
       "      <td>t3_il6bbd</td>\n",
       "      <td>earliest guy test dpo realli want test</td>\n",
       "      <td>7</td>\n",
       "    </tr>\n",
       "    <tr>\n",
       "      <th>427</th>\n",
       "      <td>TryingForABaby</td>\n",
       "      <td>thanks in advance :)</td>\n",
       "      <td>t3_il4sre</td>\n",
       "      <td>thank advanc</td>\n",
       "      <td>2</td>\n",
       "    </tr>\n",
       "    <tr>\n",
       "      <th>555</th>\n",
       "      <td>TryingForABaby</td>\n",
       "      <td>What tests strips do you use and why do you li...</td>\n",
       "      <td>t3_ijdcph</td>\n",
       "      <td>test strip use like</td>\n",
       "      <td>4</td>\n",
       "    </tr>\n",
       "    <tr>\n",
       "      <th>672</th>\n",
       "      <td>TryingForABaby</td>\n",
       "      <td>Are you in the dreaded two-week wait? What hav...</td>\n",
       "      <td>t3_ih0jbw</td>\n",
       "      <td>dread two week wait done eas stress</td>\n",
       "      <td>7</td>\n",
       "    </tr>\n",
       "    <tr>\n",
       "      <th>901</th>\n",
       "      <td>Miscarriage</td>\n",
       "      <td>Confirmed this morning and at the hospital now...</td>\n",
       "      <td>t3_iphp1a</td>\n",
       "      <td>confirm morn hospit first c tire</td>\n",
       "      <td>6</td>\n",
       "    </tr>\n",
       "    <tr>\n",
       "      <th>1056</th>\n",
       "      <td>Miscarriage</td>\n",
       "      <td>Can anyone recommend any pills/ vitamins/ mine...</td>\n",
       "      <td>t3_iiykgs</td>\n",
       "      <td>anyon recommend pill vitamin miner tip mc</td>\n",
       "      <td>7</td>\n",
       "    </tr>\n",
       "    <tr>\n",
       "      <th>1091</th>\n",
       "      <td>Miscarriage</td>\n",
       "      <td>Are D&amp;amp;C or pills always given after miscar...</td>\n",
       "      <td>t3_ii3dfk</td>\n",
       "      <td>c pill alway given miscarriag case case</td>\n",
       "      <td>7</td>\n",
       "    </tr>\n",
       "    <tr>\n",
       "      <th>1093</th>\n",
       "      <td>Miscarriage</td>\n",
       "      <td>The bleeding started today and I feel so tired...</td>\n",
       "      <td>t3_ihxqj7</td>\n",
       "      <td>bleed start today feel tire sudden normal</td>\n",
       "      <td>7</td>\n",
       "    </tr>\n",
       "    <tr>\n",
       "      <th>1115</th>\n",
       "      <td>Miscarriage</td>\n",
       "      <td>Ugh</td>\n",
       "      <td>t3_igst3z</td>\n",
       "      <td>ugh</td>\n",
       "      <td>1</td>\n",
       "    </tr>\n",
       "    <tr>\n",
       "      <th>1313</th>\n",
       "      <td>Miscarriage</td>\n",
       "      <td>Can anyone help me determine what I passed ? I...</td>\n",
       "      <td>t3_i7xukp</td>\n",
       "      <td>anyon help determin pass photo pretti</td>\n",
       "      <td>6</td>\n",
       "    </tr>\n",
       "    <tr>\n",
       "      <th>1314</th>\n",
       "      <td>Miscarriage</td>\n",
       "      <td>A week and a half since D&amp;amp;C, is this norma...</td>\n",
       "      <td>t3_i834sg</td>\n",
       "      <td>week half sinc c normal</td>\n",
       "      <td>5</td>\n",
       "    </tr>\n",
       "    <tr>\n",
       "      <th>1488</th>\n",
       "      <td>Miscarriage</td>\n",
       "      <td>Just curious if anyone knows, in relation to r...</td>\n",
       "      <td>t3_hzq4k2</td>\n",
       "      <td>curiou anyon know relat risk scar</td>\n",
       "      <td>6</td>\n",
       "    </tr>\n",
       "    <tr>\n",
       "      <th>1633</th>\n",
       "      <td>Miscarriage</td>\n",
       "      <td>I just had a chemical pregnancy the other day,...</td>\n",
       "      <td>t3_hsfktn</td>\n",
       "      <td>chemic pregnanc day right griev</td>\n",
       "      <td>5</td>\n",
       "    </tr>\n",
       "  </tbody>\n",
       "</table>\n",
       "</div>"
      ],
      "text/plain": [
       "           subreddit                                           selftext  \\\n",
       "19    TryingForABaby                  Wondering if it’s worth the money   \n",
       "65    TryingForABaby  Are you in the dreaded two-week wait? What hav...   \n",
       "99    TryingForABaby   Any supplement recommendations to help conceive?   \n",
       "189   TryingForABaby                        Why? What would cause this?   \n",
       "212   TryingForABaby  Basically the title. How many DPO would you st...   \n",
       "224   TryingForABaby  I need someone to celebrate with, my IUD is ou...   \n",
       "266   TryingForABaby                         Any kinds that you prefer?   \n",
       "365   TryingForABaby     It both burns and probably ruined O day 🤣🤦🏻‍♀️   \n",
       "384   TryingForABaby  Are you in the dreaded two-week wait? What hav...   \n",
       "393   TryingForABaby  If so, how soon after ovulation would it typic...   \n",
       "395   TryingForABaby  What’s the earliest you guys have tested? I’m ...   \n",
       "427   TryingForABaby                               thanks in advance :)   \n",
       "555   TryingForABaby  What tests strips do you use and why do you li...   \n",
       "672   TryingForABaby  Are you in the dreaded two-week wait? What hav...   \n",
       "901      Miscarriage  Confirmed this morning and at the hospital now...   \n",
       "1056     Miscarriage  Can anyone recommend any pills/ vitamins/ mine...   \n",
       "1091     Miscarriage  Are D&amp;C or pills always given after miscar...   \n",
       "1093     Miscarriage  The bleeding started today and I feel so tired...   \n",
       "1115     Miscarriage                                                Ugh   \n",
       "1313     Miscarriage  Can anyone help me determine what I passed ? I...   \n",
       "1314     Miscarriage  A week and a half since D&amp;C, is this norma...   \n",
       "1488     Miscarriage  Just curious if anyone knows, in relation to r...   \n",
       "1633     Miscarriage  I just had a chemical pregnancy the other day,...   \n",
       "\n",
       "           name                                  cleantext  text_len  \n",
       "19    t3_iqbahn                         wonder worth money         3  \n",
       "65    t3_iphnb8        dread two week wait done eas stress         7  \n",
       "99    t3_iph7vd          supplement recommend help conceiv         4  \n",
       "189   t3_iock7f                                 would caus         2  \n",
       "212   t3_inuom7       basic titl mani dpo would start test         7  \n",
       "224   t3_ing8fk                     need someon celebr iud         4  \n",
       "266   t3_inbnuy                                kind prefer         2  \n",
       "365   t3_ilbhk3                      burn probabl ruin day         4  \n",
       "384   t3_il8iut        dread two week wait done eas stress         7  \n",
       "393   t3_ilaf8v     soon ovul would typic happen long test         7  \n",
       "395   t3_il6bbd     earliest guy test dpo realli want test         7  \n",
       "427   t3_il4sre                               thank advanc         2  \n",
       "555   t3_ijdcph                        test strip use like         4  \n",
       "672   t3_ih0jbw        dread two week wait done eas stress         7  \n",
       "901   t3_iphp1a           confirm morn hospit first c tire         6  \n",
       "1056  t3_iiykgs  anyon recommend pill vitamin miner tip mc         7  \n",
       "1091  t3_ii3dfk    c pill alway given miscarriag case case         7  \n",
       "1093  t3_ihxqj7  bleed start today feel tire sudden normal         7  \n",
       "1115  t3_igst3z                                        ugh         1  \n",
       "1313  t3_i7xukp      anyon help determin pass photo pretti         6  \n",
       "1314  t3_i834sg                    week half sinc c normal         5  \n",
       "1488  t3_hzq4k2          curiou anyon know relat risk scar         6  \n",
       "1633  t3_hsfktn            chemic pregnanc day right griev         5  "
      ]
     },
     "execution_count": 34,
     "metadata": {},
     "output_type": "execute_result"
    }
   ],
   "source": [
    "train[train['text_len']<8]"
   ]
  },
  {
   "cell_type": "code",
   "execution_count": 35,
   "metadata": {},
   "outputs": [
    {
     "data": {
      "text/plain": [
       "TryingForABaby    875\n",
       "Miscarriage       828\n",
       "Name: subreddit, dtype: int64"
      ]
     },
     "execution_count": 35,
     "metadata": {},
     "output_type": "execute_result"
    }
   ],
   "source": [
    "# remaing posts in each category\n",
    "train['subreddit'].value_counts()"
   ]
  },
  {
   "cell_type": "markdown",
   "metadata": {},
   "source": [
    "## 3. EDA"
   ]
  },
  {
   "cell_type": "code",
   "execution_count": 36,
   "metadata": {},
   "outputs": [
    {
     "data": {
      "text/plain": [
       "count    875.000000\n",
       "mean      64.374857\n",
       "std       69.949369\n",
       "min        2.000000\n",
       "25%       27.000000\n",
       "50%       48.000000\n",
       "75%       80.000000\n",
       "max      815.000000\n",
       "Name: text_len, dtype: float64"
      ]
     },
     "execution_count": 36,
     "metadata": {},
     "output_type": "execute_result"
    }
   ],
   "source": [
    "train[train['subreddit']=='TryingForABaby']['text_len'].describe()"
   ]
  },
  {
   "cell_type": "code",
   "execution_count": 37,
   "metadata": {},
   "outputs": [
    {
     "data": {
      "text/plain": [
       "count     828.000000\n",
       "mean       97.504831\n",
       "std       107.229252\n",
       "min         1.000000\n",
       "25%        38.750000\n",
       "50%        67.000000\n",
       "75%       114.250000\n",
       "max      1237.000000\n",
       "Name: text_len, dtype: float64"
      ]
     },
     "execution_count": 37,
     "metadata": {},
     "output_type": "execute_result"
    }
   ],
   "source": [
    "train[train['subreddit']=='Miscarriage']['text_len'].describe()"
   ]
  },
  {
   "cell_type": "code",
   "execution_count": 38,
   "metadata": {},
   "outputs": [],
   "source": [
    "# Define a function to plot the frequency distribution of a feature and showing its mean value on the same graph.\n",
    "\n",
    "def plot_hist(df, feature):\n",
    "    mean = df[feature].mean()\n",
    "    plt.figure(figsize=(12,8))\n",
    "    \n",
    "    # mean will be displaced as a dotted red line\n",
    "    plt.axvline(x=mean,c='r',ls='--')\n",
    "    plt.text(mean,0,'Mean',c='r',size=15)\n",
    "    \n",
    "    # plot of frequency distribution using seaborn\n",
    "    sns.distplot(df[feature]);\n",
    "    plt.title('Frequency Distribution of {}'.format(feature), {'fontsize': 20})"
   ]
  },
  {
   "cell_type": "code",
   "execution_count": 39,
   "metadata": {},
   "outputs": [
    {
     "data": {
      "image/png": "[encoded data removed]",
      "text/plain": [
       "<Figure size 864x576 with 1 Axes>"
      ]
     },
     "metadata": {
      "needs_background": "light"
     },
     "output_type": "display_data"
    }
   ],
   "source": [
    "plot_hist(train, 'text_len')"
   ]
  },
  {
   "cell_type": "code",
   "execution_count": 40,
   "metadata": {},
   "outputs": [
    {
     "data": {
      "text/plain": [
       "<AxesSubplot:xlabel='subreddit', ylabel='text_len'>"
      ]
     },
     "execution_count": 40,
     "metadata": {},
     "output_type": "execute_result"
    },
    {
     "data": {
      "image/png": "[encoded data removed]",
      "text/plain": [
       "<Figure size 432x288 with 1 Axes>"
      ]
     },
     "metadata": {
      "needs_background": "light"
     },
     "output_type": "display_data"
    }
   ],
   "source": [
    "sns.boxplot(x=\"subreddit\", y=\"text_len\", data=train)"
   ]
  },
  {
   "cell_type": "markdown",
   "metadata": {},
   "source": [
    "For the subreddit 'TryingForABaby', the mean length of text after cleaning is 69 words, whereas for the subreddit 'Miscarriage', the mean length of text is 99 words. The average length of posts for r/'Miscarriage' is longer and for both categories, there are some outliers posts with much higher numbers of words in their text."
   ]
  },
  {
   "cell_type": "code",
   "execution_count": 41,
   "metadata": {},
   "outputs": [],
   "source": [
    "# Define a function to generate wordcloud\n",
    "\n",
    "def gen_wordcloud(df, col):\n",
    "\n",
    "    # Create and generate a word cloud image:\n",
    "    wordcloud = WordCloud(colormap='PiYG').generate(' '.join(df[col]))\n",
    "\n",
    "    # Display the generated image:\n",
    "    plt.figure(figsize=(8,6))\n",
    "    plt.imshow(wordcloud, interpolation='bilinear')\n",
    "    plt.axis(\"off\")\n",
    "    plt.show()"
   ]
  },
  {
   "cell_type": "code",
   "execution_count": 42,
   "metadata": {},
   "outputs": [
    {
     "data": {
      "image/png": "[encoded data removed]",
      "text/plain": [
       "<Figure size 576x432 with 1 Axes>"
      ]
     },
     "metadata": {
      "needs_background": "light"
     },
     "output_type": "display_data"
    }
   ],
   "source": [
    "train_trying = train.loc[train['subreddit']=='TryingForABaby']\n",
    "gen_wordcloud(train_trying, 'selftext')"
   ]
  },
  {
   "cell_type": "code",
   "execution_count": 43,
   "metadata": {},
   "outputs": [
    {
     "data": {
      "image/png": "[encoded data removed]",
      "text/plain": [
       "<Figure size 576x432 with 1 Axes>"
      ]
     },
     "metadata": {
      "needs_background": "light"
     },
     "output_type": "display_data"
    }
   ],
   "source": [
    "train_trying = train.loc[train['subreddit']=='Miscarriage']\n",
    "gen_wordcloud(train_trying, 'selftext')"
   ]
  },
  {
   "cell_type": "markdown",
   "metadata": {},
   "source": [
    "For r/'TryingForABaby', the key words are 'cycle','know','day','month','period','husband' and 'TTC'.\n",
    "For r/'Miscarriage', the key words are 'feel','baby','week','day'\n",
    "'day' seems to be quite common in both subreddits."
   ]
  },
  {
   "cell_type": "code",
   "execution_count": 44,
   "metadata": {},
   "outputs": [
    {
     "data": {
      "text/html": [
       "<div>\n",
       "<style scoped>\n",
       "    .dataframe tbody tr th:only-of-type {\n",
       "        vertical-align: middle;\n",
       "    }\n",
       "\n",
       "    .dataframe tbody tr th {\n",
       "        vertical-align: top;\n",
       "    }\n",
       "\n",
       "    .dataframe thead th {\n",
       "        text-align: right;\n",
       "    }\n",
       "</style>\n",
       "<table border=\"1\" class=\"dataframe\">\n",
       "  <thead>\n",
       "    <tr style=\"text-align: right;\">\n",
       "      <th></th>\n",
       "      <th>subreddit</th>\n",
       "      <th>selftext</th>\n",
       "      <th>name</th>\n",
       "      <th>cleantext</th>\n",
       "      <th>text_len</th>\n",
       "      <th>label</th>\n",
       "    </tr>\n",
       "  </thead>\n",
       "  <tbody>\n",
       "    <tr>\n",
       "      <th>2</th>\n",
       "      <td>TryingForABaby</td>\n",
       "      <td>I legitimately don’t understand how people can...</td>\n",
       "      <td>t3_iq98qu</td>\n",
       "      <td>legitim understand peopl ntnp feel black white...</td>\n",
       "      <td>115</td>\n",
       "      <td>1</td>\n",
       "    </tr>\n",
       "    <tr>\n",
       "      <th>3</th>\n",
       "      <td>TryingForABaby</td>\n",
       "      <td>I know that depo didn't like you, so you went ...</td>\n",
       "      <td>t3_iq0qw4</td>\n",
       "      <td>know depo like went away whilst around know he...</td>\n",
       "      <td>31</td>\n",
       "      <td>1</td>\n",
       "    </tr>\n",
       "    <tr>\n",
       "      <th>4</th>\n",
       "      <td>TryingForABaby</td>\n",
       "      <td>Just a quick lament.. why, just why, does it s...</td>\n",
       "      <td>t3_iqb0sg</td>\n",
       "      <td>quick lament seem like contact facebook babi k...</td>\n",
       "      <td>15</td>\n",
       "      <td>1</td>\n",
       "    </tr>\n",
       "    <tr>\n",
       "      <th>5</th>\n",
       "      <td>TryingForABaby</td>\n",
       "      <td>When we started our journey in January I hoped...</td>\n",
       "      <td>t3_iqe51j</td>\n",
       "      <td>start journey januari hope get lucki septemb b...</td>\n",
       "      <td>110</td>\n",
       "      <td>1</td>\n",
       "    </tr>\n",
       "    <tr>\n",
       "      <th>6</th>\n",
       "      <td>TryingForABaby</td>\n",
       "      <td>I’ve posted once before about the confusing in...</td>\n",
       "      <td>t3_iq6bcj</td>\n",
       "      <td>post confus inform receiv fertil clinic amh le...</td>\n",
       "      <td>126</td>\n",
       "      <td>1</td>\n",
       "    </tr>\n",
       "  </tbody>\n",
       "</table>\n",
       "</div>"
      ],
      "text/plain": [
       "        subreddit                                           selftext  \\\n",
       "2  TryingForABaby  I legitimately don’t understand how people can...   \n",
       "3  TryingForABaby  I know that depo didn't like you, so you went ...   \n",
       "4  TryingForABaby  Just a quick lament.. why, just why, does it s...   \n",
       "5  TryingForABaby  When we started our journey in January I hoped...   \n",
       "6  TryingForABaby  I’ve posted once before about the confusing in...   \n",
       "\n",
       "        name                                          cleantext  text_len  \\\n",
       "2  t3_iq98qu  legitim understand peopl ntnp feel black white...       115   \n",
       "3  t3_iq0qw4  know depo like went away whilst around know he...        31   \n",
       "4  t3_iqb0sg  quick lament seem like contact facebook babi k...        15   \n",
       "5  t3_iqe51j  start journey januari hope get lucki septemb b...       110   \n",
       "6  t3_iq6bcj  post confus inform receiv fertil clinic amh le...       126   \n",
       "\n",
       "   label  \n",
       "2      1  \n",
       "3      1  \n",
       "4      1  \n",
       "5      1  \n",
       "6      1  "
      ]
     },
     "execution_count": 44,
     "metadata": {},
     "output_type": "execute_result"
    }
   ],
   "source": [
    "# Label TryingForABaby as 1 and Miscarriage as 0.\n",
    "train['label'] = train['subreddit'].map({'TryingForABaby': 1, 'Miscarriage': 0})\n",
    "train.head()"
   ]
  },
  {
   "cell_type": "code",
   "execution_count": 45,
   "metadata": {},
   "outputs": [
    {
     "data": {
      "text/html": [
       "<div>\n",
       "<style scoped>\n",
       "    .dataframe tbody tr th:only-of-type {\n",
       "        vertical-align: middle;\n",
       "    }\n",
       "\n",
       "    .dataframe tbody tr th {\n",
       "        vertical-align: top;\n",
       "    }\n",
       "\n",
       "    .dataframe thead th {\n",
       "        text-align: right;\n",
       "    }\n",
       "</style>\n",
       "<table border=\"1\" class=\"dataframe\">\n",
       "  <thead>\n",
       "    <tr style=\"text-align: right;\">\n",
       "      <th></th>\n",
       "      <th>subreddit</th>\n",
       "      <th>selftext</th>\n",
       "      <th>name</th>\n",
       "      <th>cleantext</th>\n",
       "      <th>text_len</th>\n",
       "      <th>label</th>\n",
       "    </tr>\n",
       "  </thead>\n",
       "  <tbody>\n",
       "    <tr>\n",
       "      <th>1749</th>\n",
       "      <td>Miscarriage</td>\n",
       "      <td>I had my first miscarriage (first pregnancy) a...</td>\n",
       "      <td>t3_hn5vm7</td>\n",
       "      <td>first miscarriag first pregnanc begin june wee...</td>\n",
       "      <td>102</td>\n",
       "      <td>0</td>\n",
       "    </tr>\n",
       "    <tr>\n",
       "      <th>1750</th>\n",
       "      <td>Miscarriage</td>\n",
       "      <td>Hi everyone, I took Misoprostol (3 x 200mcg ta...</td>\n",
       "      <td>t3_hngtny</td>\n",
       "      <td>hi everyon took misoprostol x mcg tab sublingu...</td>\n",
       "      <td>57</td>\n",
       "      <td>0</td>\n",
       "    </tr>\n",
       "    <tr>\n",
       "      <th>1751</th>\n",
       "      <td>Miscarriage</td>\n",
       "      <td>I just want to say thank you to anyone who can...</td>\n",
       "      <td>t3_hncokw</td>\n",
       "      <td>want say thank anyon help month ago girlfriend...</td>\n",
       "      <td>70</td>\n",
       "      <td>0</td>\n",
       "    </tr>\n",
       "    <tr>\n",
       "      <th>1752</th>\n",
       "      <td>Miscarriage</td>\n",
       "      <td>How are you and your partner handling your mis...</td>\n",
       "      <td>t3_hn8oyu</td>\n",
       "      <td>partner handl miscarriag love husband difficul...</td>\n",
       "      <td>44</td>\n",
       "      <td>0</td>\n",
       "    </tr>\n",
       "    <tr>\n",
       "      <th>1753</th>\n",
       "      <td>Miscarriage</td>\n",
       "      <td>I found out I was pregnant last Sunday. Honest...</td>\n",
       "      <td>t3_hnbstr</td>\n",
       "      <td>found pregnant last sunday honestli tell inspi...</td>\n",
       "      <td>228</td>\n",
       "      <td>0</td>\n",
       "    </tr>\n",
       "  </tbody>\n",
       "</table>\n",
       "</div>"
      ],
      "text/plain": [
       "        subreddit                                           selftext  \\\n",
       "1749  Miscarriage  I had my first miscarriage (first pregnancy) a...   \n",
       "1750  Miscarriage  Hi everyone, I took Misoprostol (3 x 200mcg ta...   \n",
       "1751  Miscarriage  I just want to say thank you to anyone who can...   \n",
       "1752  Miscarriage  How are you and your partner handling your mis...   \n",
       "1753  Miscarriage  I found out I was pregnant last Sunday. Honest...   \n",
       "\n",
       "           name                                          cleantext  text_len  \\\n",
       "1749  t3_hn5vm7  first miscarriag first pregnanc begin june wee...       102   \n",
       "1750  t3_hngtny  hi everyon took misoprostol x mcg tab sublingu...        57   \n",
       "1751  t3_hncokw  want say thank anyon help month ago girlfriend...        70   \n",
       "1752  t3_hn8oyu  partner handl miscarriag love husband difficul...        44   \n",
       "1753  t3_hnbstr  found pregnant last sunday honestli tell inspi...       228   \n",
       "\n",
       "      label  \n",
       "1749      0  \n",
       "1750      0  \n",
       "1751      0  \n",
       "1752      0  \n",
       "1753      0  "
      ]
     },
     "execution_count": 45,
     "metadata": {},
     "output_type": "execute_result"
    }
   ],
   "source": [
    "train.tail()"
   ]
  },
  {
   "cell_type": "code",
   "execution_count": 46,
   "metadata": {},
   "outputs": [],
   "source": [
    "train.to_csv('datasets/train.csv')"
   ]
  },
  {
   "cell_type": "code",
   "execution_count": null,
   "metadata": {},
   "outputs": [],
   "source": []
  },
  {
   "cell_type": "code",
   "execution_count": null,
   "metadata": {},
   "outputs": [],
   "source": []
  },
  {
   "cell_type": "code",
   "execution_count": null,
   "metadata": {},
   "outputs": [],
   "source": []
  },
  {
   "cell_type": "code",
   "execution_count": null,
   "metadata": {},
   "outputs": [],
   "source": []
  },
  {
   "cell_type": "code",
   "execution_count": null,
   "metadata": {},
   "outputs": [],
   "source": []
  },
  {
   "cell_type": "code",
   "execution_count": null,
   "metadata": {},
   "outputs": [],
   "source": []
  },
  {
   "cell_type": "markdown",
   "metadata": {},
   "source": [
    "## 4. Modelling"
   ]
  },
  {
   "cell_type": "code",
   "execution_count": 47,
   "metadata": {},
   "outputs": [],
   "source": [
    "# Setting up data\n",
    "\n",
    "X = train['cleantext']\n",
    "y = train['label']"
   ]
  },
  {
   "cell_type": "code",
   "execution_count": 48,
   "metadata": {},
   "outputs": [
    {
     "data": {
      "text/plain": [
       "1    0.513799\n",
       "0    0.486201\n",
       "Name: label, dtype: float64"
      ]
     },
     "execution_count": 48,
     "metadata": {},
     "output_type": "execute_result"
    }
   ],
   "source": [
    "# Checking the baseline accuracy\n",
    "y.value_counts(normalize=True)"
   ]
  },
  {
   "cell_type": "code",
   "execution_count": 49,
   "metadata": {},
   "outputs": [],
   "source": [
    "# Split the data into the training and testing sets.\n",
    "X_train, X_test, y_train, y_test = train_test_split(X,\n",
    "                                                    y,\n",
    "                                                    test_size=0.3,\n",
    "                                                    stratify=y,\n",
    "                                                    random_state=42)"
   ]
  },
  {
   "cell_type": "code",
   "execution_count": 50,
   "metadata": {},
   "outputs": [
    {
     "data": {
      "text/plain": [
       "(1192,)"
      ]
     },
     "execution_count": 50,
     "metadata": {},
     "output_type": "execute_result"
    }
   ],
   "source": [
    "X_train.shape"
   ]
  },
  {
   "cell_type": "code",
   "execution_count": 51,
   "metadata": {},
   "outputs": [
    {
     "data": {
      "text/plain": [
       "(511,)"
      ]
     },
     "execution_count": 51,
     "metadata": {},
     "output_type": "execute_result"
    }
   ],
   "source": [
    "X_test.shape"
   ]
  },
  {
   "cell_type": "code",
   "execution_count": 52,
   "metadata": {},
   "outputs": [
    {
     "data": {
      "text/plain": [
       "1    0.514677\n",
       "0    0.485323\n",
       "Name: label, dtype: float64"
      ]
     },
     "execution_count": 52,
     "metadata": {},
     "output_type": "execute_result"
    }
   ],
   "source": [
    "y_test.value_counts(normalize=True)"
   ]
  },
  {
   "cell_type": "markdown",
   "metadata": {},
   "source": [
    "### Pipeline Model 1 (Count vectorizer + Logistic Regression)"
   ]
  },
  {
   "cell_type": "code",
   "execution_count": 53,
   "metadata": {},
   "outputs": [],
   "source": [
    "# Set up a pipeline to run CountVectorizer ad LogisticRegression\n",
    "pipe1 = Pipeline([\n",
    "    ('cvec', CountVectorizer()),\n",
    "    ('lr', LogisticRegression(solver='lbfgs'))\n",
    "])"
   ]
  },
  {
   "cell_type": "code",
   "execution_count": 54,
   "metadata": {},
   "outputs": [
    {
     "data": {
      "text/plain": [
       "0.8909602334657712"
      ]
     },
     "execution_count": 54,
     "metadata": {},
     "output_type": "execute_result"
    }
   ],
   "source": [
    "cross_val_score(pipe1, X_train, y_train, cv=5).mean()"
   ]
  },
  {
   "cell_type": "code",
   "execution_count": 55,
   "metadata": {},
   "outputs": [
    {
     "data": {
      "text/plain": [
       "0.9983221476510067"
      ]
     },
     "execution_count": 55,
     "metadata": {},
     "output_type": "execute_result"
    }
   ],
   "source": [
    "# Fit and score model\n",
    "pipe1.fit(X_train, y_train)\n",
    "pipe1.score(X_train,y_train)"
   ]
  },
  {
   "cell_type": "code",
   "execution_count": 56,
   "metadata": {},
   "outputs": [
    {
     "data": {
      "text/plain": [
       "0.9158512720156555"
      ]
     },
     "execution_count": 56,
     "metadata": {},
     "output_type": "execute_result"
    }
   ],
   "source": [
    "pipe1.score(X_test,y_test)"
   ]
  },
  {
   "cell_type": "markdown",
   "metadata": {},
   "source": [
    "###  Model 1b (TFIDF vectorizer + Logistic Regression)"
   ]
  },
  {
   "cell_type": "code",
   "execution_count": 57,
   "metadata": {},
   "outputs": [],
   "source": [
    "pipe1b = Pipeline([\n",
    "    ('tvec', TfidfVectorizer()),\n",
    "    ('lr', LogisticRegression(solver='lbfgs'))\n",
    "])"
   ]
  },
  {
   "cell_type": "code",
   "execution_count": 58,
   "metadata": {},
   "outputs": [
    {
     "name": "stdout",
     "output_type": "stream",
     "text": [
      "CV Score: 0.907731795647129\n",
      "Training Score: 0.9664429530201343\n",
      "Testing Score: 0.9080234833659491\n"
     ]
    }
   ],
   "source": [
    "pipe1b.fit(X_train, y_train)\n",
    "\n",
    "# Evaluate logistic regression.\n",
    "print(f'CV Score: {cross_val_score(pipe1b, X_train, y_train, cv=5).mean()}')\n",
    "print(f'Training Score: {pipe1b.score(X_train, y_train)}')\n",
    "print(f'Testing Score: {pipe1b.score(X_test, y_test)}')"
   ]
  },
  {
   "cell_type": "markdown",
   "metadata": {},
   "source": [
    "### Using GridSearchCV (Count vectorizer + Logistic Regression)"
   ]
  },
  {
   "cell_type": "code",
   "execution_count": 59,
   "metadata": {},
   "outputs": [
    {
     "data": {
      "text/plain": [
       "{'memory': None,\n",
       " 'steps': [('cvec', CountVectorizer()), ('lr', LogisticRegression())],\n",
       " 'verbose': False,\n",
       " 'cvec': CountVectorizer(),\n",
       " 'lr': LogisticRegression(),\n",
       " 'cvec__analyzer': 'word',\n",
       " 'cvec__binary': False,\n",
       " 'cvec__decode_error': 'strict',\n",
       " 'cvec__dtype': numpy.int64,\n",
       " 'cvec__encoding': 'utf-8',\n",
       " 'cvec__input': 'content',\n",
       " 'cvec__lowercase': True,\n",
       " 'cvec__max_df': 1.0,\n",
       " 'cvec__max_features': None,\n",
       " 'cvec__min_df': 1,\n",
       " 'cvec__ngram_range': (1, 1),\n",
       " 'cvec__preprocessor': None,\n",
       " 'cvec__stop_words': None,\n",
       " 'cvec__strip_accents': None,\n",
       " 'cvec__token_pattern': '(?u)\\\\b\\\\w\\\\w+\\\\b',\n",
       " 'cvec__tokenizer': None,\n",
       " 'cvec__vocabulary': None,\n",
       " 'lr__C': 1.0,\n",
       " 'lr__class_weight': None,\n",
       " 'lr__dual': False,\n",
       " 'lr__fit_intercept': True,\n",
       " 'lr__intercept_scaling': 1,\n",
       " 'lr__l1_ratio': None,\n",
       " 'lr__max_iter': 100,\n",
       " 'lr__multi_class': 'auto',\n",
       " 'lr__n_jobs': None,\n",
       " 'lr__penalty': 'l2',\n",
       " 'lr__random_state': None,\n",
       " 'lr__solver': 'lbfgs',\n",
       " 'lr__tol': 0.0001,\n",
       " 'lr__verbose': 0,\n",
       " 'lr__warm_start': False}"
      ]
     },
     "execution_count": 59,
     "metadata": {},
     "output_type": "execute_result"
    }
   ],
   "source": [
    "pipe1.get_params()"
   ]
  },
  {
   "cell_type": "code",
   "execution_count": 60,
   "metadata": {},
   "outputs": [],
   "source": [
    "# Search over the following values of hyperparameters:\n",
    "# Maximum number of features fit: 3000, 4000\n",
    "# Minimum number of documents needed to include token: 2, 3, 4\n",
    "# Maximum number of documents needed to include token: 90%, 95%\n",
    "# Check (individual tokens) and also check (individual tokens and 2-grams).\n",
    "\n",
    "pipe_params = {\n",
    "    'cvec__max_features': [3000, 4000, 5000],\n",
    "    'cvec__min_df': [2,3,4],\n",
    "    'cvec__max_df': [0.9, 0.95],\n",
    "    'cvec__ngram_range': [(1,1),(1,2),(1,3)]\n",
    "}"
   ]
  },
  {
   "cell_type": "code",
   "execution_count": 61,
   "metadata": {},
   "outputs": [],
   "source": [
    "# Instantiate GridSearchCV.\n",
    "\n",
    "gs1 = GridSearchCV(pipe1, param_grid = pipe_params, cv=5) "
   ]
  },
  {
   "cell_type": "code",
   "execution_count": 62,
   "metadata": {},
   "outputs": [
    {
     "data": {
      "text/plain": [
       "GridSearchCV(cv=5,\n",
       "             estimator=Pipeline(steps=[('cvec', CountVectorizer()),\n",
       "                                       ('lr', LogisticRegression())]),\n",
       "             param_grid={'cvec__max_df': [0.9, 0.95],\n",
       "                         'cvec__max_features': [3000, 4000, 5000],\n",
       "                         'cvec__min_df': [2, 3, 4],\n",
       "                         'cvec__ngram_range': [(1, 1), (1, 2), (1, 3)]})"
      ]
     },
     "execution_count": 62,
     "metadata": {},
     "output_type": "execute_result"
    }
   ],
   "source": [
    "# Fit GridSearch to training data.\n",
    "gs1.fit(X_train, y_train)"
   ]
  },
  {
   "cell_type": "code",
   "execution_count": 63,
   "metadata": {},
   "outputs": [
    {
     "data": {
      "text/plain": [
       "0.8934812418691326"
      ]
     },
     "execution_count": 63,
     "metadata": {},
     "output_type": "execute_result"
    }
   ],
   "source": [
    "gs1.best_score_"
   ]
  },
  {
   "cell_type": "code",
   "execution_count": 64,
   "metadata": {},
   "outputs": [
    {
     "data": {
      "text/plain": [
       "{'cvec__max_df': 0.9,\n",
       " 'cvec__max_features': 5000,\n",
       " 'cvec__min_df': 2,\n",
       " 'cvec__ngram_range': (1, 3)}"
      ]
     },
     "execution_count": 64,
     "metadata": {},
     "output_type": "execute_result"
    }
   ],
   "source": [
    "gs1.best_params_"
   ]
  },
  {
   "cell_type": "code",
   "execution_count": 65,
   "metadata": {},
   "outputs": [],
   "source": [
    "# Save best model as gs_model.\n",
    "gs_best1 = gs1.best_estimator_"
   ]
  },
  {
   "cell_type": "code",
   "execution_count": 66,
   "metadata": {},
   "outputs": [
    {
     "data": {
      "text/plain": [
       "0.9983221476510067"
      ]
     },
     "execution_count": 66,
     "metadata": {},
     "output_type": "execute_result"
    }
   ],
   "source": [
    "# Fit and Score model\n",
    "gs_best1.fit(X_train,y_train)\n",
    "gs_best1.score(X_train, y_train)"
   ]
  },
  {
   "cell_type": "code",
   "execution_count": 67,
   "metadata": {},
   "outputs": [
    {
     "data": {
      "text/plain": [
       "0.9275929549902152"
      ]
     },
     "execution_count": 67,
     "metadata": {},
     "output_type": "execute_result"
    }
   ],
   "source": [
    "gs_best1.score(X_test, y_test)"
   ]
  },
  {
   "cell_type": "markdown",
   "metadata": {},
   "source": [
    "### Pipeline Model 2 (Count vectorizer + KNN)"
   ]
  },
  {
   "cell_type": "code",
   "execution_count": 68,
   "metadata": {},
   "outputs": [],
   "source": [
    "# Set up a pipeline to run CountVectorizer ad KNN\n",
    "pipe2 = Pipeline([\n",
    "    ('cvec', CountVectorizer()),\n",
    "    ('knn', KNeighborsClassifier())\n",
    "])"
   ]
  },
  {
   "cell_type": "code",
   "execution_count": 69,
   "metadata": {},
   "outputs": [
    {
     "data": {
      "text/plain": [
       "0.8053691275167785"
      ]
     },
     "execution_count": 69,
     "metadata": {},
     "output_type": "execute_result"
    }
   ],
   "source": [
    "pipe2.fit(X_train,y_train)\n",
    "pipe2.score(X_train,y_train)"
   ]
  },
  {
   "cell_type": "code",
   "execution_count": 70,
   "metadata": {},
   "outputs": [
    {
     "data": {
      "text/plain": [
       "0.684931506849315"
      ]
     },
     "execution_count": 70,
     "metadata": {},
     "output_type": "execute_result"
    }
   ],
   "source": [
    "pipe2.score(X_test,y_test)"
   ]
  },
  {
   "cell_type": "code",
   "execution_count": 71,
   "metadata": {},
   "outputs": [
    {
     "data": {
      "text/plain": [
       "0.7097043001300938"
      ]
     },
     "execution_count": 71,
     "metadata": {},
     "output_type": "execute_result"
    }
   ],
   "source": [
    "cross_val_score(pipe2, X_train, y_train, cv=5).mean()"
   ]
  },
  {
   "cell_type": "markdown",
   "metadata": {},
   "source": [
    "### Pipeline Model 2b (TFIDF Vectorizer + KNN)"
   ]
  },
  {
   "cell_type": "code",
   "execution_count": 72,
   "metadata": {},
   "outputs": [],
   "source": [
    "pipe2b = Pipeline([\n",
    "    ('tvec', TfidfVectorizer()),\n",
    "    ('knn', KNeighborsClassifier())\n",
    "])"
   ]
  },
  {
   "cell_type": "code",
   "execution_count": 73,
   "metadata": {},
   "outputs": [
    {
     "name": "stdout",
     "output_type": "stream",
     "text": [
      "CV Score: 0.8507084842305123\n",
      "Training Score: 0.9052013422818792\n",
      "Testing Score: 0.8414872798434442\n"
     ]
    }
   ],
   "source": [
    "pipe2b.fit(X_train, y_train)\n",
    "\n",
    "# Evaluate logistic regression.\n",
    "print(f'CV Score: {cross_val_score(pipe2b, X_train, y_train, cv=5).mean()}')\n",
    "print(f'Training Score: {pipe2b.score(X_train, y_train)}')\n",
    "print(f'Testing Score: {pipe2b.score(X_test, y_test)}')"
   ]
  },
  {
   "cell_type": "markdown",
   "metadata": {},
   "source": [
    "### Pipeline Model 3 (Count vectorizer + SVM)"
   ]
  },
  {
   "cell_type": "code",
   "execution_count": 74,
   "metadata": {},
   "outputs": [],
   "source": [
    "# Set up a pipeline to run CountVectorizer ad SVM\n",
    "pipe3 = Pipeline([\n",
    "    ('cvec', CountVectorizer()),\n",
    "    ('svm', SVC())\n",
    "])"
   ]
  },
  {
   "cell_type": "code",
   "execution_count": 75,
   "metadata": {},
   "outputs": [
    {
     "data": {
      "text/plain": [
       "0.9546979865771812"
      ]
     },
     "execution_count": 75,
     "metadata": {},
     "output_type": "execute_result"
    }
   ],
   "source": [
    "pipe3.fit(X_train,y_train)\n",
    "pipe3.score(X_train,y_train)"
   ]
  },
  {
   "cell_type": "code",
   "execution_count": 76,
   "metadata": {},
   "outputs": [
    {
     "data": {
      "text/plain": [
       "0.8943248532289628"
      ]
     },
     "execution_count": 76,
     "metadata": {},
     "output_type": "execute_result"
    }
   ],
   "source": [
    "pipe3.score(X_test,y_test)"
   ]
  },
  {
   "cell_type": "code",
   "execution_count": 77,
   "metadata": {},
   "outputs": [
    {
     "data": {
      "text/plain": [
       "0.8750079111142366"
      ]
     },
     "execution_count": 77,
     "metadata": {},
     "output_type": "execute_result"
    }
   ],
   "source": [
    "cross_val_score(pipe3, X_train, y_train, cv=5).mean()"
   ]
  },
  {
   "cell_type": "markdown",
   "metadata": {},
   "source": [
    "### Pipeline Model 3b (TFIDF vectorizer + SVM)"
   ]
  },
  {
   "cell_type": "code",
   "execution_count": 78,
   "metadata": {},
   "outputs": [],
   "source": [
    "pipe3b = Pipeline([\n",
    "    ('tvec', TfidfVectorizer()),\n",
    "    ('svm', SVC())\n",
    "])"
   ]
  },
  {
   "cell_type": "code",
   "execution_count": 79,
   "metadata": {},
   "outputs": [
    {
     "name": "stdout",
     "output_type": "stream",
     "text": [
      "CV Score: 0.9110931401849441\n",
      "Training Score: 0.99748322147651\n",
      "Testing Score: 0.9158512720156555\n"
     ]
    }
   ],
   "source": [
    "pipe3b.fit(X_train, y_train)\n",
    "\n",
    "# Evaluate logistic regression.\n",
    "print(f'CV Score: {cross_val_score(pipe3b, X_train, y_train, cv=5).mean()}')\n",
    "print(f'Training Score: {pipe3b.score(X_train, y_train)}')\n",
    "print(f'Testing Score: {pipe3b.score(X_test, y_test)}')"
   ]
  },
  {
   "cell_type": "markdown",
   "metadata": {},
   "source": [
    "### Using GridSearchCV (Count vectorizer + SVM)"
   ]
  },
  {
   "cell_type": "code",
   "execution_count": 80,
   "metadata": {},
   "outputs": [
    {
     "data": {
      "text/plain": [
       "{'memory': None,\n",
       " 'steps': [('cvec', CountVectorizer()), ('svm', SVC())],\n",
       " 'verbose': False,\n",
       " 'cvec': CountVectorizer(),\n",
       " 'svm': SVC(),\n",
       " 'cvec__analyzer': 'word',\n",
       " 'cvec__binary': False,\n",
       " 'cvec__decode_error': 'strict',\n",
       " 'cvec__dtype': numpy.int64,\n",
       " 'cvec__encoding': 'utf-8',\n",
       " 'cvec__input': 'content',\n",
       " 'cvec__lowercase': True,\n",
       " 'cvec__max_df': 1.0,\n",
       " 'cvec__max_features': None,\n",
       " 'cvec__min_df': 1,\n",
       " 'cvec__ngram_range': (1, 1),\n",
       " 'cvec__preprocessor': None,\n",
       " 'cvec__stop_words': None,\n",
       " 'cvec__strip_accents': None,\n",
       " 'cvec__token_pattern': '(?u)\\\\b\\\\w\\\\w+\\\\b',\n",
       " 'cvec__tokenizer': None,\n",
       " 'cvec__vocabulary': None,\n",
       " 'svm__C': 1.0,\n",
       " 'svm__break_ties': False,\n",
       " 'svm__cache_size': 200,\n",
       " 'svm__class_weight': None,\n",
       " 'svm__coef0': 0.0,\n",
       " 'svm__decision_function_shape': 'ovr',\n",
       " 'svm__degree': 3,\n",
       " 'svm__gamma': 'scale',\n",
       " 'svm__kernel': 'rbf',\n",
       " 'svm__max_iter': -1,\n",
       " 'svm__probability': False,\n",
       " 'svm__random_state': None,\n",
       " 'svm__shrinking': True,\n",
       " 'svm__tol': 0.001,\n",
       " 'svm__verbose': False}"
      ]
     },
     "execution_count": 80,
     "metadata": {},
     "output_type": "execute_result"
    }
   ],
   "source": [
    "pipe3.get_params()"
   ]
  },
  {
   "cell_type": "code",
   "execution_count": 81,
   "metadata": {},
   "outputs": [],
   "source": [
    "# Search over the following values of hyperparameters:\n",
    "# Maximum number of features fit: 1000, 2000, 3000\n",
    "# Minimum number of documents needed to include token: 2, 3, 4\n",
    "# Maximum number of documents needed to include token: 90%, 95%\n",
    "# Check (individual tokens) and also check (individual tokens and 2-grams).\n",
    "\n",
    "pipe_params = {\n",
    "    'cvec__max_features': [1000, 2000, 3000],\n",
    "    'cvec__min_df': [2,3,4],\n",
    "    'cvec__max_df': [0.9, 0.95],\n",
    "    'cvec__ngram_range': [(1,1),(1,2),(1,3)],\n",
    "}"
   ]
  },
  {
   "cell_type": "code",
   "execution_count": 82,
   "metadata": {},
   "outputs": [],
   "source": [
    "gs3 = GridSearchCV(pipe3, param_grid = pipe_params, cv=5) "
   ]
  },
  {
   "cell_type": "code",
   "execution_count": 83,
   "metadata": {},
   "outputs": [
    {
     "data": {
      "text/plain": [
       "GridSearchCV(cv=5,\n",
       "             estimator=Pipeline(steps=[('cvec', CountVectorizer()),\n",
       "                                       ('svm', SVC())]),\n",
       "             param_grid={'cvec__max_df': [0.9, 0.95],\n",
       "                         'cvec__max_features': [1000, 2000, 3000],\n",
       "                         'cvec__min_df': [2, 3, 4],\n",
       "                         'cvec__ngram_range': [(1, 1), (1, 2), (1, 3)]})"
      ]
     },
     "execution_count": 83,
     "metadata": {},
     "output_type": "execute_result"
    }
   ],
   "source": [
    "# Fit GridSearch to training data.\n",
    "gs3.fit(X_train, y_train)"
   ]
  },
  {
   "cell_type": "code",
   "execution_count": 84,
   "metadata": {},
   "outputs": [
    {
     "data": {
      "text/plain": [
       "0.8808937801061848"
      ]
     },
     "execution_count": 84,
     "metadata": {},
     "output_type": "execute_result"
    }
   ],
   "source": [
    "gs3.best_score_"
   ]
  },
  {
   "cell_type": "code",
   "execution_count": 85,
   "metadata": {},
   "outputs": [
    {
     "data": {
      "text/plain": [
       "{'cvec__max_df': 0.9,\n",
       " 'cvec__max_features': 3000,\n",
       " 'cvec__min_df': 2,\n",
       " 'cvec__ngram_range': (1, 3)}"
      ]
     },
     "execution_count": 85,
     "metadata": {},
     "output_type": "execute_result"
    }
   ],
   "source": [
    "gs3.best_params_"
   ]
  },
  {
   "cell_type": "code",
   "execution_count": 86,
   "metadata": {},
   "outputs": [],
   "source": [
    "# Save best model as gs_model.\n",
    "gs_best3 = gs3.best_estimator_"
   ]
  },
  {
   "cell_type": "code",
   "execution_count": 87,
   "metadata": {},
   "outputs": [
    {
     "data": {
      "text/plain": [
       "0.9563758389261745"
      ]
     },
     "execution_count": 87,
     "metadata": {},
     "output_type": "execute_result"
    }
   ],
   "source": [
    "# Fit and Score model\n",
    "gs_best3.fit(X_train,y_train)\n",
    "gs_best3.score(X_train, y_train)"
   ]
  },
  {
   "cell_type": "code",
   "execution_count": 88,
   "metadata": {},
   "outputs": [
    {
     "data": {
      "text/plain": [
       "0.898238747553816"
      ]
     },
     "execution_count": 88,
     "metadata": {},
     "output_type": "execute_result"
    }
   ],
   "source": [
    "gs_best3.score(X_test,y_test)"
   ]
  },
  {
   "cell_type": "markdown",
   "metadata": {},
   "source": [
    "### Pipeline Model 4 (Count vectorizer + Naive Bayes)"
   ]
  },
  {
   "cell_type": "code",
   "execution_count": 89,
   "metadata": {},
   "outputs": [],
   "source": [
    "# Set up a pipeline to run CountVectorizer ad Naive Bayes\n",
    "pipe4 = Pipeline([\n",
    "    ('cvec', CountVectorizer()),\n",
    "    ('nb', MultinomialNB())\n",
    "])"
   ]
  },
  {
   "cell_type": "code",
   "execution_count": 90,
   "metadata": {},
   "outputs": [
    {
     "data": {
      "text/plain": [
       "0.9496644295302014"
      ]
     },
     "execution_count": 90,
     "metadata": {},
     "output_type": "execute_result"
    }
   ],
   "source": [
    "pipe4.fit(X_train,y_train)\n",
    "pipe4.score(X_train,y_train)"
   ]
  },
  {
   "cell_type": "code",
   "execution_count": 91,
   "metadata": {},
   "outputs": [
    {
     "data": {
      "text/plain": [
       "0.9119373776908023"
      ]
     },
     "execution_count": 91,
     "metadata": {},
     "output_type": "execute_result"
    }
   ],
   "source": [
    "pipe4.score(X_test,y_test)"
   ]
  },
  {
   "cell_type": "code",
   "execution_count": 92,
   "metadata": {},
   "outputs": [
    {
     "data": {
      "text/plain": [
       "0.8892795611968637"
      ]
     },
     "execution_count": 92,
     "metadata": {},
     "output_type": "execute_result"
    }
   ],
   "source": [
    "cross_val_score(pipe4, X_train, y_train, cv=5).mean()"
   ]
  },
  {
   "cell_type": "markdown",
   "metadata": {},
   "source": [
    "### Pipeline Model 4b (TFIDF vectorizer + Naive Bayes)"
   ]
  },
  {
   "cell_type": "code",
   "execution_count": 93,
   "metadata": {},
   "outputs": [],
   "source": [
    "pipe4b = Pipeline([\n",
    "    ('tvec', TfidfVectorizer()),\n",
    "    ('nb', MultinomialNB())\n",
    "])"
   ]
  },
  {
   "cell_type": "code",
   "execution_count": 94,
   "metadata": {},
   "outputs": [
    {
     "name": "stdout",
     "output_type": "stream",
     "text": [
      "CV Score: 0.883428852712633\n",
      "Training Score: 0.9412751677852349\n",
      "Testing Score: 0.8884540117416829\n"
     ]
    }
   ],
   "source": [
    "pipe4b.fit(X_train, y_train)\n",
    "\n",
    "# Evaluate logistic regression.\n",
    "print(f'CV Score: {cross_val_score(pipe4b, X_train, y_train, cv=5).mean()}')\n",
    "print(f'Training Score: {pipe4b.score(X_train, y_train)}')\n",
    "print(f'Testing Score: {pipe4b.score(X_test, y_test)}')"
   ]
  },
  {
   "cell_type": "markdown",
   "metadata": {},
   "source": [
    "### Using GridSearchCV (Count vectorizer + Naive Bayes)"
   ]
  },
  {
   "cell_type": "code",
   "execution_count": 95,
   "metadata": {},
   "outputs": [],
   "source": [
    "# Search over the following values of hyperparameters:\n",
    "# Maximum number of features fit: 1000, 2000, 3000\n",
    "# Minimum number of documents needed to include token: 2, 3, 4\n",
    "# Maximum number of documents needed to include token: 90%, 95%\n",
    "# Check (individual tokens) and also check (individual tokens and 2-grams).\n",
    "\n",
    "pipe_params = {\n",
    "    'cvec__max_features': [1000, 2000, 3000],\n",
    "    'cvec__min_df': [2,3,4],\n",
    "    'cvec__max_df': [0.9, 0.95],\n",
    "    'cvec__ngram_range': [(1,1),(1,2),(1,3)],\n",
    "}"
   ]
  },
  {
   "cell_type": "code",
   "execution_count": 96,
   "metadata": {},
   "outputs": [],
   "source": [
    "gs4 = GridSearchCV(pipe4, param_grid = pipe_params, cv=5) "
   ]
  },
  {
   "cell_type": "code",
   "execution_count": 97,
   "metadata": {},
   "outputs": [
    {
     "data": {
      "text/plain": [
       "GridSearchCV(cv=5,\n",
       "             estimator=Pipeline(steps=[('cvec', CountVectorizer()),\n",
       "                                       ('nb', MultinomialNB())]),\n",
       "             param_grid={'cvec__max_df': [0.9, 0.95],\n",
       "                         'cvec__max_features': [1000, 2000, 3000],\n",
       "                         'cvec__min_df': [2, 3, 4],\n",
       "                         'cvec__ngram_range': [(1, 1), (1, 2), (1, 3)]})"
      ]
     },
     "execution_count": 97,
     "metadata": {},
     "output_type": "execute_result"
    }
   ],
   "source": [
    "# Fit GridSearch to training data.\n",
    "gs4.fit(X_train, y_train)"
   ]
  },
  {
   "cell_type": "code",
   "execution_count": 98,
   "metadata": {},
   "outputs": [
    {
     "data": {
      "text/plain": [
       "0.9002074469955346"
      ]
     },
     "execution_count": 98,
     "metadata": {},
     "output_type": "execute_result"
    }
   ],
   "source": [
    "gs4.best_score_"
   ]
  },
  {
   "cell_type": "code",
   "execution_count": 99,
   "metadata": {},
   "outputs": [
    {
     "data": {
      "text/plain": [
       "{'cvec__max_df': 0.9,\n",
       " 'cvec__max_features': 3000,\n",
       " 'cvec__min_df': 4,\n",
       " 'cvec__ngram_range': (1, 2)}"
      ]
     },
     "execution_count": 99,
     "metadata": {},
     "output_type": "execute_result"
    }
   ],
   "source": [
    "gs4.best_params_"
   ]
  },
  {
   "cell_type": "code",
   "execution_count": 100,
   "metadata": {},
   "outputs": [],
   "source": [
    "# Save best model as gs_model.\n",
    "gs_best4 = gs4.best_estimator_"
   ]
  },
  {
   "cell_type": "code",
   "execution_count": 101,
   "metadata": {},
   "outputs": [
    {
     "data": {
      "text/plain": [
       "0.947986577181208"
      ]
     },
     "execution_count": 101,
     "metadata": {},
     "output_type": "execute_result"
    }
   ],
   "source": [
    "# Fit and Score model\n",
    "gs_best4.fit(X_train,y_train)\n",
    "gs_best4.score(X_train, y_train)"
   ]
  },
  {
   "cell_type": "code",
   "execution_count": 102,
   "metadata": {},
   "outputs": [
    {
     "data": {
      "text/plain": [
       "0.9178082191780822"
      ]
     },
     "execution_count": 102,
     "metadata": {},
     "output_type": "execute_result"
    }
   ],
   "source": [
    "gs_best4.score(X_test,y_test)"
   ]
  },
  {
   "cell_type": "markdown",
   "metadata": {},
   "source": [
    "### Summary"
   ]
  },
  {
   "cell_type": "markdown",
   "metadata": {},
   "source": [
    "|MODEL|CV R2|Train R2|Test R2|\n",
    "|---|---|---|---|\n",
    "|Pipeline Model 1 (Count vectorizer + Logistic Regression)|\t0.89292|\t0.99835|\t0.90403|\n",
    "|Pipeline Model 1b (TFIDF vectorizer + Logistic Regression)|\t0.89950|\t0.96128|\t0.92706|\n",
    "|GridSearchCV (Count vectorizer + Logistic Regression)|\t0.90115|\t0.99835|\t0.91171|\n",
    "|Pipeline Model 2 (Count vectorizer + KNN)|\t0.71254|\t0.86079|\t0.74664|\n",
    "|Pipeline Model 2b (TFIDF vectorizer + KNN)|\t0.83607|\t0.90362|\t0.85988|\n",
    "|Pipeline Model 3 (Count vectorizer + SVM)|\t0.87974|\t0.95057|\t0.90211|\n",
    "|Pipeline Model 3b (TFIDF vectorizer + SVM)|\t0.90197|\t0.99671|\t0.92898|\n",
    "|GridSearchCV (Count vectorizer + SVM)|\t0.88716|\t0.95387|\t0.91938|\n",
    "|Pipeline Model 4 (Count vectorizer + Naive Bayes)|\t0.89455|\t0.94975|\t0.91746|\n",
    "|Pipeline Model 4b (TFIDF vectorizer + Naive Bayes)|\t0.87807|\t0.93657|\t0.90403|\n",
    "|GridSearchCV (Count vectorizer + Naive Bayes)|\t0.90361|\t0.93657|\t0.92898|"
   ]
  },
  {
   "cell_type": "markdown",
   "metadata": {},
   "source": []
  },
  {
   "cell_type": "markdown",
   "metadata": {},
   "source": [
    "For logistic regression and KNN Classifier, the R2 score for the train and test data set seems to have a great difference, meaning that the model is overfitting. After we tried using SVM, the difference became less. A gridsearch shows that these parameters work better: \n",
    "- 'cvec__max_df': 0.9\n",
    "- 'cvec__max_features': 3000\n",
    "- 'cvec__min_df': 2\n",
    "- 'cvec__ngram_range': (1, 3)"
   ]
  },
  {
   "cell_type": "markdown",
   "metadata": {},
   "source": [
    "Comparing this with Naive Bayes model, Naive Bayes is performing better as compared to SVM in this case, with the following parameters:\n",
    "- 'cvec__max_df': 0.9\n",
    "- 'cvec__max_features': 2000\n",
    "- 'cvec__min_df': 4\n",
    "- 'cvec__ngram_range': (1, 2)\n",
    "\n",
    "There is even less overfitting with a higher mean score using cross validation.\n",
    "\n",
    "We will evaluate the 2 models above."
   ]
  },
  {
   "cell_type": "markdown",
   "metadata": {},
   "source": [
    "## 5. Model Evalution\n",
    "\n",
    "### Confusion Matrix for Count vectorizer + SVM Model"
   ]
  },
  {
   "cell_type": "code",
   "execution_count": 103,
   "metadata": {},
   "outputs": [
    {
     "data": {
      "text/plain": [
       "array([1, 0, 1, 0, 0, 0, 1, 1, 1, 0])"
      ]
     },
     "execution_count": 103,
     "metadata": {},
     "output_type": "execute_result"
    }
   ],
   "source": [
    "pred_3 = gs_best3.predict(X_test)\n",
    "pred_3[:10]"
   ]
  },
  {
   "cell_type": "code",
   "execution_count": 104,
   "metadata": {},
   "outputs": [
    {
     "data": {
      "text/plain": [
       "array([[221,  27],\n",
       "       [ 25, 238]])"
      ]
     },
     "execution_count": 104,
     "metadata": {},
     "output_type": "execute_result"
    }
   ],
   "source": [
    "cm1 = confusion_matrix(y_test, pred_3)\n",
    "cm1"
   ]
  },
  {
   "cell_type": "code",
   "execution_count": 105,
   "metadata": {},
   "outputs": [
    {
     "name": "stdout",
     "output_type": "stream",
     "text": [
      "True Negatives: 221\n",
      "False Positives: 27\n",
      "False Negatives: 25\n",
      "True Positives: 238\n"
     ]
    }
   ],
   "source": [
    "tn, fp, fn, tp = confusion_matrix(y_test, pred_3).ravel()\n",
    "print(\"True Negatives: %s\" % tn)\n",
    "print(\"False Positives: %s\" % fp)\n",
    "print(\"False Negatives: %s\" % fn)\n",
    "print(\"True Positives: %s\" % tp)"
   ]
  },
  {
   "cell_type": "code",
   "execution_count": 106,
   "metadata": {},
   "outputs": [
    {
     "data": {
      "text/plain": [
       "<sklearn.metrics._plot.confusion_matrix.ConfusionMatrixDisplay at 0x1a27265510>"
      ]
     },
     "execution_count": 106,
     "metadata": {},
     "output_type": "execute_result"
    },
    {
     "data": {
      "image/png": "[encoded data removed]",
      "text/plain": [
       "<Figure size 432x288 with 2 Axes>"
      ]
     },
     "metadata": {
      "needs_background": "light"
     },
     "output_type": "display_data"
    }
   ],
   "source": [
    "# Plotting the confusion matrix\n",
    "plot_confusion_matrix(gs_best3, X_test, y_test, cmap='Reds')"
   ]
  },
  {
   "cell_type": "code",
   "execution_count": 107,
   "metadata": {},
   "outputs": [
    {
     "name": "stdout",
     "output_type": "stream",
     "text": [
      "accuracy: 0.898238747553816\n",
      "sensitivity: 0.9049429657794676\n",
      "specificity: 0.8911290322580645\n",
      "precision: 0.8981132075471698\n"
     ]
    }
   ],
   "source": [
    "# Evaluation metrics\n",
    "print (f'accuracy: {(tp+tn)/(tn+fp+fn+tp)}')\n",
    "print (f'sensitivity: {tp/(tp+fn)}')\n",
    "print (f'specificity: {tn/(tn+fp)}')\n",
    "print (f'precision: {tp/(tp+fp)}')"
   ]
  },
  {
   "cell_type": "markdown",
   "metadata": {},
   "source": [
    "### Confusion Matrix for Count vectorizer + Naive Bayes Model"
   ]
  },
  {
   "cell_type": "code",
   "execution_count": 108,
   "metadata": {},
   "outputs": [
    {
     "data": {
      "text/plain": [
       "array([1, 0, 1, 0, 0, 0, 1, 1, 1, 0])"
      ]
     },
     "execution_count": 108,
     "metadata": {},
     "output_type": "execute_result"
    }
   ],
   "source": [
    "pred_4 = gs_best4.predict(X_test)\n",
    "pred_4[:10]"
   ]
  },
  {
   "cell_type": "code",
   "execution_count": 109,
   "metadata": {},
   "outputs": [
    {
     "data": {
      "text/plain": [
       "array([[238,  10],\n",
       "       [ 32, 231]])"
      ]
     },
     "execution_count": 109,
     "metadata": {},
     "output_type": "execute_result"
    }
   ],
   "source": [
    "cm2 = confusion_matrix(y_test, pred_4)\n",
    "cm2"
   ]
  },
  {
   "cell_type": "code",
   "execution_count": 110,
   "metadata": {},
   "outputs": [
    {
     "name": "stdout",
     "output_type": "stream",
     "text": [
      "True Negatives: 238\n",
      "False Positives: 10\n",
      "False Negatives: 32\n",
      "True Positives: 231\n"
     ]
    }
   ],
   "source": [
    "tn2, fp2, fn2, tp2 = confusion_matrix(y_test, pred_4).ravel()\n",
    "print(\"True Negatives: %s\" % tn2)\n",
    "print(\"False Positives: %s\" % fp2)\n",
    "print(\"False Negatives: %s\" % fn2)\n",
    "print(\"True Positives: %s\" % tp2)"
   ]
  },
  {
   "cell_type": "code",
   "execution_count": 111,
   "metadata": {},
   "outputs": [
    {
     "data": {
      "text/plain": [
       "<sklearn.metrics._plot.confusion_matrix.ConfusionMatrixDisplay at 0x1a26cc5c90>"
      ]
     },
     "execution_count": 111,
     "metadata": {},
     "output_type": "execute_result"
    },
    {
     "data": {
      "image/png": "[encoded data removed]",
      "text/plain": [
       "<Figure size 432x288 with 2 Axes>"
      ]
     },
     "metadata": {
      "needs_background": "light"
     },
     "output_type": "display_data"
    }
   ],
   "source": [
    "# Plotting the confusion matrix\n",
    "plot_confusion_matrix(gs_best4, X_test, y_test, cmap='Reds')"
   ]
  },
  {
   "cell_type": "code",
   "execution_count": 112,
   "metadata": {},
   "outputs": [
    {
     "name": "stdout",
     "output_type": "stream",
     "text": [
      "accuracy: 0.9178082191780822\n",
      "sensitivity: 0.8783269961977186\n",
      "specificity: 0.9596774193548387\n",
      "precision: 0.9585062240663901\n"
     ]
    }
   ],
   "source": [
    "# Showing the evaulation metrics\n",
    "print (f'accuracy: {(tp2+tn2)/(tn2+fp2+fn2+tp2)}')\n",
    "print (f'sensitivity: {tp2/(tp2+fn2)}')\n",
    "print (f'specificity: {tn2/(tn2+fp2)}')\n",
    "print (f'precision: {tp2/(tp2+fp2)}')"
   ]
  },
  {
   "cell_type": "markdown",
   "metadata": {},
   "source": [
    "### Analyzing the words with highest frequency"
   ]
  },
  {
   "cell_type": "code",
   "execution_count": 113,
   "metadata": {},
   "outputs": [
    {
     "data": {
      "text/html": [
       "<div>\n",
       "<style scoped>\n",
       "    .dataframe tbody tr th:only-of-type {\n",
       "        vertical-align: middle;\n",
       "    }\n",
       "\n",
       "    .dataframe tbody tr th {\n",
       "        vertical-align: top;\n",
       "    }\n",
       "\n",
       "    .dataframe thead th {\n",
       "        text-align: right;\n",
       "    }\n",
       "</style>\n",
       "<table border=\"1\" class=\"dataframe\">\n",
       "  <thead>\n",
       "    <tr style=\"text-align: right;\">\n",
       "      <th></th>\n",
       "      <th>subreddit</th>\n",
       "      <th>selftext</th>\n",
       "      <th>name</th>\n",
       "      <th>cleantext</th>\n",
       "      <th>text_len</th>\n",
       "      <th>label</th>\n",
       "    </tr>\n",
       "  </thead>\n",
       "  <tbody>\n",
       "    <tr>\n",
       "      <th>2</th>\n",
       "      <td>TryingForABaby</td>\n",
       "      <td>I legitimately don’t understand how people can...</td>\n",
       "      <td>t3_iq98qu</td>\n",
       "      <td>legitim understand peopl ntnp feel black white...</td>\n",
       "      <td>115</td>\n",
       "      <td>1</td>\n",
       "    </tr>\n",
       "    <tr>\n",
       "      <th>3</th>\n",
       "      <td>TryingForABaby</td>\n",
       "      <td>I know that depo didn't like you, so you went ...</td>\n",
       "      <td>t3_iq0qw4</td>\n",
       "      <td>know depo like went away whilst around know he...</td>\n",
       "      <td>31</td>\n",
       "      <td>1</td>\n",
       "    </tr>\n",
       "    <tr>\n",
       "      <th>4</th>\n",
       "      <td>TryingForABaby</td>\n",
       "      <td>Just a quick lament.. why, just why, does it s...</td>\n",
       "      <td>t3_iqb0sg</td>\n",
       "      <td>quick lament seem like contact facebook babi k...</td>\n",
       "      <td>15</td>\n",
       "      <td>1</td>\n",
       "    </tr>\n",
       "    <tr>\n",
       "      <th>5</th>\n",
       "      <td>TryingForABaby</td>\n",
       "      <td>When we started our journey in January I hoped...</td>\n",
       "      <td>t3_iqe51j</td>\n",
       "      <td>start journey januari hope get lucki septemb b...</td>\n",
       "      <td>110</td>\n",
       "      <td>1</td>\n",
       "    </tr>\n",
       "    <tr>\n",
       "      <th>6</th>\n",
       "      <td>TryingForABaby</td>\n",
       "      <td>I’ve posted once before about the confusing in...</td>\n",
       "      <td>t3_iq6bcj</td>\n",
       "      <td>post confus inform receiv fertil clinic amh le...</td>\n",
       "      <td>126</td>\n",
       "      <td>1</td>\n",
       "    </tr>\n",
       "  </tbody>\n",
       "</table>\n",
       "</div>"
      ],
      "text/plain": [
       "        subreddit                                           selftext  \\\n",
       "2  TryingForABaby  I legitimately don’t understand how people can...   \n",
       "3  TryingForABaby  I know that depo didn't like you, so you went ...   \n",
       "4  TryingForABaby  Just a quick lament.. why, just why, does it s...   \n",
       "5  TryingForABaby  When we started our journey in January I hoped...   \n",
       "6  TryingForABaby  I’ve posted once before about the confusing in...   \n",
       "\n",
       "        name                                          cleantext  text_len  \\\n",
       "2  t3_iq98qu  legitim understand peopl ntnp feel black white...       115   \n",
       "3  t3_iq0qw4  know depo like went away whilst around know he...        31   \n",
       "4  t3_iqb0sg  quick lament seem like contact facebook babi k...        15   \n",
       "5  t3_iqe51j  start journey januari hope get lucki septemb b...       110   \n",
       "6  t3_iq6bcj  post confus inform receiv fertil clinic amh le...       126   \n",
       "\n",
       "   label  \n",
       "2      1  \n",
       "3      1  \n",
       "4      1  \n",
       "5      1  \n",
       "6      1  "
      ]
     },
     "execution_count": 113,
     "metadata": {},
     "output_type": "execute_result"
    }
   ],
   "source": [
    "train.head()"
   ]
  },
  {
   "cell_type": "code",
   "execution_count": 114,
   "metadata": {},
   "outputs": [
    {
     "data": {
      "text/plain": [
       "2    legitim understand peopl ntnp feel black white...\n",
       "3    know depo like went away whilst around know he...\n",
       "4    quick lament seem like contact facebook babi k...\n",
       "5    start journey januari hope get lucki septemb b...\n",
       "6    post confus inform receiv fertil clinic amh le...\n",
       "Name: cleantext, dtype: object"
      ]
     },
     "execution_count": 114,
     "metadata": {},
     "output_type": "execute_result"
    }
   ],
   "source": [
    "# extracting cleantext for r/TryingForABaby\n",
    "trying = train.loc[train['subreddit']=='TryingForABaby','cleantext']\n",
    "trying.head()"
   ]
  },
  {
   "cell_type": "code",
   "execution_count": 115,
   "metadata": {},
   "outputs": [
    {
     "data": {
      "text/plain": [
       "879    belov best friend husband told husband expect ...\n",
       "880    best friend sinc childhood like sister found p...\n",
       "881    hi new chemic pregnanc januari anoth chemic pr...\n",
       "882    suppos week accord last period think nearer we...\n",
       "883    second mmc year fuck life last one c sign blee...\n",
       "Name: cleantext, dtype: object"
      ]
     },
     "execution_count": 115,
     "metadata": {},
     "output_type": "execute_result"
    }
   ],
   "source": [
    "# extracting cleantext for r/Miscarriage\n",
    "miscarriage = train.loc[train['subreddit']=='Miscarriage','cleantext']\n",
    "miscarriage.head()"
   ]
  },
  {
   "cell_type": "code",
   "execution_count": 116,
   "metadata": {},
   "outputs": [],
   "source": [
    "try_vec = CountVectorizer(max_df=0.9, max_features=2000, min_df=4, ngram_range=(1, 2))"
   ]
  },
  {
   "cell_type": "code",
   "execution_count": 117,
   "metadata": {},
   "outputs": [],
   "source": [
    "try_features = try_vec.fit_transform(trying)"
   ]
  },
  {
   "cell_type": "code",
   "execution_count": 118,
   "metadata": {},
   "outputs": [
    {
     "data": {
      "text/html": [
       "<div>\n",
       "<style scoped>\n",
       "    .dataframe tbody tr th:only-of-type {\n",
       "        vertical-align: middle;\n",
       "    }\n",
       "\n",
       "    .dataframe tbody tr th {\n",
       "        vertical-align: top;\n",
       "    }\n",
       "\n",
       "    .dataframe thead th {\n",
       "        text-align: right;\n",
       "    }\n",
       "</style>\n",
       "<table border=\"1\" class=\"dataframe\">\n",
       "  <thead>\n",
       "    <tr style=\"text-align: right;\">\n",
       "      <th></th>\n",
       "      <th>abil</th>\n",
       "      <th>abl</th>\n",
       "      <th>abl get</th>\n",
       "      <th>abnorm</th>\n",
       "      <th>absolut</th>\n",
       "      <th>accept</th>\n",
       "      <th>accord</th>\n",
       "      <th>account</th>\n",
       "      <th>accur</th>\n",
       "      <th>acid</th>\n",
       "      <th>...</th>\n",
       "      <th>year old</th>\n",
       "      <th>year recent</th>\n",
       "      <th>year sinc</th>\n",
       "      <th>year tri</th>\n",
       "      <th>year ttc</th>\n",
       "      <th>yesterday</th>\n",
       "      <th>yesterday today</th>\n",
       "      <th>yet</th>\n",
       "      <th>young</th>\n",
       "      <th>youtub</th>\n",
       "    </tr>\n",
       "  </thead>\n",
       "  <tbody>\n",
       "    <tr>\n",
       "      <th>0</th>\n",
       "      <td>0</td>\n",
       "      <td>0</td>\n",
       "      <td>0</td>\n",
       "      <td>0</td>\n",
       "      <td>0</td>\n",
       "      <td>0</td>\n",
       "      <td>0</td>\n",
       "      <td>0</td>\n",
       "      <td>0</td>\n",
       "      <td>0</td>\n",
       "      <td>...</td>\n",
       "      <td>1</td>\n",
       "      <td>0</td>\n",
       "      <td>1</td>\n",
       "      <td>0</td>\n",
       "      <td>0</td>\n",
       "      <td>0</td>\n",
       "      <td>0</td>\n",
       "      <td>0</td>\n",
       "      <td>0</td>\n",
       "      <td>0</td>\n",
       "    </tr>\n",
       "    <tr>\n",
       "      <th>1</th>\n",
       "      <td>0</td>\n",
       "      <td>0</td>\n",
       "      <td>0</td>\n",
       "      <td>0</td>\n",
       "      <td>0</td>\n",
       "      <td>0</td>\n",
       "      <td>0</td>\n",
       "      <td>0</td>\n",
       "      <td>0</td>\n",
       "      <td>0</td>\n",
       "      <td>...</td>\n",
       "      <td>0</td>\n",
       "      <td>0</td>\n",
       "      <td>0</td>\n",
       "      <td>0</td>\n",
       "      <td>0</td>\n",
       "      <td>0</td>\n",
       "      <td>0</td>\n",
       "      <td>0</td>\n",
       "      <td>0</td>\n",
       "      <td>0</td>\n",
       "    </tr>\n",
       "    <tr>\n",
       "      <th>2</th>\n",
       "      <td>0</td>\n",
       "      <td>0</td>\n",
       "      <td>0</td>\n",
       "      <td>0</td>\n",
       "      <td>0</td>\n",
       "      <td>0</td>\n",
       "      <td>0</td>\n",
       "      <td>0</td>\n",
       "      <td>0</td>\n",
       "      <td>0</td>\n",
       "      <td>...</td>\n",
       "      <td>0</td>\n",
       "      <td>0</td>\n",
       "      <td>0</td>\n",
       "      <td>0</td>\n",
       "      <td>0</td>\n",
       "      <td>0</td>\n",
       "      <td>0</td>\n",
       "      <td>0</td>\n",
       "      <td>0</td>\n",
       "      <td>0</td>\n",
       "    </tr>\n",
       "    <tr>\n",
       "      <th>3</th>\n",
       "      <td>0</td>\n",
       "      <td>0</td>\n",
       "      <td>0</td>\n",
       "      <td>0</td>\n",
       "      <td>0</td>\n",
       "      <td>0</td>\n",
       "      <td>0</td>\n",
       "      <td>0</td>\n",
       "      <td>0</td>\n",
       "      <td>0</td>\n",
       "      <td>...</td>\n",
       "      <td>0</td>\n",
       "      <td>0</td>\n",
       "      <td>0</td>\n",
       "      <td>0</td>\n",
       "      <td>0</td>\n",
       "      <td>0</td>\n",
       "      <td>0</td>\n",
       "      <td>0</td>\n",
       "      <td>0</td>\n",
       "      <td>0</td>\n",
       "    </tr>\n",
       "    <tr>\n",
       "      <th>4</th>\n",
       "      <td>0</td>\n",
       "      <td>1</td>\n",
       "      <td>0</td>\n",
       "      <td>0</td>\n",
       "      <td>0</td>\n",
       "      <td>0</td>\n",
       "      <td>0</td>\n",
       "      <td>0</td>\n",
       "      <td>0</td>\n",
       "      <td>0</td>\n",
       "      <td>...</td>\n",
       "      <td>1</td>\n",
       "      <td>0</td>\n",
       "      <td>0</td>\n",
       "      <td>0</td>\n",
       "      <td>0</td>\n",
       "      <td>0</td>\n",
       "      <td>0</td>\n",
       "      <td>0</td>\n",
       "      <td>0</td>\n",
       "      <td>0</td>\n",
       "    </tr>\n",
       "  </tbody>\n",
       "</table>\n",
       "<p>5 rows × 2000 columns</p>\n",
       "</div>"
      ],
      "text/plain": [
       "   abil  abl  abl get  abnorm  absolut  accept  accord  account  accur  acid  \\\n",
       "0     0    0        0       0        0       0       0        0      0     0   \n",
       "1     0    0        0       0        0       0       0        0      0     0   \n",
       "2     0    0        0       0        0       0       0        0      0     0   \n",
       "3     0    0        0       0        0       0       0        0      0     0   \n",
       "4     0    1        0       0        0       0       0        0      0     0   \n",
       "\n",
       "   ...  year old  year recent  year sinc  year tri  year ttc  yesterday  \\\n",
       "0  ...         1            0          1         0         0          0   \n",
       "1  ...         0            0          0         0         0          0   \n",
       "2  ...         0            0          0         0         0          0   \n",
       "3  ...         0            0          0         0         0          0   \n",
       "4  ...         1            0          0         0         0          0   \n",
       "\n",
       "   yesterday today  yet  young  youtub  \n",
       "0                0    0      0       0  \n",
       "1                0    0      0       0  \n",
       "2                0    0      0       0  \n",
       "3                0    0      0       0  \n",
       "4                0    0      0       0  \n",
       "\n",
       "[5 rows x 2000 columns]"
      ]
     },
     "execution_count": 118,
     "metadata": {},
     "output_type": "execute_result"
    }
   ],
   "source": [
    "# Creating a dataframe for count vectorizer\n",
    "try_features_df = pd.DataFrame(try_features.toarray(), columns=try_vec.get_feature_names())\n",
    "try_features_df.head()"
   ]
  },
  {
   "cell_type": "code",
   "execution_count": 119,
   "metadata": {},
   "outputs": [
    {
     "data": {
      "text/plain": [
       "year        310\n",
       "ttc         324\n",
       "first       328\n",
       "would       342\n",
       "pregnant    348\n",
       "want        379\n",
       "go          380\n",
       "time        404\n",
       "period      405\n",
       "start       449\n",
       "ovul        493\n",
       "feel        493\n",
       "know        497\n",
       "like        520\n",
       "month       552\n",
       "test        557\n",
       "tri         637\n",
       "cycl        653\n",
       "get         666\n",
       "day         853\n",
       "dtype: int64"
      ]
     },
     "execution_count": 119,
     "metadata": {},
     "output_type": "execute_result"
    }
   ],
   "source": [
    "# Identifying top 20 words from r/TryingForABaby\n",
    "try_top = try_features_df.sum().sort_values().tail(20)\n",
    "try_top"
   ]
  },
  {
   "cell_type": "code",
   "execution_count": 120,
   "metadata": {},
   "outputs": [],
   "source": [
    "mis_vec = CountVectorizer(max_df=0.9, max_features=2000, min_df=4, ngram_range=(1, 2))\n",
    "mis_features = mis_vec.fit_transform(miscarriage)"
   ]
  },
  {
   "cell_type": "code",
   "execution_count": 121,
   "metadata": {},
   "outputs": [
    {
     "data": {
      "text/html": [
       "<div>\n",
       "<style scoped>\n",
       "    .dataframe tbody tr th:only-of-type {\n",
       "        vertical-align: middle;\n",
       "    }\n",
       "\n",
       "    .dataframe tbody tr th {\n",
       "        vertical-align: top;\n",
       "    }\n",
       "\n",
       "    .dataframe thead th {\n",
       "        text-align: right;\n",
       "    }\n",
       "</style>\n",
       "<table border=\"1\" class=\"dataframe\">\n",
       "  <thead>\n",
       "    <tr style=\"text-align: right;\">\n",
       "      <th></th>\n",
       "      <th>abdomin</th>\n",
       "      <th>abl</th>\n",
       "      <th>abl get</th>\n",
       "      <th>abnorm</th>\n",
       "      <th>abort</th>\n",
       "      <th>absolut</th>\n",
       "      <th>abus</th>\n",
       "      <th>accept</th>\n",
       "      <th>accord</th>\n",
       "      <th>account</th>\n",
       "      <th>...</th>\n",
       "      <th>year ago</th>\n",
       "      <th>year old</th>\n",
       "      <th>yell</th>\n",
       "      <th>yesterday</th>\n",
       "      <th>yesterday start</th>\n",
       "      <th>yet</th>\n",
       "      <th>yolk</th>\n",
       "      <th>yolk sac</th>\n",
       "      <th>young</th>\n",
       "      <th>zero</th>\n",
       "    </tr>\n",
       "  </thead>\n",
       "  <tbody>\n",
       "    <tr>\n",
       "      <th>0</th>\n",
       "      <td>0</td>\n",
       "      <td>0</td>\n",
       "      <td>0</td>\n",
       "      <td>0</td>\n",
       "      <td>0</td>\n",
       "      <td>0</td>\n",
       "      <td>0</td>\n",
       "      <td>0</td>\n",
       "      <td>0</td>\n",
       "      <td>0</td>\n",
       "      <td>...</td>\n",
       "      <td>0</td>\n",
       "      <td>0</td>\n",
       "      <td>0</td>\n",
       "      <td>0</td>\n",
       "      <td>0</td>\n",
       "      <td>0</td>\n",
       "      <td>0</td>\n",
       "      <td>0</td>\n",
       "      <td>0</td>\n",
       "      <td>0</td>\n",
       "    </tr>\n",
       "    <tr>\n",
       "      <th>1</th>\n",
       "      <td>0</td>\n",
       "      <td>0</td>\n",
       "      <td>0</td>\n",
       "      <td>0</td>\n",
       "      <td>0</td>\n",
       "      <td>0</td>\n",
       "      <td>0</td>\n",
       "      <td>0</td>\n",
       "      <td>0</td>\n",
       "      <td>0</td>\n",
       "      <td>...</td>\n",
       "      <td>0</td>\n",
       "      <td>0</td>\n",
       "      <td>0</td>\n",
       "      <td>0</td>\n",
       "      <td>0</td>\n",
       "      <td>0</td>\n",
       "      <td>0</td>\n",
       "      <td>0</td>\n",
       "      <td>0</td>\n",
       "      <td>0</td>\n",
       "    </tr>\n",
       "    <tr>\n",
       "      <th>2</th>\n",
       "      <td>0</td>\n",
       "      <td>0</td>\n",
       "      <td>0</td>\n",
       "      <td>0</td>\n",
       "      <td>0</td>\n",
       "      <td>0</td>\n",
       "      <td>0</td>\n",
       "      <td>1</td>\n",
       "      <td>0</td>\n",
       "      <td>0</td>\n",
       "      <td>...</td>\n",
       "      <td>0</td>\n",
       "      <td>0</td>\n",
       "      <td>0</td>\n",
       "      <td>1</td>\n",
       "      <td>0</td>\n",
       "      <td>0</td>\n",
       "      <td>1</td>\n",
       "      <td>1</td>\n",
       "      <td>0</td>\n",
       "      <td>0</td>\n",
       "    </tr>\n",
       "    <tr>\n",
       "      <th>3</th>\n",
       "      <td>0</td>\n",
       "      <td>0</td>\n",
       "      <td>0</td>\n",
       "      <td>0</td>\n",
       "      <td>0</td>\n",
       "      <td>0</td>\n",
       "      <td>0</td>\n",
       "      <td>1</td>\n",
       "      <td>1</td>\n",
       "      <td>0</td>\n",
       "      <td>...</td>\n",
       "      <td>0</td>\n",
       "      <td>0</td>\n",
       "      <td>0</td>\n",
       "      <td>0</td>\n",
       "      <td>0</td>\n",
       "      <td>0</td>\n",
       "      <td>0</td>\n",
       "      <td>0</td>\n",
       "      <td>0</td>\n",
       "      <td>0</td>\n",
       "    </tr>\n",
       "    <tr>\n",
       "      <th>4</th>\n",
       "      <td>0</td>\n",
       "      <td>0</td>\n",
       "      <td>0</td>\n",
       "      <td>0</td>\n",
       "      <td>0</td>\n",
       "      <td>0</td>\n",
       "      <td>0</td>\n",
       "      <td>0</td>\n",
       "      <td>0</td>\n",
       "      <td>0</td>\n",
       "      <td>...</td>\n",
       "      <td>0</td>\n",
       "      <td>0</td>\n",
       "      <td>0</td>\n",
       "      <td>0</td>\n",
       "      <td>0</td>\n",
       "      <td>3</td>\n",
       "      <td>0</td>\n",
       "      <td>0</td>\n",
       "      <td>0</td>\n",
       "      <td>0</td>\n",
       "    </tr>\n",
       "  </tbody>\n",
       "</table>\n",
       "<p>5 rows × 2000 columns</p>\n",
       "</div>"
      ],
      "text/plain": [
       "   abdomin  abl  abl get  abnorm  abort  absolut  abus  accept  accord  \\\n",
       "0        0    0        0       0      0        0     0       0       0   \n",
       "1        0    0        0       0      0        0     0       0       0   \n",
       "2        0    0        0       0      0        0     0       1       0   \n",
       "3        0    0        0       0      0        0     0       1       1   \n",
       "4        0    0        0       0      0        0     0       0       0   \n",
       "\n",
       "   account  ...  year ago  year old  yell  yesterday  yesterday start  yet  \\\n",
       "0        0  ...         0         0     0          0                0    0   \n",
       "1        0  ...         0         0     0          0                0    0   \n",
       "2        0  ...         0         0     0          1                0    0   \n",
       "3        0  ...         0         0     0          0                0    0   \n",
       "4        0  ...         0         0     0          0                0    3   \n",
       "\n",
       "   yolk  yolk sac  young  zero  \n",
       "0     0         0      0     0  \n",
       "1     0         0      0     0  \n",
       "2     1         1      0     0  \n",
       "3     0         0      0     0  \n",
       "4     0         0      0     0  \n",
       "\n",
       "[5 rows x 2000 columns]"
      ]
     },
     "execution_count": 121,
     "metadata": {},
     "output_type": "execute_result"
    }
   ],
   "source": [
    "mis_features_df = pd.DataFrame(mis_features.toarray(), columns=mis_vec.get_feature_names())\n",
    "mis_features_df.head()"
   ]
  },
  {
   "cell_type": "code",
   "execution_count": 122,
   "metadata": {},
   "outputs": [
    {
     "data": {
      "text/plain": [
       "still          434\n",
       "test           462\n",
       "pregnant       463\n",
       "tri            465\n",
       "would          511\n",
       "bleed          513\n",
       "first          532\n",
       "time           544\n",
       "start          548\n",
       "pregnanc       584\n",
       "want           604\n",
       "miscarriag     657\n",
       "babi           667\n",
       "get            675\n",
       "know           727\n",
       "go             740\n",
       "day            854\n",
       "like           869\n",
       "feel          1060\n",
       "week          1141\n",
       "dtype: int64"
      ]
     },
     "execution_count": 122,
     "metadata": {},
     "output_type": "execute_result"
    }
   ],
   "source": [
    "# Identifying top 20 words from r/Miscarriage\n",
    "mis_top = mis_features_df.sum().sort_values().tail(20)\n",
    "mis_top"
   ]
  },
  {
   "cell_type": "code",
   "execution_count": 123,
   "metadata": {},
   "outputs": [
    {
     "data": {
      "text/plain": [
       "pandas.core.series.Series"
      ]
     },
     "execution_count": 123,
     "metadata": {},
     "output_type": "execute_result"
    }
   ],
   "source": [
    "type(mis_top)"
   ]
  },
  {
   "cell_type": "code",
   "execution_count": 124,
   "metadata": {},
   "outputs": [
    {
     "data": {
      "text/plain": [
       "<AxesSubplot:>"
      ]
     },
     "execution_count": 124,
     "metadata": {},
     "output_type": "execute_result"
    },
    {
     "data": {
      "image/png": "[encoded data removed]",
      "text/plain": [
       "<Figure size 864x576 with 1 Axes>"
      ]
     },
     "metadata": {
      "needs_background": "light"
     },
     "output_type": "display_data"
    }
   ],
   "source": [
    "# Plotting the top 20 words for r/Miscarriage\n",
    "plt.figure(figsize=(12,8))\n",
    "mis_top.plot.barh(rot=0, color='red')"
   ]
  },
  {
   "cell_type": "code",
   "execution_count": 125,
   "metadata": {},
   "outputs": [
    {
     "data": {
      "text/plain": [
       "<AxesSubplot:>"
      ]
     },
     "execution_count": 125,
     "metadata": {},
     "output_type": "execute_result"
    },
    {
     "data": {
      "image/png": "[encoded data removed]",
      "text/plain": [
       "<Figure size 864x576 with 1 Axes>"
      ]
     },
     "metadata": {
      "needs_background": "light"
     },
     "output_type": "display_data"
    }
   ],
   "source": [
    "# Plotting the top 20 words for r/TryingForABaby\n",
    "plt.figure(figsize=(12,8))\n",
    "try_top.plot.barh(rot=0, color='pink')"
   ]
  },
  {
   "cell_type": "markdown",
   "metadata": {},
   "source": [
    "About 60% of the top 2000 words actually appears in both subreddits. Even in the top 20 words, more than half of them are overlapping but with different level of occurence. "
   ]
  },
  {
   "cell_type": "code",
   "execution_count": 126,
   "metadata": {},
   "outputs": [
    {
     "data": {
      "text/plain": [
       "(828, 2000)"
      ]
     },
     "execution_count": 126,
     "metadata": {},
     "output_type": "execute_result"
    }
   ],
   "source": [
    "mis_features_df.shape"
   ]
  },
  {
   "cell_type": "code",
   "execution_count": 127,
   "metadata": {},
   "outputs": [
    {
     "data": {
      "text/plain": [
       "Index(['abdomin', 'abl', 'abl get', 'abnorm', 'abort', 'absolut', 'abus',\n",
       "       'accept', 'accord', 'account',\n",
       "       ...\n",
       "       'year ago', 'year old', 'yell', 'yesterday', 'yesterday start', 'yet',\n",
       "       'yolk', 'yolk sac', 'young', 'zero'],\n",
       "      dtype='object', length=2000)"
      ]
     },
     "execution_count": 127,
     "metadata": {},
     "output_type": "execute_result"
    }
   ],
   "source": [
    "mis_features_df.columns"
   ]
  },
  {
   "cell_type": "code",
   "execution_count": 128,
   "metadata": {},
   "outputs": [
    {
     "data": {
      "text/plain": [
       "(875, 2000)"
      ]
     },
     "execution_count": 128,
     "metadata": {},
     "output_type": "execute_result"
    }
   ],
   "source": [
    "try_features_df.shape"
   ]
  },
  {
   "cell_type": "code",
   "execution_count": 129,
   "metadata": {},
   "outputs": [
    {
     "data": {
      "text/plain": [
       "Index(['abil', 'abl', 'abl get', 'abnorm', 'absolut', 'accept', 'accord',\n",
       "       'account', 'accur', 'acid',\n",
       "       ...\n",
       "       'year old', 'year recent', 'year sinc', 'year tri', 'year ttc',\n",
       "       'yesterday', 'yesterday today', 'yet', 'young', 'youtub'],\n",
       "      dtype='object', length=2000)"
      ]
     },
     "execution_count": 129,
     "metadata": {},
     "output_type": "execute_result"
    }
   ],
   "source": [
    "try_features_df.columns"
   ]
  },
  {
   "cell_type": "code",
   "execution_count": 130,
   "metadata": {},
   "outputs": [
    {
     "data": {
      "text/plain": [
       "1194"
      ]
     },
     "execution_count": 130,
     "metadata": {},
     "output_type": "execute_result"
    }
   ],
   "source": [
    "common = set(mis_features_df.columns)&set(try_features_df.columns)\n",
    "len(common)"
   ]
  },
  {
   "cell_type": "code",
   "execution_count": 131,
   "metadata": {},
   "outputs": [
    {
     "data": {
      "text/plain": [
       "11      hope iui near end august bfp present wife toda...\n",
       "1617    best friend surpris babi shower two week organ...\n",
       "232     hi husband bare begun discuss idea get pregnan...\n",
       "1595    today boyfriend friend wife babi shower due we...\n",
       "1285    last period may miss two period found pregnant...\n",
       "Name: cleantext, dtype: object"
      ]
     },
     "execution_count": 131,
     "metadata": {},
     "output_type": "execute_result"
    }
   ],
   "source": [
    "X_test.head()"
   ]
  },
  {
   "cell_type": "code",
   "execution_count": 132,
   "metadata": {},
   "outputs": [
    {
     "data": {
      "text/plain": [
       "11      1\n",
       "1617    0\n",
       "232     1\n",
       "1595    0\n",
       "1285    0\n",
       "Name: label, dtype: int64"
      ]
     },
     "execution_count": 132,
     "metadata": {},
     "output_type": "execute_result"
    }
   ],
   "source": [
    "y_test.head()"
   ]
  },
  {
   "cell_type": "code",
   "execution_count": 133,
   "metadata": {},
   "outputs": [
    {
     "data": {
      "text/plain": [
       "array([1, 0, 1, 0, 0])"
      ]
     },
     "execution_count": 133,
     "metadata": {},
     "output_type": "execute_result"
    }
   ],
   "source": [
    "pred_4[:5]"
   ]
  },
  {
   "cell_type": "code",
   "execution_count": 134,
   "metadata": {},
   "outputs": [
    {
     "data": {
      "text/html": [
       "<div>\n",
       "<style scoped>\n",
       "    .dataframe tbody tr th:only-of-type {\n",
       "        vertical-align: middle;\n",
       "    }\n",
       "\n",
       "    .dataframe tbody tr th {\n",
       "        vertical-align: top;\n",
       "    }\n",
       "\n",
       "    .dataframe thead th {\n",
       "        text-align: right;\n",
       "    }\n",
       "</style>\n",
       "<table border=\"1\" class=\"dataframe\">\n",
       "  <thead>\n",
       "    <tr style=\"text-align: right;\">\n",
       "      <th></th>\n",
       "      <th>cleantext</th>\n",
       "    </tr>\n",
       "  </thead>\n",
       "  <tbody>\n",
       "    <tr>\n",
       "      <th>11</th>\n",
       "      <td>hope iui near end august bfp present wife toda...</td>\n",
       "    </tr>\n",
       "    <tr>\n",
       "      <th>1617</th>\n",
       "      <td>best friend surpris babi shower two week organ...</td>\n",
       "    </tr>\n",
       "    <tr>\n",
       "      <th>232</th>\n",
       "      <td>hi husband bare begun discuss idea get pregnan...</td>\n",
       "    </tr>\n",
       "    <tr>\n",
       "      <th>1595</th>\n",
       "      <td>today boyfriend friend wife babi shower due we...</td>\n",
       "    </tr>\n",
       "    <tr>\n",
       "      <th>1285</th>\n",
       "      <td>last period may miss two period found pregnant...</td>\n",
       "    </tr>\n",
       "  </tbody>\n",
       "</table>\n",
       "</div>"
      ],
      "text/plain": [
       "                                              cleantext\n",
       "11    hope iui near end august bfp present wife toda...\n",
       "1617  best friend surpris babi shower two week organ...\n",
       "232   hi husband bare begun discuss idea get pregnan...\n",
       "1595  today boyfriend friend wife babi shower due we...\n",
       "1285  last period may miss two period found pregnant..."
      ]
     },
     "execution_count": 134,
     "metadata": {},
     "output_type": "execute_result"
    }
   ],
   "source": [
    "test_text = X_test.to_frame()\n",
    "test_text.head()"
   ]
  },
  {
   "cell_type": "code",
   "execution_count": 135,
   "metadata": {},
   "outputs": [
    {
     "data": {
      "text/html": [
       "<div>\n",
       "<style scoped>\n",
       "    .dataframe tbody tr th:only-of-type {\n",
       "        vertical-align: middle;\n",
       "    }\n",
       "\n",
       "    .dataframe tbody tr th {\n",
       "        vertical-align: top;\n",
       "    }\n",
       "\n",
       "    .dataframe thead th {\n",
       "        text-align: right;\n",
       "    }\n",
       "</style>\n",
       "<table border=\"1\" class=\"dataframe\">\n",
       "  <thead>\n",
       "    <tr style=\"text-align: right;\">\n",
       "      <th></th>\n",
       "      <th>label</th>\n",
       "    </tr>\n",
       "  </thead>\n",
       "  <tbody>\n",
       "    <tr>\n",
       "      <th>11</th>\n",
       "      <td>1</td>\n",
       "    </tr>\n",
       "    <tr>\n",
       "      <th>1617</th>\n",
       "      <td>0</td>\n",
       "    </tr>\n",
       "    <tr>\n",
       "      <th>232</th>\n",
       "      <td>1</td>\n",
       "    </tr>\n",
       "    <tr>\n",
       "      <th>1595</th>\n",
       "      <td>0</td>\n",
       "    </tr>\n",
       "    <tr>\n",
       "      <th>1285</th>\n",
       "      <td>0</td>\n",
       "    </tr>\n",
       "  </tbody>\n",
       "</table>\n",
       "</div>"
      ],
      "text/plain": [
       "      label\n",
       "11        1\n",
       "1617      0\n",
       "232       1\n",
       "1595      0\n",
       "1285      0"
      ]
     },
     "execution_count": 135,
     "metadata": {},
     "output_type": "execute_result"
    }
   ],
   "source": [
    "test_y = y_test.to_frame()\n",
    "test_y.head()"
   ]
  },
  {
   "cell_type": "code",
   "execution_count": 136,
   "metadata": {},
   "outputs": [
    {
     "data": {
      "text/html": [
       "<div>\n",
       "<style scoped>\n",
       "    .dataframe tbody tr th:only-of-type {\n",
       "        vertical-align: middle;\n",
       "    }\n",
       "\n",
       "    .dataframe tbody tr th {\n",
       "        vertical-align: top;\n",
       "    }\n",
       "\n",
       "    .dataframe thead th {\n",
       "        text-align: right;\n",
       "    }\n",
       "</style>\n",
       "<table border=\"1\" class=\"dataframe\">\n",
       "  <thead>\n",
       "    <tr style=\"text-align: right;\">\n",
       "      <th></th>\n",
       "      <th>cleantext</th>\n",
       "      <th>label</th>\n",
       "    </tr>\n",
       "  </thead>\n",
       "  <tbody>\n",
       "    <tr>\n",
       "      <th>11</th>\n",
       "      <td>hope iui near end august bfp present wife toda...</td>\n",
       "      <td>1</td>\n",
       "    </tr>\n",
       "    <tr>\n",
       "      <th>1617</th>\n",
       "      <td>best friend surpris babi shower two week organ...</td>\n",
       "      <td>0</td>\n",
       "    </tr>\n",
       "    <tr>\n",
       "      <th>232</th>\n",
       "      <td>hi husband bare begun discuss idea get pregnan...</td>\n",
       "      <td>1</td>\n",
       "    </tr>\n",
       "    <tr>\n",
       "      <th>1595</th>\n",
       "      <td>today boyfriend friend wife babi shower due we...</td>\n",
       "      <td>0</td>\n",
       "    </tr>\n",
       "    <tr>\n",
       "      <th>1285</th>\n",
       "      <td>last period may miss two period found pregnant...</td>\n",
       "      <td>0</td>\n",
       "    </tr>\n",
       "  </tbody>\n",
       "</table>\n",
       "</div>"
      ],
      "text/plain": [
       "                                              cleantext  label\n",
       "11    hope iui near end august bfp present wife toda...      1\n",
       "1617  best friend surpris babi shower two week organ...      0\n",
       "232   hi husband bare begun discuss idea get pregnan...      1\n",
       "1595  today boyfriend friend wife babi shower due we...      0\n",
       "1285  last period may miss two period found pregnant...      0"
      ]
     },
     "execution_count": 136,
     "metadata": {},
     "output_type": "execute_result"
    }
   ],
   "source": [
    "test_df = pd.concat([test_text, test_y], axis=1)\n",
    "test_df.head()"
   ]
  },
  {
   "cell_type": "code",
   "execution_count": 137,
   "metadata": {},
   "outputs": [
    {
     "data": {
      "text/html": [
       "<div>\n",
       "<style scoped>\n",
       "    .dataframe tbody tr th:only-of-type {\n",
       "        vertical-align: middle;\n",
       "    }\n",
       "\n",
       "    .dataframe tbody tr th {\n",
       "        vertical-align: top;\n",
       "    }\n",
       "\n",
       "    .dataframe thead th {\n",
       "        text-align: right;\n",
       "    }\n",
       "</style>\n",
       "<table border=\"1\" class=\"dataframe\">\n",
       "  <thead>\n",
       "    <tr style=\"text-align: right;\">\n",
       "      <th></th>\n",
       "      <th>cleantext</th>\n",
       "      <th>label</th>\n",
       "      <th>pred</th>\n",
       "    </tr>\n",
       "  </thead>\n",
       "  <tbody>\n",
       "    <tr>\n",
       "      <th>11</th>\n",
       "      <td>hope iui near end august bfp present wife toda...</td>\n",
       "      <td>1</td>\n",
       "      <td>1</td>\n",
       "    </tr>\n",
       "    <tr>\n",
       "      <th>1617</th>\n",
       "      <td>best friend surpris babi shower two week organ...</td>\n",
       "      <td>0</td>\n",
       "      <td>0</td>\n",
       "    </tr>\n",
       "    <tr>\n",
       "      <th>232</th>\n",
       "      <td>hi husband bare begun discuss idea get pregnan...</td>\n",
       "      <td>1</td>\n",
       "      <td>1</td>\n",
       "    </tr>\n",
       "    <tr>\n",
       "      <th>1595</th>\n",
       "      <td>today boyfriend friend wife babi shower due we...</td>\n",
       "      <td>0</td>\n",
       "      <td>0</td>\n",
       "    </tr>\n",
       "    <tr>\n",
       "      <th>1285</th>\n",
       "      <td>last period may miss two period found pregnant...</td>\n",
       "      <td>0</td>\n",
       "      <td>0</td>\n",
       "    </tr>\n",
       "  </tbody>\n",
       "</table>\n",
       "</div>"
      ],
      "text/plain": [
       "                                              cleantext  label  pred\n",
       "11    hope iui near end august bfp present wife toda...      1     1\n",
       "1617  best friend surpris babi shower two week organ...      0     0\n",
       "232   hi husband bare begun discuss idea get pregnan...      1     1\n",
       "1595  today boyfriend friend wife babi shower due we...      0     0\n",
       "1285  last period may miss two period found pregnant...      0     0"
      ]
     },
     "execution_count": 137,
     "metadata": {},
     "output_type": "execute_result"
    }
   ],
   "source": [
    "test_df['pred'] = pred_4\n",
    "test_df.head()"
   ]
  },
  {
   "cell_type": "code",
   "execution_count": 138,
   "metadata": {},
   "outputs": [
    {
     "data": {
      "text/plain": [
       "(10, 3)"
      ]
     },
     "execution_count": 138,
     "metadata": {},
     "output_type": "execute_result"
    }
   ],
   "source": [
    "false_positives = test_df[(test_df['label']!=test_df['pred']) & (test_df['pred']==1)]\n",
    "false_positives.shape"
   ]
  },
  {
   "cell_type": "code",
   "execution_count": 139,
   "metadata": {},
   "outputs": [
    {
     "data": {
      "text/plain": [
       "Int64Index([1006, 1056, 1731, 974, 1552, 1284, 1087, 1032, 1672, 1623], dtype='int64')"
      ]
     },
     "execution_count": 139,
     "metadata": {},
     "output_type": "execute_result"
    }
   ],
   "source": [
    "false_positives.index"
   ]
  },
  {
   "cell_type": "code",
   "execution_count": 140,
   "metadata": {},
   "outputs": [
    {
     "data": {
      "text/html": [
       "<div>\n",
       "<style scoped>\n",
       "    .dataframe tbody tr th:only-of-type {\n",
       "        vertical-align: middle;\n",
       "    }\n",
       "\n",
       "    .dataframe tbody tr th {\n",
       "        vertical-align: top;\n",
       "    }\n",
       "\n",
       "    .dataframe thead th {\n",
       "        text-align: right;\n",
       "    }\n",
       "</style>\n",
       "<table border=\"1\" class=\"dataframe\">\n",
       "  <thead>\n",
       "    <tr style=\"text-align: right;\">\n",
       "      <th></th>\n",
       "      <th>cleantext</th>\n",
       "      <th>label</th>\n",
       "      <th>pred</th>\n",
       "    </tr>\n",
       "  </thead>\n",
       "  <tbody>\n",
       "    <tr>\n",
       "      <th>1006</th>\n",
       "      <td>long vent warn mmc week c week ago time partic...</td>\n",
       "      <td>0</td>\n",
       "      <td>1</td>\n",
       "    </tr>\n",
       "    <tr>\n",
       "      <th>1056</th>\n",
       "      <td>anyon recommend pill vitamin miner tip mc</td>\n",
       "      <td>0</td>\n",
       "      <td>1</td>\n",
       "    </tr>\n",
       "    <tr>\n",
       "      <th>1731</th>\n",
       "      <td>tomorrow get tattoo miscarriag decid get mount...</td>\n",
       "      <td>0</td>\n",
       "      <td>1</td>\n",
       "    </tr>\n",
       "    <tr>\n",
       "      <th>974</th>\n",
       "      <td>miscarriag string art http imgur com galleri icf</td>\n",
       "      <td>0</td>\n",
       "      <td>1</td>\n",
       "    </tr>\n",
       "    <tr>\n",
       "      <th>1552</th>\n",
       "      <td>alway kept journal yesterday start new section...</td>\n",
       "      <td>0</td>\n",
       "      <td>1</td>\n",
       "    </tr>\n",
       "  </tbody>\n",
       "</table>\n",
       "</div>"
      ],
      "text/plain": [
       "                                              cleantext  label  pred\n",
       "1006  long vent warn mmc week c week ago time partic...      0     1\n",
       "1056          anyon recommend pill vitamin miner tip mc      0     1\n",
       "1731  tomorrow get tattoo miscarriag decid get mount...      0     1\n",
       "974    miscarriag string art http imgur com galleri icf      0     1\n",
       "1552  alway kept journal yesterday start new section...      0     1"
      ]
     },
     "execution_count": 140,
     "metadata": {},
     "output_type": "execute_result"
    }
   ],
   "source": [
    "false_positives.head()"
   ]
  },
  {
   "cell_type": "code",
   "execution_count": 141,
   "metadata": {},
   "outputs": [
    {
     "data": {
      "text/html": [
       "<div>\n",
       "<style scoped>\n",
       "    .dataframe tbody tr th:only-of-type {\n",
       "        vertical-align: middle;\n",
       "    }\n",
       "\n",
       "    .dataframe tbody tr th {\n",
       "        vertical-align: top;\n",
       "    }\n",
       "\n",
       "    .dataframe thead th {\n",
       "        text-align: right;\n",
       "    }\n",
       "</style>\n",
       "<table border=\"1\" class=\"dataframe\">\n",
       "  <thead>\n",
       "    <tr style=\"text-align: right;\">\n",
       "      <th></th>\n",
       "      <th>selftext</th>\n",
       "    </tr>\n",
       "  </thead>\n",
       "  <tbody>\n",
       "    <tr>\n",
       "      <th>974</th>\n",
       "      <td>[miscarriage string art ](https://imgur.com/ga...</td>\n",
       "    </tr>\n",
       "    <tr>\n",
       "      <th>1006</th>\n",
       "      <td>Long vent warning. \\nHad a MMC at 9 weeks and ...</td>\n",
       "    </tr>\n",
       "    <tr>\n",
       "      <th>1032</th>\n",
       "      <td>I have had a MC and wanted to know how long it...</td>\n",
       "    </tr>\n",
       "    <tr>\n",
       "      <th>1056</th>\n",
       "      <td>Can anyone recommend any pills/ vitamins/ mine...</td>\n",
       "    </tr>\n",
       "    <tr>\n",
       "      <th>1087</th>\n",
       "      <td>I guess the title explains it all. It's disapp...</td>\n",
       "    </tr>\n",
       "  </tbody>\n",
       "</table>\n",
       "</div>"
      ],
      "text/plain": [
       "                                               selftext\n",
       "974   [miscarriage string art ](https://imgur.com/ga...\n",
       "1006  Long vent warning. \\nHad a MMC at 9 weeks and ...\n",
       "1032  I have had a MC and wanted to know how long it...\n",
       "1056  Can anyone recommend any pills/ vitamins/ mine...\n",
       "1087  I guess the title explains it all. It's disapp..."
      ]
     },
     "execution_count": 141,
     "metadata": {},
     "output_type": "execute_result"
    }
   ],
   "source": [
    "fp_selftext = train[train.index.isin(false_positives.index)]['selftext'].to_frame()\n",
    "fp_selftext.head()"
   ]
  },
  {
   "cell_type": "code",
   "execution_count": 142,
   "metadata": {},
   "outputs": [
    {
     "data": {
      "text/html": [
       "<div>\n",
       "<style scoped>\n",
       "    .dataframe tbody tr th:only-of-type {\n",
       "        vertical-align: middle;\n",
       "    }\n",
       "\n",
       "    .dataframe tbody tr th {\n",
       "        vertical-align: top;\n",
       "    }\n",
       "\n",
       "    .dataframe thead th {\n",
       "        text-align: right;\n",
       "    }\n",
       "</style>\n",
       "<table border=\"1\" class=\"dataframe\">\n",
       "  <thead>\n",
       "    <tr style=\"text-align: right;\">\n",
       "      <th></th>\n",
       "      <th>cleantext</th>\n",
       "      <th>label</th>\n",
       "      <th>pred</th>\n",
       "      <th>selftext</th>\n",
       "    </tr>\n",
       "  </thead>\n",
       "  <tbody>\n",
       "    <tr>\n",
       "      <th>974</th>\n",
       "      <td>miscarriag string art http imgur com galleri icf</td>\n",
       "      <td>0</td>\n",
       "      <td>1</td>\n",
       "      <td>[miscarriage string art ](https://imgur.com/ga...</td>\n",
       "    </tr>\n",
       "    <tr>\n",
       "      <th>1006</th>\n",
       "      <td>long vent warn mmc week c week ago time partic...</td>\n",
       "      <td>0</td>\n",
       "      <td>1</td>\n",
       "      <td>Long vent warning. \\nHad a MMC at 9 weeks and ...</td>\n",
       "    </tr>\n",
       "    <tr>\n",
       "      <th>1032</th>\n",
       "      <td>mc want know long take longer test posit</td>\n",
       "      <td>0</td>\n",
       "      <td>1</td>\n",
       "      <td>I have had a MC and wanted to know how long it...</td>\n",
       "    </tr>\n",
       "    <tr>\n",
       "      <th>1056</th>\n",
       "      <td>anyon recommend pill vitamin miner tip mc</td>\n",
       "      <td>0</td>\n",
       "      <td>1</td>\n",
       "      <td>Can anyone recommend any pills/ vitamins/ mine...</td>\n",
       "    </tr>\n",
       "    <tr>\n",
       "      <th>1087</th>\n",
       "      <td>guess titl explain disappoint babi shower atte...</td>\n",
       "      <td>0</td>\n",
       "      <td>1</td>\n",
       "      <td>I guess the title explains it all. It's disapp...</td>\n",
       "    </tr>\n",
       "  </tbody>\n",
       "</table>\n",
       "</div>"
      ],
      "text/plain": [
       "                                              cleantext  label  pred  \\\n",
       "974    miscarriag string art http imgur com galleri icf      0     1   \n",
       "1006  long vent warn mmc week c week ago time partic...      0     1   \n",
       "1032           mc want know long take longer test posit      0     1   \n",
       "1056          anyon recommend pill vitamin miner tip mc      0     1   \n",
       "1087  guess titl explain disappoint babi shower atte...      0     1   \n",
       "\n",
       "                                               selftext  \n",
       "974   [miscarriage string art ](https://imgur.com/ga...  \n",
       "1006  Long vent warning. \\nHad a MMC at 9 weeks and ...  \n",
       "1032  I have had a MC and wanted to know how long it...  \n",
       "1056  Can anyone recommend any pills/ vitamins/ mine...  \n",
       "1087  I guess the title explains it all. It's disapp...  "
      ]
     },
     "execution_count": 142,
     "metadata": {},
     "output_type": "execute_result"
    }
   ],
   "source": [
    "false_positives = pd.concat([false_positives, fp_selftext], axis=1)\n",
    "false_positives.head()"
   ]
  },
  {
   "cell_type": "code",
   "execution_count": 143,
   "metadata": {},
   "outputs": [],
   "source": [
    "fp_text = false_positives['selftext'].to_list()"
   ]
  },
  {
   "cell_type": "code",
   "execution_count": 144,
   "metadata": {},
   "outputs": [
    {
     "data": {
      "text/plain": [
       "'Can anyone recommend any pills/ vitamins/ minerals/ tips after a MC?'"
      ]
     },
     "execution_count": 144,
     "metadata": {},
     "output_type": "execute_result"
    }
   ],
   "source": [
    "fp_text[3]"
   ]
  },
  {
   "cell_type": "code",
   "execution_count": 145,
   "metadata": {},
   "outputs": [],
   "source": [
    "false_positives.to_csv('datasets/false_positives.csv')"
   ]
  },
  {
   "cell_type": "code",
   "execution_count": 146,
   "metadata": {},
   "outputs": [
    {
     "data": {
      "text/plain": [
       "(32, 3)"
      ]
     },
     "execution_count": 146,
     "metadata": {},
     "output_type": "execute_result"
    }
   ],
   "source": [
    "false_negatives = test_df[(test_df['label']!=test_df['pred']) & (test_df['pred']==0)]\n",
    "false_negatives.shape"
   ]
  },
  {
   "cell_type": "code",
   "execution_count": 147,
   "metadata": {},
   "outputs": [
    {
     "data": {
      "text/html": [
       "<div>\n",
       "<style scoped>\n",
       "    .dataframe tbody tr th:only-of-type {\n",
       "        vertical-align: middle;\n",
       "    }\n",
       "\n",
       "    .dataframe tbody tr th {\n",
       "        vertical-align: top;\n",
       "    }\n",
       "\n",
       "    .dataframe thead th {\n",
       "        text-align: right;\n",
       "    }\n",
       "</style>\n",
       "<table border=\"1\" class=\"dataframe\">\n",
       "  <thead>\n",
       "    <tr style=\"text-align: right;\">\n",
       "      <th></th>\n",
       "      <th>selftext</th>\n",
       "    </tr>\n",
       "  </thead>\n",
       "  <tbody>\n",
       "    <tr>\n",
       "      <th>4</th>\n",
       "      <td>Just a quick lament.. why, just why, does it s...</td>\n",
       "    </tr>\n",
       "    <tr>\n",
       "      <th>24</th>\n",
       "      <td>I'll leave my background information related t...</td>\n",
       "    </tr>\n",
       "    <tr>\n",
       "      <th>114</th>\n",
       "      <td>Hi all! I wanted to take a moment (edit: or no...</td>\n",
       "    </tr>\n",
       "    <tr>\n",
       "      <th>250</th>\n",
       "      <td>Does anyone else struggle with their sibling’s...</td>\n",
       "    </tr>\n",
       "    <tr>\n",
       "      <th>321</th>\n",
       "      <td>I am experiencing my first early miscarriage a...</td>\n",
       "    </tr>\n",
       "  </tbody>\n",
       "</table>\n",
       "</div>"
      ],
      "text/plain": [
       "                                              selftext\n",
       "4    Just a quick lament.. why, just why, does it s...\n",
       "24   I'll leave my background information related t...\n",
       "114  Hi all! I wanted to take a moment (edit: or no...\n",
       "250  Does anyone else struggle with their sibling’s...\n",
       "321  I am experiencing my first early miscarriage a..."
      ]
     },
     "execution_count": 147,
     "metadata": {},
     "output_type": "execute_result"
    }
   ],
   "source": [
    "fn_selftext = train[train.index.isin(false_negatives.index)]['selftext'].to_frame()\n",
    "fn_selftext.head()"
   ]
  },
  {
   "cell_type": "code",
   "execution_count": 148,
   "metadata": {},
   "outputs": [
    {
     "data": {
      "text/html": [
       "<div>\n",
       "<style scoped>\n",
       "    .dataframe tbody tr th:only-of-type {\n",
       "        vertical-align: middle;\n",
       "    }\n",
       "\n",
       "    .dataframe tbody tr th {\n",
       "        vertical-align: top;\n",
       "    }\n",
       "\n",
       "    .dataframe thead th {\n",
       "        text-align: right;\n",
       "    }\n",
       "</style>\n",
       "<table border=\"1\" class=\"dataframe\">\n",
       "  <thead>\n",
       "    <tr style=\"text-align: right;\">\n",
       "      <th></th>\n",
       "      <th>cleantext</th>\n",
       "      <th>label</th>\n",
       "      <th>pred</th>\n",
       "      <th>selftext</th>\n",
       "    </tr>\n",
       "  </thead>\n",
       "  <tbody>\n",
       "    <tr>\n",
       "      <th>4</th>\n",
       "      <td>quick lament seem like contact facebook babi k...</td>\n",
       "      <td>1</td>\n",
       "      <td>0</td>\n",
       "      <td>Just a quick lament.. why, just why, does it s...</td>\n",
       "    </tr>\n",
       "    <tr>\n",
       "      <th>24</th>\n",
       "      <td>leav background inform relat actual get test h...</td>\n",
       "      <td>1</td>\n",
       "      <td>0</td>\n",
       "      <td>I'll leave my background information related t...</td>\n",
       "    </tr>\n",
       "    <tr>\n",
       "      <th>114</th>\n",
       "      <td>hi want take moment edit end realli long post ...</td>\n",
       "      <td>1</td>\n",
       "      <td>0</td>\n",
       "      <td>Hi all! I wanted to take a moment (edit: or no...</td>\n",
       "    </tr>\n",
       "    <tr>\n",
       "      <th>250</th>\n",
       "      <td>anyon els struggl sibl partner relationship mo...</td>\n",
       "      <td>1</td>\n",
       "      <td>0</td>\n",
       "      <td>Does anyone else struggle with their sibling’s...</td>\n",
       "    </tr>\n",
       "    <tr>\n",
       "      <th>321</th>\n",
       "      <td>experienc first earli miscarriag found due low...</td>\n",
       "      <td>1</td>\n",
       "      <td>0</td>\n",
       "      <td>I am experiencing my first early miscarriage a...</td>\n",
       "    </tr>\n",
       "  </tbody>\n",
       "</table>\n",
       "</div>"
      ],
      "text/plain": [
       "                                             cleantext  label  pred  \\\n",
       "4    quick lament seem like contact facebook babi k...      1     0   \n",
       "24   leav background inform relat actual get test h...      1     0   \n",
       "114  hi want take moment edit end realli long post ...      1     0   \n",
       "250  anyon els struggl sibl partner relationship mo...      1     0   \n",
       "321  experienc first earli miscarriag found due low...      1     0   \n",
       "\n",
       "                                              selftext  \n",
       "4    Just a quick lament.. why, just why, does it s...  \n",
       "24   I'll leave my background information related t...  \n",
       "114  Hi all! I wanted to take a moment (edit: or no...  \n",
       "250  Does anyone else struggle with their sibling’s...  \n",
       "321  I am experiencing my first early miscarriage a...  "
      ]
     },
     "execution_count": 148,
     "metadata": {},
     "output_type": "execute_result"
    }
   ],
   "source": [
    "false_negatives = pd.concat([false_negatives, fn_selftext], axis=1)\n",
    "false_negatives.head()"
   ]
  },
  {
   "cell_type": "code",
   "execution_count": 149,
   "metadata": {},
   "outputs": [],
   "source": [
    "false_negatives.to_csv('datasets/false_negatives.csv')"
   ]
  },
  {
   "cell_type": "code",
   "execution_count": 150,
   "metadata": {},
   "outputs": [],
   "source": [
    "false_results = pd.concat([false_positives, false_negatives])"
   ]
  },
  {
   "cell_type": "code",
   "execution_count": 151,
   "metadata": {},
   "outputs": [
    {
     "data": {
      "text/plain": [
       "(42, 4)"
      ]
     },
     "execution_count": 151,
     "metadata": {},
     "output_type": "execute_result"
    }
   ],
   "source": [
    "false_results.shape"
   ]
  },
  {
   "cell_type": "code",
   "execution_count": 152,
   "metadata": {},
   "outputs": [],
   "source": [
    "miscarriage_words = mis_features_df.columns.to_list()"
   ]
  },
  {
   "cell_type": "code",
   "execution_count": 153,
   "metadata": {},
   "outputs": [
    {
     "data": {
      "text/plain": [
       "2000"
      ]
     },
     "execution_count": 153,
     "metadata": {},
     "output_type": "execute_result"
    }
   ],
   "source": [
    "trying_words = try_features_df.columns.to_list()\n",
    "len(trying_words)"
   ]
  },
  {
   "cell_type": "code",
   "execution_count": 154,
   "metadata": {},
   "outputs": [
    {
     "data": {
      "text/html": [
       "<div>\n",
       "<style scoped>\n",
       "    .dataframe tbody tr th:only-of-type {\n",
       "        vertical-align: middle;\n",
       "    }\n",
       "\n",
       "    .dataframe tbody tr th {\n",
       "        vertical-align: top;\n",
       "    }\n",
       "\n",
       "    .dataframe thead th {\n",
       "        text-align: right;\n",
       "    }\n",
       "</style>\n",
       "<table border=\"1\" class=\"dataframe\">\n",
       "  <thead>\n",
       "    <tr style=\"text-align: right;\">\n",
       "      <th></th>\n",
       "      <th>cleantext</th>\n",
       "      <th>label</th>\n",
       "      <th>pred</th>\n",
       "      <th>selftext</th>\n",
       "    </tr>\n",
       "  </thead>\n",
       "  <tbody>\n",
       "    <tr>\n",
       "      <th>974</th>\n",
       "      <td>miscarriag string art http imgur com galleri icf</td>\n",
       "      <td>0</td>\n",
       "      <td>1</td>\n",
       "      <td>[miscarriage string art ](https://imgur.com/ga...</td>\n",
       "    </tr>\n",
       "    <tr>\n",
       "      <th>1006</th>\n",
       "      <td>long vent warn mmc week c week ago time partic...</td>\n",
       "      <td>0</td>\n",
       "      <td>1</td>\n",
       "      <td>Long vent warning. \\nHad a MMC at 9 weeks and ...</td>\n",
       "    </tr>\n",
       "    <tr>\n",
       "      <th>1032</th>\n",
       "      <td>mc want know long take longer test posit</td>\n",
       "      <td>0</td>\n",
       "      <td>1</td>\n",
       "      <td>I have had a MC and wanted to know how long it...</td>\n",
       "    </tr>\n",
       "    <tr>\n",
       "      <th>1056</th>\n",
       "      <td>anyon recommend pill vitamin miner tip mc</td>\n",
       "      <td>0</td>\n",
       "      <td>1</td>\n",
       "      <td>Can anyone recommend any pills/ vitamins/ mine...</td>\n",
       "    </tr>\n",
       "    <tr>\n",
       "      <th>1087</th>\n",
       "      <td>guess titl explain disappoint babi shower atte...</td>\n",
       "      <td>0</td>\n",
       "      <td>1</td>\n",
       "      <td>I guess the title explains it all. It's disapp...</td>\n",
       "    </tr>\n",
       "  </tbody>\n",
       "</table>\n",
       "</div>"
      ],
      "text/plain": [
       "                                              cleantext  label  pred  \\\n",
       "974    miscarriag string art http imgur com galleri icf      0     1   \n",
       "1006  long vent warn mmc week c week ago time partic...      0     1   \n",
       "1032           mc want know long take longer test posit      0     1   \n",
       "1056          anyon recommend pill vitamin miner tip mc      0     1   \n",
       "1087  guess titl explain disappoint babi shower atte...      0     1   \n",
       "\n",
       "                                               selftext  \n",
       "974   [miscarriage string art ](https://imgur.com/ga...  \n",
       "1006  Long vent warning. \\nHad a MMC at 9 weeks and ...  \n",
       "1032  I have had a MC and wanted to know how long it...  \n",
       "1056  Can anyone recommend any pills/ vitamins/ mine...  \n",
       "1087  I guess the title explains it all. It's disapp...  "
      ]
     },
     "execution_count": 154,
     "metadata": {},
     "output_type": "execute_result"
    }
   ],
   "source": [
    "false_results.head()"
   ]
  },
  {
   "cell_type": "code",
   "execution_count": 155,
   "metadata": {},
   "outputs": [],
   "source": [
    "# Define a function to return top 2000 words in tryingforababy or miscarriage subreddit\n",
    "def common_words(df, index):\n",
    "    if df.loc[index,'label'] == 1:\n",
    "        print ('This text is a false negative. It is actually a post in r/TryingForABaby.')\n",
    "    else:\n",
    "        print ('This text is a false positive. It is actually a post in r/Miscarriage.')\n",
    "    \n",
    "    print ('\\nOriginal text:\\n')\n",
    "    print ('{}'.format(df.loc[index,'selftext']))\n",
    "    \n",
    "    print ('\\nList of top common words in Miscarriage subreddit:\\n')\n",
    "    mis_common = list(set(miscarriage_words) & set(df.loc[index,'cleantext'].split(\" \")))\n",
    "    print (mis_common)\n",
    "    \n",
    "    print ('\\nList of top common words in TryingForABaby subreddit:\\n')\n",
    "    try_common = list(set(trying_words) & set(df.loc[index,'cleantext'].split(\" \")))\n",
    "    print (try_common)\n",
    "    \n",
    "    common = list(set(try_common) & set(mis_common))"
   ]
  },
  {
   "cell_type": "code",
   "execution_count": 163,
   "metadata": {},
   "outputs": [
    {
     "name": "stdout",
     "output_type": "stream",
     "text": [
      "This text is a false positive. It is actually a post in r/Miscarriage.\n",
      "\n",
      "Original text:\n",
      "\n",
      "I have had a MC and wanted to know how long it will take to no longer test positive?\n",
      "\n",
      "List of top common words in Miscarriage subreddit:\n",
      "\n",
      "['long', 'longer', 'want', 'know', 'posit', 'test', 'mc', 'take']\n",
      "\n",
      "List of top common words in TryingForABaby subreddit:\n",
      "\n",
      "['long', 'longer', 'want', 'know', 'posit', 'test', 'mc', 'take']\n"
     ]
    }
   ],
   "source": [
    "common_words(false_results, false_results.index[2])"
   ]
  },
  {
   "cell_type": "markdown",
   "metadata": {},
   "source": [
    "When we checked the misclassified text, it was found that these posts contained most words that are overlapping. They got misclassified because they also contains certain words that occurs very frequently which belongs to the other group. As the conditional probability of these words are high, they affected the classification outcome."
   ]
  },
  {
   "cell_type": "markdown",
   "metadata": {},
   "source": [
    "## 6. Key Obervations and Conclusion"
   ]
  },
  {
   "cell_type": "markdown",
   "metadata": {},
   "source": [
    "By using the count vectorizer + Naive Bayes model, we are able to get an accuracy of 91.5% which is performing well given that the nature of the two subreddit topics are very close to each other. In fact, it was found that around 60% of the words are common in both topics but different weightage. To further improve the model, we can analyse the common words found in both groups and create a meaningful list of stopwords instead of using the common stopwords, and run the various models again. "
   ]
  },
  {
   "cell_type": "markdown",
   "metadata": {},
   "source": [
    "For the group that was identified as r/Miscarriage on different social media platforms, we will run target advertisements to spread awareness about our support group and community. With this, we wish to be able to reach out to more women who can share their journey together and be able to reduce the stress that they might experienced alone. "
   ]
  },
  {
   "cell_type": "code",
   "execution_count": null,
   "metadata": {},
   "outputs": [],
   "source": []
  }
 ],
 "metadata": {
  "kernelspec": {
   "display_name": "Python 3",
   "language": "python",
   "name": "python3"
  },
  "language_info": {
   "codemirror_mode": {
    "name": "ipython",
    "version": 3
   },
   "file_extension": ".py",
   "mimetype": "text/x-python",
   "name": "python",
   "nbconvert_exporter": "python",
   "pygments_lexer": "ipython3",
   "version": "3.7.6"
  }
 },
 "nbformat": 4,
 "nbformat_minor": 4
}
